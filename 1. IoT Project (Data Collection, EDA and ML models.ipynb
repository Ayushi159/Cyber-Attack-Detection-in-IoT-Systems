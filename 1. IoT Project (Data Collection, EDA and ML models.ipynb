{
 "cells": [
  {
   "cell_type": "markdown",
   "id": "8207cda5",
   "metadata": {},
   "source": [
    "# Cyber Attack Detection in IoT Systems"
   ]
  },
  {
   "cell_type": "code",
   "execution_count": 1,
   "id": "71eb167b",
   "metadata": {},
   "outputs": [],
   "source": [
    "# library imports\n",
    "\n",
    "import pandas as pd\n",
    "import numpy as np\n",
    "import matplotlib.pyplot as plt\n",
    "import seaborn as sns\n",
    "import warnings\n",
    "warnings.filterwarnings('ignore')"
   ]
  },
  {
   "cell_type": "markdown",
   "id": "0e3fe031",
   "metadata": {},
   "source": [
    "## Dataset Collection"
   ]
  },
  {
   "cell_type": "code",
   "execution_count": 2,
   "id": "93c7a829",
   "metadata": {},
   "outputs": [],
   "source": [
    "# dataset import\n",
    "\n",
    "Network_Traces=pd.read_csv(\"mainSimulationAccessTraces.csv\")"
   ]
  },
  {
   "cell_type": "code",
   "execution_count": 168,
   "id": "cafcacb0",
   "metadata": {
    "scrolled": true
   },
   "outputs": [
    {
     "data": {
      "text/html": [
       "<div>\n",
       "<style scoped>\n",
       "    .dataframe tbody tr th:only-of-type {\n",
       "        vertical-align: middle;\n",
       "    }\n",
       "\n",
       "    .dataframe tbody tr th {\n",
       "        vertical-align: top;\n",
       "    }\n",
       "\n",
       "    .dataframe thead th {\n",
       "        text-align: right;\n",
       "    }\n",
       "</style>\n",
       "<table border=\"1\" class=\"dataframe\">\n",
       "  <thead>\n",
       "    <tr style=\"text-align: right;\">\n",
       "      <th></th>\n",
       "      <th>sourceID</th>\n",
       "      <th>sourceAddress</th>\n",
       "      <th>sourceType</th>\n",
       "      <th>sourceLocation</th>\n",
       "      <th>destinationServiceAddress</th>\n",
       "      <th>destinationServiceType</th>\n",
       "      <th>destinationLocation</th>\n",
       "      <th>accessedNodeAddress</th>\n",
       "      <th>accessedNodeType</th>\n",
       "      <th>operation</th>\n",
       "      <th>value</th>\n",
       "      <th>timestamp</th>\n",
       "      <th>normality</th>\n",
       "    </tr>\n",
       "  </thead>\n",
       "  <tbody>\n",
       "    <tr>\n",
       "      <th>0</th>\n",
       "      <td>lightcontrol2</td>\n",
       "      <td>/agent2/lightcontrol2</td>\n",
       "      <td>/lightControler</td>\n",
       "      <td>BedroomParents</td>\n",
       "      <td>/agent2/lightcontrol2</td>\n",
       "      <td>/lightControler</td>\n",
       "      <td>BedroomParents</td>\n",
       "      <td>/agent2/lightcontrol2</td>\n",
       "      <td>/lightControler</td>\n",
       "      <td>registerService</td>\n",
       "      <td>none</td>\n",
       "      <td>1520031600000</td>\n",
       "      <td>normal</td>\n",
       "    </tr>\n",
       "    <tr>\n",
       "      <th>1</th>\n",
       "      <td>lightcontrol3</td>\n",
       "      <td>/agent3/lightcontrol3</td>\n",
       "      <td>/lightControler</td>\n",
       "      <td>Dinningroom</td>\n",
       "      <td>/agent3/lightcontrol3</td>\n",
       "      <td>/lightControler</td>\n",
       "      <td>Dinningroom</td>\n",
       "      <td>/agent3/lightcontrol3</td>\n",
       "      <td>/lightControler</td>\n",
       "      <td>registerService</td>\n",
       "      <td>none</td>\n",
       "      <td>1520031603269</td>\n",
       "      <td>normal</td>\n",
       "    </tr>\n",
       "    <tr>\n",
       "      <th>2</th>\n",
       "      <td>lightcontrol1</td>\n",
       "      <td>/agent1/lightcontrol1</td>\n",
       "      <td>/lightControler</td>\n",
       "      <td>BedroomChildren</td>\n",
       "      <td>/agent1/lightcontrol1</td>\n",
       "      <td>/lightControler</td>\n",
       "      <td>BedroomChildren</td>\n",
       "      <td>/agent1/lightcontrol1</td>\n",
       "      <td>/lightControler</td>\n",
       "      <td>registerService</td>\n",
       "      <td>none</td>\n",
       "      <td>1520031603279</td>\n",
       "      <td>normal</td>\n",
       "    </tr>\n",
       "    <tr>\n",
       "      <th>3</th>\n",
       "      <td>lightcontrol4</td>\n",
       "      <td>/agent4/lightcontrol4</td>\n",
       "      <td>/lightControler</td>\n",
       "      <td>Kitchen</td>\n",
       "      <td>/agent4/lightcontrol4</td>\n",
       "      <td>/lightControler</td>\n",
       "      <td>Kitchen</td>\n",
       "      <td>/agent4/lightcontrol4</td>\n",
       "      <td>/lightControler</td>\n",
       "      <td>registerService</td>\n",
       "      <td>none</td>\n",
       "      <td>1520031603290</td>\n",
       "      <td>normal</td>\n",
       "    </tr>\n",
       "    <tr>\n",
       "      <th>4</th>\n",
       "      <td>movement4</td>\n",
       "      <td>/agent4/movement4</td>\n",
       "      <td>/movementSensor</td>\n",
       "      <td>Kitchen</td>\n",
       "      <td>/agent4/movement4</td>\n",
       "      <td>/movementSensor</td>\n",
       "      <td>Kitchen</td>\n",
       "      <td>/agent4/movement4</td>\n",
       "      <td>/movementSensor</td>\n",
       "      <td>registerService</td>\n",
       "      <td>none</td>\n",
       "      <td>1520031603464</td>\n",
       "      <td>normal</td>\n",
       "    </tr>\n",
       "    <tr>\n",
       "      <th>...</th>\n",
       "      <td>...</td>\n",
       "      <td>...</td>\n",
       "      <td>...</td>\n",
       "      <td>...</td>\n",
       "      <td>...</td>\n",
       "      <td>...</td>\n",
       "      <td>...</td>\n",
       "      <td>...</td>\n",
       "      <td>...</td>\n",
       "      <td>...</td>\n",
       "      <td>...</td>\n",
       "      <td>...</td>\n",
       "      <td>...</td>\n",
       "    </tr>\n",
       "    <tr>\n",
       "      <th>357947</th>\n",
       "      <td>lightcontrol23</td>\n",
       "      <td>/agent23/lightcontrol23</td>\n",
       "      <td>/lightControler</td>\n",
       "      <td>room_4</td>\n",
       "      <td>/agent23/tempin23</td>\n",
       "      <td>/sensorService</td>\n",
       "      <td>room_4</td>\n",
       "      <td>/agent23/tempin23</td>\n",
       "      <td>/sensorService</td>\n",
       "      <td>read</td>\n",
       "      <td>20.3479</td>\n",
       "      <td>1520117997001</td>\n",
       "      <td>normal</td>\n",
       "    </tr>\n",
       "    <tr>\n",
       "      <th>357948</th>\n",
       "      <td>washingmachine2</td>\n",
       "      <td>/agent11/washingmachine2</td>\n",
       "      <td>/washingService</td>\n",
       "      <td>Watterroom</td>\n",
       "      <td>/agent11/battery4</td>\n",
       "      <td>/batteryService</td>\n",
       "      <td>Watterroom</td>\n",
       "      <td>/agent11/battery4/charge</td>\n",
       "      <td>/basic/number</td>\n",
       "      <td>read</td>\n",
       "      <td>9</td>\n",
       "      <td>1520117997339</td>\n",
       "      <td>normal</td>\n",
       "    </tr>\n",
       "    <tr>\n",
       "      <th>357949</th>\n",
       "      <td>washingmachine2</td>\n",
       "      <td>/agent11/washingmachine2</td>\n",
       "      <td>/washingService</td>\n",
       "      <td>Watterroom</td>\n",
       "      <td>/agent11/battery4</td>\n",
       "      <td>/batteryService</td>\n",
       "      <td>Watterroom</td>\n",
       "      <td>/agent11/battery4/charging</td>\n",
       "      <td>/basic/text</td>\n",
       "      <td>read</td>\n",
       "      <td>true</td>\n",
       "      <td>1520117997401</td>\n",
       "      <td>normal</td>\n",
       "    </tr>\n",
       "    <tr>\n",
       "      <th>357950</th>\n",
       "      <td>lightcontrol28</td>\n",
       "      <td>/agent28/lightcontrol28</td>\n",
       "      <td>/lightControler</td>\n",
       "      <td>room_9</td>\n",
       "      <td>/agent28/movement28</td>\n",
       "      <td>/movementSensor</td>\n",
       "      <td>room_9</td>\n",
       "      <td>/agent28/movement28/movement</td>\n",
       "      <td>/derived/boolean</td>\n",
       "      <td>read</td>\n",
       "      <td>0</td>\n",
       "      <td>1520117998907</td>\n",
       "      <td>normal</td>\n",
       "    </tr>\n",
       "    <tr>\n",
       "      <th>357951</th>\n",
       "      <td>lightcontrol28</td>\n",
       "      <td>/agent28/lightcontrol28</td>\n",
       "      <td>/lightControler</td>\n",
       "      <td>room_9</td>\n",
       "      <td>/agent28/tempin28</td>\n",
       "      <td>/sensorService</td>\n",
       "      <td>room_9</td>\n",
       "      <td>/agent28/tempin28</td>\n",
       "      <td>/sensorService</td>\n",
       "      <td>read</td>\n",
       "      <td>20.4131</td>\n",
       "      <td>1520117999000</td>\n",
       "      <td>normal</td>\n",
       "    </tr>\n",
       "  </tbody>\n",
       "</table>\n",
       "<p>357952 rows × 13 columns</p>\n",
       "</div>"
      ],
      "text/plain": [
       "               sourceID             sourceAddress       sourceType  \\\n",
       "0         lightcontrol2     /agent2/lightcontrol2  /lightControler   \n",
       "1         lightcontrol3     /agent3/lightcontrol3  /lightControler   \n",
       "2         lightcontrol1     /agent1/lightcontrol1  /lightControler   \n",
       "3         lightcontrol4     /agent4/lightcontrol4  /lightControler   \n",
       "4             movement4         /agent4/movement4  /movementSensor   \n",
       "...                 ...                       ...              ...   \n",
       "357947   lightcontrol23   /agent23/lightcontrol23  /lightControler   \n",
       "357948  washingmachine2  /agent11/washingmachine2  /washingService   \n",
       "357949  washingmachine2  /agent11/washingmachine2  /washingService   \n",
       "357950   lightcontrol28   /agent28/lightcontrol28  /lightControler   \n",
       "357951   lightcontrol28   /agent28/lightcontrol28  /lightControler   \n",
       "\n",
       "         sourceLocation destinationServiceAddress destinationServiceType  \\\n",
       "0        BedroomParents     /agent2/lightcontrol2        /lightControler   \n",
       "1           Dinningroom     /agent3/lightcontrol3        /lightControler   \n",
       "2       BedroomChildren     /agent1/lightcontrol1        /lightControler   \n",
       "3               Kitchen     /agent4/lightcontrol4        /lightControler   \n",
       "4               Kitchen         /agent4/movement4        /movementSensor   \n",
       "...                 ...                       ...                    ...   \n",
       "357947           room_4         /agent23/tempin23         /sensorService   \n",
       "357948       Watterroom         /agent11/battery4        /batteryService   \n",
       "357949       Watterroom         /agent11/battery4        /batteryService   \n",
       "357950           room_9       /agent28/movement28        /movementSensor   \n",
       "357951           room_9         /agent28/tempin28         /sensorService   \n",
       "\n",
       "       destinationLocation           accessedNodeAddress  accessedNodeType  \\\n",
       "0           BedroomParents         /agent2/lightcontrol2   /lightControler   \n",
       "1              Dinningroom         /agent3/lightcontrol3   /lightControler   \n",
       "2          BedroomChildren         /agent1/lightcontrol1   /lightControler   \n",
       "3                  Kitchen         /agent4/lightcontrol4   /lightControler   \n",
       "4                  Kitchen             /agent4/movement4   /movementSensor   \n",
       "...                    ...                           ...               ...   \n",
       "357947              room_4             /agent23/tempin23    /sensorService   \n",
       "357948          Watterroom      /agent11/battery4/charge     /basic/number   \n",
       "357949          Watterroom    /agent11/battery4/charging       /basic/text   \n",
       "357950              room_9  /agent28/movement28/movement  /derived/boolean   \n",
       "357951              room_9             /agent28/tempin28    /sensorService   \n",
       "\n",
       "              operation    value      timestamp normality  \n",
       "0       registerService     none  1520031600000    normal  \n",
       "1       registerService     none  1520031603269    normal  \n",
       "2       registerService     none  1520031603279    normal  \n",
       "3       registerService     none  1520031603290    normal  \n",
       "4       registerService     none  1520031603464    normal  \n",
       "...                 ...      ...            ...       ...  \n",
       "357947             read  20.3479  1520117997001    normal  \n",
       "357948             read        9  1520117997339    normal  \n",
       "357949             read     true  1520117997401    normal  \n",
       "357950             read        0  1520117998907    normal  \n",
       "357951             read  20.4131  1520117999000    normal  \n",
       "\n",
       "[357952 rows x 13 columns]"
      ]
     },
     "execution_count": 168,
     "metadata": {},
     "output_type": "execute_result"
    }
   ],
   "source": [
    "Network_Traces"
   ]
  },
  {
   "cell_type": "code",
   "execution_count": 169,
   "id": "e392a7cd",
   "metadata": {},
   "outputs": [
    {
     "data": {
      "text/plain": [
       "array(['normal', 'anomalous(scan)', 'anomalous(malitiousOperation)',\n",
       "       'anomalous(DoSattack)', 'anomalous(spying)',\n",
       "       'anomalous(dataProbing)', 'anomalous(wrongSetUp)',\n",
       "       'anomalous(malitiousControl)'], dtype=object)"
      ]
     },
     "execution_count": 169,
     "metadata": {},
     "output_type": "execute_result"
    }
   ],
   "source": [
    "Network_Traces['normality'].unique()"
   ]
  },
  {
   "cell_type": "markdown",
   "id": "f09dfe97",
   "metadata": {},
   "source": [
    "## Features and Labels Description"
   ]
  },
  {
   "cell_type": "code",
   "execution_count": 3,
   "id": "79d34631",
   "metadata": {},
   "outputs": [],
   "source": [
    "Features=Network_Traces.iloc[:,:-1]"
   ]
  },
  {
   "cell_type": "code",
   "execution_count": 4,
   "id": "cfa2a395",
   "metadata": {},
   "outputs": [],
   "source": [
    "Labels=Network_Traces.iloc[:,-1]"
   ]
  },
  {
   "cell_type": "code",
   "execution_count": 172,
   "id": "758724ab",
   "metadata": {
    "scrolled": true
   },
   "outputs": [
    {
     "data": {
      "text/plain": [
       "count     357952\n",
       "unique         8\n",
       "top       normal\n",
       "freq      347935\n",
       "Name: normality, dtype: object"
      ]
     },
     "execution_count": 172,
     "metadata": {},
     "output_type": "execute_result"
    }
   ],
   "source": [
    "Labels.describe()"
   ]
  },
  {
   "cell_type": "code",
   "execution_count": 173,
   "id": "c0c29f33",
   "metadata": {
    "scrolled": false
   },
   "outputs": [
    {
     "data": {
      "text/plain": [
       "Index(['sourceID', 'sourceAddress', 'sourceType', 'sourceLocation',\n",
       "       'destinationServiceAddress', 'destinationServiceType',\n",
       "       'destinationLocation', 'accessedNodeAddress', 'accessedNodeType',\n",
       "       'operation', 'value', 'timestamp'],\n",
       "      dtype='object')"
      ]
     },
     "execution_count": 173,
     "metadata": {},
     "output_type": "execute_result"
    }
   ],
   "source": [
    "Features.columns"
   ]
  },
  {
   "cell_type": "code",
   "execution_count": 174,
   "id": "ac10eb2b",
   "metadata": {},
   "outputs": [
    {
     "data": {
      "text/plain": [
       "array(['/lightControler', '/movementSensor', '/sensorService',\n",
       "       '/batteryService', '/doorLockService', '/thermostat',\n",
       "       '/washingService', '/smartPhone'], dtype=object)"
      ]
     },
     "execution_count": 174,
     "metadata": {},
     "output_type": "execute_result"
    }
   ],
   "source": [
    "Features['sourceType'].unique()"
   ]
  },
  {
   "cell_type": "code",
   "execution_count": 175,
   "id": "3085e03c",
   "metadata": {},
   "outputs": [
    {
     "data": {
      "text/plain": [
       "array(['BedroomParents', 'Dinningroom', 'BedroomChildren', 'Kitchen',\n",
       "       'Garage', 'Bathroom', 'Livingroom', 'Watterroom', 'Bedroom',\n",
       "       'Entrance', 'Showerroom', 'room_1', 'room_2', 'room_3', 'room_4',\n",
       "       'room_5', 'room_6', 'room_7', 'room_9', 'room_8', 'room_10'],\n",
       "      dtype=object)"
      ]
     },
     "execution_count": 175,
     "metadata": {},
     "output_type": "execute_result"
    }
   ],
   "source": [
    "Features['sourceLocation'].unique()"
   ]
  },
  {
   "cell_type": "code",
   "execution_count": 176,
   "id": "2972bbaf",
   "metadata": {},
   "outputs": [
    {
     "data": {
      "text/plain": [
       "array(['/lightControler', '/movementSensor', '/sensorService',\n",
       "       '/batteryService', '/doorLockService', '/thermostat',\n",
       "       '/washingService', '/smartPhone'], dtype=object)"
      ]
     },
     "execution_count": 176,
     "metadata": {},
     "output_type": "execute_result"
    }
   ],
   "source": [
    "Features['destinationServiceType'].unique()"
   ]
  },
  {
   "cell_type": "code",
   "execution_count": 177,
   "id": "101e6c05",
   "metadata": {
    "scrolled": false
   },
   "outputs": [
    {
     "data": {
      "text/plain": [
       "array(['BedroomParents', 'Dinningroom', 'BedroomChildren', 'Kitchen',\n",
       "       'Garage', 'Bathroom', 'Livingroom', 'Watterroom', 'Bedroom',\n",
       "       'Entrance', 'Showerroom', 'room_1', 'room_2', 'room_3', 'room_4',\n",
       "       'room_5', 'room_6', 'room_7', 'room_9', 'room_8', 'room_10'],\n",
       "      dtype=object)"
      ]
     },
     "execution_count": 177,
     "metadata": {},
     "output_type": "execute_result"
    }
   ],
   "source": [
    "Features['destinationLocation'].unique()"
   ]
  },
  {
   "cell_type": "code",
   "execution_count": 178,
   "id": "01452c85",
   "metadata": {},
   "outputs": [
    {
     "data": {
      "text/plain": [
       "array(['/lightControler', '/movementSensor', '/sensorService',\n",
       "       '/derived/boolean', '/basic/number', '/batteryService',\n",
       "       '/doorLockService', '/thermostat', '/washingService',\n",
       "       '/basic/text', '/smartPhone', nan, '/basic/composed'], dtype=object)"
      ]
     },
     "execution_count": 178,
     "metadata": {},
     "output_type": "execute_result"
    }
   ],
   "source": [
    "Features['accessedNodeType'].unique()"
   ]
  },
  {
   "cell_type": "code",
   "execution_count": 179,
   "id": "c166e401",
   "metadata": {
    "scrolled": true
   },
   "outputs": [
    {
     "data": {
      "text/plain": [
       "array(['registerService', 'write', 'read', 'subscribe', 'lockSubtree'],\n",
       "      dtype=object)"
      ]
     },
     "execution_count": 179,
     "metadata": {},
     "output_type": "execute_result"
    }
   ],
   "source": [
    "Features['operation'].unique()"
   ]
  },
  {
   "cell_type": "code",
   "execution_count": 180,
   "id": "567a716b",
   "metadata": {
    "scrolled": true
   },
   "outputs": [
    {
     "data": {
      "image/png": "[encoded data removed]",
      "text/plain": [
       "<Figure size 432x288 with 1 Axes>"
      ]
     },
     "metadata": {
      "needs_background": "light"
     },
     "output_type": "display_data"
    }
   ],
   "source": [
    "sns.countplot(Features.sourceType)\n",
    "plt.xticks(rotation=90)\n",
    "plt.show()"
   ]
  },
  {
   "cell_type": "code",
   "execution_count": 181,
   "id": "348bbe23",
   "metadata": {
    "scrolled": true
   },
   "outputs": [
    {
     "data": {
      "image/png": "[encoded data removed]",
      "text/plain": [
       "<Figure size 432x288 with 1 Axes>"
      ]
     },
     "metadata": {
      "needs_background": "light"
     },
     "output_type": "display_data"
    }
   ],
   "source": [
    "sns.countplot(Features.sourceLocation)\n",
    "plt.xticks(rotation=90)\n",
    "plt.show()"
   ]
  },
  {
   "cell_type": "code",
   "execution_count": 182,
   "id": "3e236e6c",
   "metadata": {},
   "outputs": [
    {
     "data": {
      "image/png": "[encoded data removed]",
      "text/plain": [
       "<Figure size 432x288 with 1 Axes>"
      ]
     },
     "metadata": {
      "needs_background": "light"
     },
     "output_type": "display_data"
    }
   ],
   "source": [
    "sns.countplot(Features.destinationServiceType)\n",
    "plt.xticks(rotation=90)\n",
    "plt.show()"
   ]
  },
  {
   "cell_type": "code",
   "execution_count": 183,
   "id": "1fd241b6",
   "metadata": {},
   "outputs": [
    {
     "data": {
      "image/png": "[encoded data removed]",
      "text/plain": [
       "<Figure size 432x288 with 1 Axes>"
      ]
     },
     "metadata": {
      "needs_background": "light"
     },
     "output_type": "display_data"
    }
   ],
   "source": [
    "sns.countplot(Features.destinationLocation)\n",
    "plt.xticks(rotation=90)\n",
    "plt.show()"
   ]
  },
  {
   "cell_type": "code",
   "execution_count": 184,
   "id": "97830b0d",
   "metadata": {},
   "outputs": [
    {
     "data": {
      "image/png": "[encoded data removed]",
      "text/plain": [
       "<Figure size 432x288 with 1 Axes>"
      ]
     },
     "metadata": {
      "needs_background": "light"
     },
     "output_type": "display_data"
    }
   ],
   "source": [
    "sns.countplot(Features.accessedNodeType)\n",
    "plt.xticks(rotation=90)\n",
    "plt.show()"
   ]
  },
  {
   "cell_type": "code",
   "execution_count": 185,
   "id": "b28bb2d9",
   "metadata": {
    "scrolled": true
   },
   "outputs": [
    {
     "data": {
      "image/png": "[encoded data removed]",
      "text/plain": [
       "<Figure size 432x288 with 1 Axes>"
      ]
     },
     "metadata": {
      "needs_background": "light"
     },
     "output_type": "display_data"
    }
   ],
   "source": [
    "sns.countplot(Features['operation'])\n",
    "plt.xticks(rotation=90)\n",
    "plt.show()"
   ]
  },
  {
   "cell_type": "code",
   "execution_count": 186,
   "id": "3b9ff7d6",
   "metadata": {
    "scrolled": true
   },
   "outputs": [
    {
     "data": {
      "image/png": "[encoded data removed]",
      "text/plain": [
       "<Figure size 432x288 with 1 Axes>"
      ]
     },
     "metadata": {
      "needs_background": "light"
     },
     "output_type": "display_data"
    }
   ],
   "source": [
    "plt.title('No of Datapoints per Attack', fontsize=15)\n",
    "sns.countplot(Network_Traces.normality)\n",
    "plt.xticks(rotation=90)\n",
    "plt.show()"
   ]
  },
  {
   "cell_type": "code",
   "execution_count": 187,
   "id": "18dea0dd",
   "metadata": {
    "scrolled": true
   },
   "outputs": [
    {
     "data": {
      "text/plain": [
       "normal                           347935\n",
       "anomalous(DoSattack)               5780\n",
       "anomalous(scan)                    1547\n",
       "anomalous(malitiousControl)         889\n",
       "anomalous(malitiousOperation)       805\n",
       "anomalous(spying)                   532\n",
       "anomalous(dataProbing)              342\n",
       "anomalous(wrongSetUp)               122\n",
       "Name: normality, dtype: int64"
      ]
     },
     "execution_count": 187,
     "metadata": {},
     "output_type": "execute_result"
    }
   ],
   "source": [
    "Network_Traces['normality'].value_counts()"
   ]
  },
  {
   "cell_type": "markdown",
   "id": "b8b33c68",
   "metadata": {},
   "source": [
    "# Data Preprocessing"
   ]
  },
  {
   "cell_type": "code",
   "execution_count": 5,
   "id": "00209dfe",
   "metadata": {
    "scrolled": false
   },
   "outputs": [],
   "source": [
    "Features.value[Features.value=='true']=np.nan\n",
    "Features.value[Features.value=='none']=np.nan\n",
    "Features.value[Features.value=='false']=np.nan\n",
    "Features.value[Features.value=='twenty']=np.nan\n",
    "Features.value[Features.value=='org.ds2os.vsl.core.utils.AddressParameters@463d9146']=np.nan\n",
    "Features.value[Features.value=='org.ds2os.vsl.core.utils.AddressParameters@699d52f5']=np.nan\n",
    "Features.value[Features.value=='org.ds2os.vsl.core.utils.AddressParameters@273343f8']=np.nan\n",
    "Features.value[Features.value=='org.ds2os.vsl.core.utils.AddressParameters@181ae4a8']=np.nan\n",
    "Features.value[Features.value=='org.ds2os.vsl.core.utils.AddressParameters@5c494e7d']=np.nan\n",
    "Features.value[Features.value=='org.ds2os.vsl.core.utils.AddressParameters@6876d7bb ']=np.nan\n",
    "Features.value[Features.value=='org.ds2os.vsl.core.utils.AddressParameters@4ff97c45']=np.nan\n",
    "Features.value[Features.value=='org.ds2os.vsl.core.utils.AddressParameters@3ebb34ed']=np.nan\n",
    "Features.value[Features.value=='org.ds2os.vsl.core.utils.AddressParameters@2c82b391']=np.nan\n",
    "Features.value[Features.value=='org.ds2os.vsl.core.utils.AddressParameters@61ba9b2b']=np.nan\n",
    "Features.value[Features.value=='org.ds2os.vsl.core.utils.AddressParameters@715cced']=np.nan\n",
    "Features.value[Features.value=='org.ds2os.vsl.core.utils.AddressParameters@6876d7bb']=np.nan\n"
   ]
  },
  {
   "cell_type": "code",
   "execution_count": 6,
   "id": "e3bd4d82",
   "metadata": {},
   "outputs": [],
   "source": [
    "Features['value']=pd.to_numeric(Features['value'])"
   ]
  },
  {
   "cell_type": "markdown",
   "id": "8dd512f3",
   "metadata": {},
   "source": [
    "### Handling the Missing Values"
   ]
  },
  {
   "cell_type": "code",
   "execution_count": 7,
   "id": "53feda08",
   "metadata": {},
   "outputs": [],
   "source": [
    "from sklearn.impute import SimpleImputer\n",
    "\n",
    "imputer=SimpleImputer(missing_values=np.nan,strategy='constant',verbose=0)\n",
    "imputer=imputer.fit(Features.iloc[:,[8]])\n",
    "Features.iloc[:,[8]]=imputer.transform(Features.iloc[:,[8]])"
   ]
  },
  {
   "cell_type": "code",
   "execution_count": 8,
   "id": "f6230382",
   "metadata": {},
   "outputs": [],
   "source": [
    "imputer1=SimpleImputer(missing_values=np.nan,strategy='mean',verbose=0)\n",
    "imputer1=imputer1.fit(Features.iloc[:,[10]])\n",
    "Features.iloc[:,[10]]=imputer1.transform(Features.iloc[:,[10]])"
   ]
  },
  {
   "cell_type": "code",
   "execution_count": 192,
   "id": "31ed512b",
   "metadata": {
    "scrolled": true
   },
   "outputs": [
    {
     "data": {
      "text/html": [
       "<div>\n",
       "<style scoped>\n",
       "    .dataframe tbody tr th:only-of-type {\n",
       "        vertical-align: middle;\n",
       "    }\n",
       "\n",
       "    .dataframe tbody tr th {\n",
       "        vertical-align: top;\n",
       "    }\n",
       "\n",
       "    .dataframe thead th {\n",
       "        text-align: right;\n",
       "    }\n",
       "</style>\n",
       "<table border=\"1\" class=\"dataframe\">\n",
       "  <thead>\n",
       "    <tr style=\"text-align: right;\">\n",
       "      <th></th>\n",
       "      <th>sourceID</th>\n",
       "      <th>sourceAddress</th>\n",
       "      <th>sourceType</th>\n",
       "      <th>sourceLocation</th>\n",
       "      <th>destinationServiceAddress</th>\n",
       "      <th>destinationServiceType</th>\n",
       "      <th>destinationLocation</th>\n",
       "      <th>accessedNodeAddress</th>\n",
       "      <th>accessedNodeType</th>\n",
       "      <th>operation</th>\n",
       "      <th>value</th>\n",
       "      <th>timestamp</th>\n",
       "    </tr>\n",
       "  </thead>\n",
       "  <tbody>\n",
       "    <tr>\n",
       "      <th>0</th>\n",
       "      <td>lightcontrol2</td>\n",
       "      <td>/agent2/lightcontrol2</td>\n",
       "      <td>/lightControler</td>\n",
       "      <td>BedroomParents</td>\n",
       "      <td>/agent2/lightcontrol2</td>\n",
       "      <td>/lightControler</td>\n",
       "      <td>BedroomParents</td>\n",
       "      <td>/agent2/lightcontrol2</td>\n",
       "      <td>/lightControler</td>\n",
       "      <td>registerService</td>\n",
       "      <td>2.775431e+09</td>\n",
       "      <td>1520031600000</td>\n",
       "    </tr>\n",
       "    <tr>\n",
       "      <th>1</th>\n",
       "      <td>lightcontrol3</td>\n",
       "      <td>/agent3/lightcontrol3</td>\n",
       "      <td>/lightControler</td>\n",
       "      <td>Dinningroom</td>\n",
       "      <td>/agent3/lightcontrol3</td>\n",
       "      <td>/lightControler</td>\n",
       "      <td>Dinningroom</td>\n",
       "      <td>/agent3/lightcontrol3</td>\n",
       "      <td>/lightControler</td>\n",
       "      <td>registerService</td>\n",
       "      <td>2.775431e+09</td>\n",
       "      <td>1520031603269</td>\n",
       "    </tr>\n",
       "    <tr>\n",
       "      <th>2</th>\n",
       "      <td>lightcontrol1</td>\n",
       "      <td>/agent1/lightcontrol1</td>\n",
       "      <td>/lightControler</td>\n",
       "      <td>BedroomChildren</td>\n",
       "      <td>/agent1/lightcontrol1</td>\n",
       "      <td>/lightControler</td>\n",
       "      <td>BedroomChildren</td>\n",
       "      <td>/agent1/lightcontrol1</td>\n",
       "      <td>/lightControler</td>\n",
       "      <td>registerService</td>\n",
       "      <td>2.775431e+09</td>\n",
       "      <td>1520031603279</td>\n",
       "    </tr>\n",
       "    <tr>\n",
       "      <th>3</th>\n",
       "      <td>lightcontrol4</td>\n",
       "      <td>/agent4/lightcontrol4</td>\n",
       "      <td>/lightControler</td>\n",
       "      <td>Kitchen</td>\n",
       "      <td>/agent4/lightcontrol4</td>\n",
       "      <td>/lightControler</td>\n",
       "      <td>Kitchen</td>\n",
       "      <td>/agent4/lightcontrol4</td>\n",
       "      <td>/lightControler</td>\n",
       "      <td>registerService</td>\n",
       "      <td>2.775431e+09</td>\n",
       "      <td>1520031603290</td>\n",
       "    </tr>\n",
       "    <tr>\n",
       "      <th>4</th>\n",
       "      <td>movement4</td>\n",
       "      <td>/agent4/movement4</td>\n",
       "      <td>/movementSensor</td>\n",
       "      <td>Kitchen</td>\n",
       "      <td>/agent4/movement4</td>\n",
       "      <td>/movementSensor</td>\n",
       "      <td>Kitchen</td>\n",
       "      <td>/agent4/movement4</td>\n",
       "      <td>/movementSensor</td>\n",
       "      <td>registerService</td>\n",
       "      <td>2.775431e+09</td>\n",
       "      <td>1520031603464</td>\n",
       "    </tr>\n",
       "    <tr>\n",
       "      <th>...</th>\n",
       "      <td>...</td>\n",
       "      <td>...</td>\n",
       "      <td>...</td>\n",
       "      <td>...</td>\n",
       "      <td>...</td>\n",
       "      <td>...</td>\n",
       "      <td>...</td>\n",
       "      <td>...</td>\n",
       "      <td>...</td>\n",
       "      <td>...</td>\n",
       "      <td>...</td>\n",
       "      <td>...</td>\n",
       "    </tr>\n",
       "    <tr>\n",
       "      <th>357947</th>\n",
       "      <td>lightcontrol23</td>\n",
       "      <td>/agent23/lightcontrol23</td>\n",
       "      <td>/lightControler</td>\n",
       "      <td>room_4</td>\n",
       "      <td>/agent23/tempin23</td>\n",
       "      <td>/sensorService</td>\n",
       "      <td>room_4</td>\n",
       "      <td>/agent23/tempin23</td>\n",
       "      <td>/sensorService</td>\n",
       "      <td>read</td>\n",
       "      <td>2.034790e+01</td>\n",
       "      <td>1520117997001</td>\n",
       "    </tr>\n",
       "    <tr>\n",
       "      <th>357948</th>\n",
       "      <td>washingmachine2</td>\n",
       "      <td>/agent11/washingmachine2</td>\n",
       "      <td>/washingService</td>\n",
       "      <td>Watterroom</td>\n",
       "      <td>/agent11/battery4</td>\n",
       "      <td>/batteryService</td>\n",
       "      <td>Watterroom</td>\n",
       "      <td>/agent11/battery4/charge</td>\n",
       "      <td>/basic/number</td>\n",
       "      <td>read</td>\n",
       "      <td>9.000000e+00</td>\n",
       "      <td>1520117997339</td>\n",
       "    </tr>\n",
       "    <tr>\n",
       "      <th>357949</th>\n",
       "      <td>washingmachine2</td>\n",
       "      <td>/agent11/washingmachine2</td>\n",
       "      <td>/washingService</td>\n",
       "      <td>Watterroom</td>\n",
       "      <td>/agent11/battery4</td>\n",
       "      <td>/batteryService</td>\n",
       "      <td>Watterroom</td>\n",
       "      <td>/agent11/battery4/charging</td>\n",
       "      <td>/basic/text</td>\n",
       "      <td>read</td>\n",
       "      <td>2.775431e+09</td>\n",
       "      <td>1520117997401</td>\n",
       "    </tr>\n",
       "    <tr>\n",
       "      <th>357950</th>\n",
       "      <td>lightcontrol28</td>\n",
       "      <td>/agent28/lightcontrol28</td>\n",
       "      <td>/lightControler</td>\n",
       "      <td>room_9</td>\n",
       "      <td>/agent28/movement28</td>\n",
       "      <td>/movementSensor</td>\n",
       "      <td>room_9</td>\n",
       "      <td>/agent28/movement28/movement</td>\n",
       "      <td>/derived/boolean</td>\n",
       "      <td>read</td>\n",
       "      <td>0.000000e+00</td>\n",
       "      <td>1520117998907</td>\n",
       "    </tr>\n",
       "    <tr>\n",
       "      <th>357951</th>\n",
       "      <td>lightcontrol28</td>\n",
       "      <td>/agent28/lightcontrol28</td>\n",
       "      <td>/lightControler</td>\n",
       "      <td>room_9</td>\n",
       "      <td>/agent28/tempin28</td>\n",
       "      <td>/sensorService</td>\n",
       "      <td>room_9</td>\n",
       "      <td>/agent28/tempin28</td>\n",
       "      <td>/sensorService</td>\n",
       "      <td>read</td>\n",
       "      <td>2.041310e+01</td>\n",
       "      <td>1520117999000</td>\n",
       "    </tr>\n",
       "  </tbody>\n",
       "</table>\n",
       "<p>357952 rows × 12 columns</p>\n",
       "</div>"
      ],
      "text/plain": [
       "               sourceID             sourceAddress       sourceType  \\\n",
       "0         lightcontrol2     /agent2/lightcontrol2  /lightControler   \n",
       "1         lightcontrol3     /agent3/lightcontrol3  /lightControler   \n",
       "2         lightcontrol1     /agent1/lightcontrol1  /lightControler   \n",
       "3         lightcontrol4     /agent4/lightcontrol4  /lightControler   \n",
       "4             movement4         /agent4/movement4  /movementSensor   \n",
       "...                 ...                       ...              ...   \n",
       "357947   lightcontrol23   /agent23/lightcontrol23  /lightControler   \n",
       "357948  washingmachine2  /agent11/washingmachine2  /washingService   \n",
       "357949  washingmachine2  /agent11/washingmachine2  /washingService   \n",
       "357950   lightcontrol28   /agent28/lightcontrol28  /lightControler   \n",
       "357951   lightcontrol28   /agent28/lightcontrol28  /lightControler   \n",
       "\n",
       "         sourceLocation destinationServiceAddress destinationServiceType  \\\n",
       "0        BedroomParents     /agent2/lightcontrol2        /lightControler   \n",
       "1           Dinningroom     /agent3/lightcontrol3        /lightControler   \n",
       "2       BedroomChildren     /agent1/lightcontrol1        /lightControler   \n",
       "3               Kitchen     /agent4/lightcontrol4        /lightControler   \n",
       "4               Kitchen         /agent4/movement4        /movementSensor   \n",
       "...                 ...                       ...                    ...   \n",
       "357947           room_4         /agent23/tempin23         /sensorService   \n",
       "357948       Watterroom         /agent11/battery4        /batteryService   \n",
       "357949       Watterroom         /agent11/battery4        /batteryService   \n",
       "357950           room_9       /agent28/movement28        /movementSensor   \n",
       "357951           room_9         /agent28/tempin28         /sensorService   \n",
       "\n",
       "       destinationLocation           accessedNodeAddress  accessedNodeType  \\\n",
       "0           BedroomParents         /agent2/lightcontrol2   /lightControler   \n",
       "1              Dinningroom         /agent3/lightcontrol3   /lightControler   \n",
       "2          BedroomChildren         /agent1/lightcontrol1   /lightControler   \n",
       "3                  Kitchen         /agent4/lightcontrol4   /lightControler   \n",
       "4                  Kitchen             /agent4/movement4   /movementSensor   \n",
       "...                    ...                           ...               ...   \n",
       "357947              room_4             /agent23/tempin23    /sensorService   \n",
       "357948          Watterroom      /agent11/battery4/charge     /basic/number   \n",
       "357949          Watterroom    /agent11/battery4/charging       /basic/text   \n",
       "357950              room_9  /agent28/movement28/movement  /derived/boolean   \n",
       "357951              room_9             /agent28/tempin28    /sensorService   \n",
       "\n",
       "              operation         value      timestamp  \n",
       "0       registerService  2.775431e+09  1520031600000  \n",
       "1       registerService  2.775431e+09  1520031603269  \n",
       "2       registerService  2.775431e+09  1520031603279  \n",
       "3       registerService  2.775431e+09  1520031603290  \n",
       "4       registerService  2.775431e+09  1520031603464  \n",
       "...                 ...           ...            ...  \n",
       "357947             read  2.034790e+01  1520117997001  \n",
       "357948             read  9.000000e+00  1520117997339  \n",
       "357949             read  2.775431e+09  1520117997401  \n",
       "357950             read  0.000000e+00  1520117998907  \n",
       "357951             read  2.041310e+01  1520117999000  \n",
       "\n",
       "[357952 rows x 12 columns]"
      ]
     },
     "execution_count": 192,
     "metadata": {},
     "output_type": "execute_result"
    }
   ],
   "source": [
    "Features"
   ]
  },
  {
   "cell_type": "markdown",
   "id": "bf55f666",
   "metadata": {},
   "source": [
    "## Label Encoding the Categorical Data"
   ]
  },
  {
   "cell_type": "code",
   "execution_count": 9,
   "id": "f4b548b4",
   "metadata": {},
   "outputs": [],
   "source": [
    "from sklearn.preprocessing import LabelEncoder\n",
    "labelencoder_X = LabelEncoder()\n",
    "for i in range(0,10):\n",
    "    Features.iloc[:,i] = labelencoder_X.fit_transform(Features.iloc[:,i])"
   ]
  },
  {
   "cell_type": "code",
   "execution_count": 10,
   "id": "5aadb16d",
   "metadata": {},
   "outputs": [],
   "source": [
    "Features=Features.drop(columns='timestamp')\n",
    "Features=Features.drop(columns='sourceID')"
   ]
  },
  {
   "cell_type": "code",
   "execution_count": 11,
   "id": "5c17c5ec",
   "metadata": {},
   "outputs": [],
   "source": [
    "X=np.array(Features,dtype=np.float)\n",
    "y=labelencoder_X.fit_transform(Labels)"
   ]
  },
  {
   "cell_type": "code",
   "execution_count": 12,
   "id": "9325da28",
   "metadata": {},
   "outputs": [],
   "source": [
    "from collections import Counter"
   ]
  },
  {
   "cell_type": "code",
   "execution_count": 13,
   "id": "d91b8cdd",
   "metadata": {},
   "outputs": [],
   "source": [
    "items = Counter(y).keys()"
   ]
  },
  {
   "cell_type": "code",
   "execution_count": 14,
   "id": "2a5fcca2",
   "metadata": {},
   "outputs": [],
   "source": [
    "from sklearn.model_selection import train_test_split\n",
    " \n",
    "# split into 70:30 ratio\n",
    "X_train, X_test, y_train, y_test = train_test_split(X, y, test_size = 0.3, random_state = 0)"
   ]
  },
  {
   "cell_type": "code",
   "execution_count": 15,
   "id": "6e3a85a6",
   "metadata": {
    "scrolled": true
   },
   "outputs": [
    {
     "name": "stdout",
     "output_type": "stream",
     "text": [
      "Number transactions X_train dataset:  (250566, 10)\n",
      "Number transactions y_train dataset:  (250566,)\n",
      "Number transactions X_test dataset:  (107386, 10)\n",
      "Number transactions y_test dataset:  (107386,)\n"
     ]
    }
   ],
   "source": [
    "# describes info about train and test set\n",
    "print(\"Number transactions X_train dataset: \", X_train.shape)\n",
    "print(\"Number transactions y_train dataset: \", y_train.shape)\n",
    "print(\"Number transactions X_test dataset: \", X_test.shape)\n",
    "print(\"Number transactions y_test dataset: \", y_test.shape)"
   ]
  },
  {
   "cell_type": "markdown",
   "id": "1b58c842",
   "metadata": {},
   "source": [
    "## Training the models before handling class imbalance problems"
   ]
  },
  {
   "cell_type": "code",
   "execution_count": 16,
   "id": "01e6f0a0",
   "metadata": {},
   "outputs": [],
   "source": [
    "from sklearn.preprocessing import StandardScaler\n",
    "sc = StandardScaler()\n",
    "X_train = sc.fit_transform(X_train)\n",
    "X_test = sc.transform(X_test)"
   ]
  },
  {
   "cell_type": "markdown",
   "id": "349c0b3a",
   "metadata": {},
   "source": [
    "### Decision Trees"
   ]
  },
  {
   "cell_type": "code",
   "execution_count": 36,
   "id": "90db9447",
   "metadata": {
    "scrolled": true
   },
   "outputs": [
    {
     "name": "stdout",
     "output_type": "stream",
     "text": [
      "Accuracy: 0.9940495036596949\n",
      "Testing Time is0:00:00.046877\n"
     ]
    }
   ],
   "source": [
    "from sklearn.tree import DecisionTreeClassifier # Import Decision Tree Classifier\n",
    "from sklearn.metrics import confusion_matrix, accuracy_score\n",
    "# Create Decision Tree classifer object\n",
    "clf = DecisionTreeClassifier()\n",
    "\n",
    "# Train Decision Tree Classifer\n",
    "clf = clf.fit(X_train,y_train)\n",
    "from datetime import datetime\n",
    "test_start_time = datetime.now()\n",
    "pred = clf.predict(X_test)\n",
    "test_end_time = datetime.now()\n",
    "print(\"Accuracy:\",accuracy_score(y_test, pred))\n",
    "print(\"Testing Time is\" + str(test_end_time-test_start_time))"
   ]
  },
  {
   "cell_type": "markdown",
   "id": "8472307c",
   "metadata": {},
   "source": [
    "### Random Forest"
   ]
  },
  {
   "cell_type": "code",
   "execution_count": 37,
   "id": "6f5b9859",
   "metadata": {
    "scrolled": true
   },
   "outputs": [
    {
     "name": "stdout",
     "output_type": "stream",
     "text": [
      "Accuracy: 0.9940588158605405\n",
      "Testing Time is0:00:02.781029\n"
     ]
    }
   ],
   "source": [
    "#Import Random Forest Model\n",
    "from sklearn.ensemble import RandomForestClassifier\n",
    "\n",
    "#Create a Gaussian Classifier\n",
    "rf=RandomForestClassifier(n_estimators=100)\n",
    "\n",
    "rf.fit(X_train,y_train)\n",
    "\n",
    "from datetime import datetime\n",
    "test_start_time = datetime.now()\n",
    "pred = rf.predict(X_test)\n",
    "test_end_time = datetime.now()\n",
    "print(\"Accuracy:\",accuracy_score(y_test, pred))\n",
    "print(\"Testing Time is\" + str(test_end_time-test_start_time))"
   ]
  },
  {
   "cell_type": "markdown",
   "id": "c300731f",
   "metadata": {},
   "source": [
    "### Logistic Regression"
   ]
  },
  {
   "cell_type": "code",
   "execution_count": 38,
   "id": "c46323b9",
   "metadata": {
    "scrolled": true
   },
   "outputs": [
    {
     "name": "stdout",
     "output_type": "stream",
     "text": [
      "Accuracy: 0.9838712681355112\n",
      "Testing Time is0:00:00.031249\n"
     ]
    }
   ],
   "source": [
    "from sklearn.linear_model import LogisticRegression\n",
    "\n",
    "# instantiate the model (using the default parameters)\n",
    "logreg = LogisticRegression()\n",
    "\n",
    "# fit the model with data\n",
    "logreg.fit(X_train,y_train)\n",
    "\n",
    "#\n",
    "test_start_time = datetime.now()\n",
    "y_pred=logreg.predict(X_test)\n",
    "test_end_time = datetime.now()\n",
    "print(\"Accuracy:\",accuracy_score(y_test, y_pred))\n",
    "print(\"Testing Time is\" + str(test_end_time-test_start_time))"
   ]
  },
  {
   "cell_type": "markdown",
   "id": "5a928e59",
   "metadata": {},
   "source": [
    "### SVM"
   ]
  },
  {
   "cell_type": "code",
   "execution_count": 39,
   "id": "974a2ee0",
   "metadata": {},
   "outputs": [
    {
     "name": "stdout",
     "output_type": "stream",
     "text": [
      "Accuracy: 0.9934814594081165\n",
      "Testing Time is0:03:13.432744\n"
     ]
    }
   ],
   "source": [
    "from sklearn import svm\n",
    "rbf = svm.SVC(kernel='rbf', gamma=0.5, C=0.1).fit(X_train, y_train)\n",
    "test_start_time = datetime.now()\n",
    "y_pred=rbf.predict(X_test)\n",
    "test_end_time = datetime.now()\n",
    "print(\"Accuracy:\",accuracy_score(y_test, y_pred))\n",
    "print(\"Testing Time is\" + str(test_end_time-test_start_time))"
   ]
  },
  {
   "cell_type": "markdown",
   "id": "60e2d1a2",
   "metadata": {},
   "source": [
    "### Handling the class imbalance problem"
   ]
  },
  {
   "cell_type": "markdown",
   "id": "2549200b",
   "metadata": {},
   "source": [
    "###  Using SMOTE Algorithm"
   ]
  },
  {
   "cell_type": "code",
   "execution_count": 17,
   "id": "71548555",
   "metadata": {},
   "outputs": [],
   "source": [
    "# import SMOTE module from imblearn library\n",
    "# !pip install imblearn\n",
    "from imblearn.over_sampling import SMOTE\n",
    "sm = SMOTE(random_state = 2)\n",
    "X_train_res, y_train_res = sm.fit_resample(X_train, y_train.ravel())"
   ]
  },
  {
   "cell_type": "code",
   "execution_count": 41,
   "id": "64155186",
   "metadata": {
    "scrolled": true
   },
   "outputs": [
    {
     "name": "stdout",
     "output_type": "stream",
     "text": [
      "Before OverSampling, counts of label '0': 4045\n",
      "Before OverSampling, counts of label '1': 237 \n",
      "\n",
      "Before OverSampling, counts of label '2': 618 \n",
      "\n",
      "Before OverSampling, counts of label '3': 567 \n",
      "\n",
      "Before OverSampling, counts of label '4': 1102 \n",
      "\n",
      "Before OverSampling, counts of label '5': 370 \n",
      "\n",
      "Before OverSampling, counts of label '6': 93 \n",
      "\n",
      "Before OverSampling, counts of label '7': 243534 \n",
      "\n",
      "After OverSampling, the shape of train_X: (1948272, 10)\n",
      "After OverSampling, the shape of train_y: (1948272,) \n",
      "\n",
      "After OverSampling, counts of label '0': 243534\n",
      "After OverSampling, counts of label '1': 243534\n",
      "After OverSampling, counts of label '2': 243534\n",
      "After OverSampling, counts of label '3': 243534\n",
      "After OverSampling, counts of label '4': 243534\n",
      "After OverSampling, counts of label '5': 243534\n",
      "After OverSampling, counts of label '6': 243534\n",
      "After OverSampling, counts of label '7': 243534\n"
     ]
    }
   ],
   "source": [
    "print(\"Before OverSampling, counts of label '0': {}\".format(sum(y_train == 0)))\n",
    "print(\"Before OverSampling, counts of label '1': {} \\n\".format(sum(y_train == 1)))\n",
    "print(\"Before OverSampling, counts of label '2': {} \\n\".format(sum(y_train == 2)))\n",
    "print(\"Before OverSampling, counts of label '3': {} \\n\".format(sum(y_train == 3)))\n",
    "print(\"Before OverSampling, counts of label '4': {} \\n\".format(sum(y_train == 4)))\n",
    "print(\"Before OverSampling, counts of label '5': {} \\n\".format(sum(y_train == 5)))\n",
    "print(\"Before OverSampling, counts of label '6': {} \\n\".format(sum(y_train == 6)))\n",
    "print(\"Before OverSampling, counts of label '7': {} \\n\".format(sum(y_train == 7)))\n",
    "\n",
    "\n",
    "print('After OverSampling, the shape of train_X: {}'.format(X_train_res.shape))\n",
    "print('After OverSampling, the shape of train_y: {} \\n'.format(y_train_res.shape))\n",
    " \n",
    "print(\"After OverSampling, counts of label '0': {}\".format(sum(y_train_res == 0)))\n",
    "print(\"After OverSampling, counts of label '1': {}\".format(sum(y_train_res == 1)))\n",
    "print(\"After OverSampling, counts of label '2': {}\".format(sum(y_train_res == 2)))\n",
    "print(\"After OverSampling, counts of label '3': {}\".format(sum(y_train_res == 3)))\n",
    "print(\"After OverSampling, counts of label '4': {}\".format(sum(y_train_res == 4)))\n",
    "print(\"After OverSampling, counts of label '5': {}\".format(sum(y_train_res == 5)))\n",
    "print(\"After OverSampling, counts of label '6': {}\".format(sum(y_train_res == 6)))\n",
    "print(\"After OverSampling, counts of label '7': {}\".format(sum(y_train_res == 7)))\n",
    "\n"
   ]
  },
  {
   "cell_type": "markdown",
   "id": "ca9f662f",
   "metadata": {},
   "source": [
    "## The New Training data is X_train_res, y_train_res   and test it on X_test and y_test"
   ]
  },
  {
   "cell_type": "markdown",
   "id": "7f384f02",
   "metadata": {},
   "source": [
    "## Training the Model"
   ]
  },
  {
   "cell_type": "markdown",
   "id": "e5a263a5",
   "metadata": {},
   "source": [
    "### Logistic Regression"
   ]
  },
  {
   "cell_type": "code",
   "execution_count": 43,
   "id": "44e39594",
   "metadata": {},
   "outputs": [
    {
     "name": "stdout",
     "output_type": "stream",
     "text": [
      "Accuracy: 0.20610694131451027\n",
      "Testing Time is0:00:00.328102\n"
     ]
    },
    {
     "data": {
      "text/plain": [
       "array([[ 1125,     0,     0,     0,     0,     0,   610,     0],\n",
       "       [    0,    90,     0,    15,     0,     0,     0,     0],\n",
       "       [    0,     0,   252,     4,     0,     3,    12,     0],\n",
       "       [    0,     0,    26,   212,     0,     0,     0,     0],\n",
       "       [    7,     0,    10,     3,   304,    60,    12,    49],\n",
       "       [    0,     0,     0,    10,     7,   144,     0,     1],\n",
       "       [    0,     0,     0,     0,     0,     0,    29,     0],\n",
       "       [ 6413,  8073,  8563, 13735, 26172, 18914,  2554, 19977]],\n",
       "      dtype=int64)"
      ]
     },
     "execution_count": 43,
     "metadata": {},
     "output_type": "execute_result"
    }
   ],
   "source": [
    "from sklearn.linear_model import LogisticRegression\n",
    "\n",
    "# instantiate the model (using the default parameters)\n",
    "logreg = LogisticRegression()\n",
    "\n",
    "# fit the model with data\n",
    "logreg.fit(X_train_res,y_train_res)\n",
    "\n",
    "#\n",
    "test_start_time = datetime.now()\n",
    "y_pred=logreg.predict(X_test)\n",
    "test_end_time = datetime.now()\n",
    "print(\"Accuracy:\",accuracy_score(y_test, y_pred))\n",
    "print(\"Testing Time is\" + str(test_end_time-test_start_time))\n",
    "confusion_matrix(y_test, y_pred)"
   ]
  },
  {
   "cell_type": "markdown",
   "id": "248ac958",
   "metadata": {},
   "source": [
    "### Decision Trees"
   ]
  },
  {
   "cell_type": "code",
   "execution_count": 44,
   "id": "20618d4f",
   "metadata": {},
   "outputs": [
    {
     "name": "stdout",
     "output_type": "stream",
     "text": [
      "Accuracy: 0.7456186095021697\n",
      "Testing Time is0:00:00.062496\n"
     ]
    },
    {
     "data": {
      "text/plain": [
       "array([[  590,     0,     0,     0,   610,     0,     0,   535],\n",
       "       [    0,    15,     0,     0,     0,     0,    31,    59],\n",
       "       [    0,     0,    12,     0,     3,     0,     0,   256],\n",
       "       [    0,     0,     0,    83,    42,     0,    26,    87],\n",
       "       [    8,     0,     0,     0,   349,     0,     0,    88],\n",
       "       [    8,     0,    15,     0,     0,    79,     0,    60],\n",
       "       [   29,     0,     0,     0,     0,     0,     0,     0],\n",
       "       [   53,    45,    65,    31, 15077,  1915,  8274, 78941]],\n",
       "      dtype=int64)"
      ]
     },
     "execution_count": 44,
     "metadata": {},
     "output_type": "execute_result"
    }
   ],
   "source": [
    "from sklearn.tree import DecisionTreeClassifier # Import Decision Tree Classifier\n",
    "from sklearn.metrics import confusion_matrix, accuracy_score\n",
    "# Create Decision Tree classifer object\n",
    "clf = DecisionTreeClassifier()\n",
    "\n",
    "# Train Decision Tree Classifer\n",
    "clf = clf.fit(X_train_res,y_train_res)\n",
    "from datetime import datetime\n",
    "test_start_time = datetime.now()\n",
    "pred = clf.predict(X_test)\n",
    "test_end_time = datetime.now()\n",
    "print(\"Accuracy:\",accuracy_score(y_test, pred))\n",
    "print(\"Testing Time is\" + str(test_end_time-test_start_time))\n",
    "confusion_matrix(y_test, pred)"
   ]
  },
  {
   "cell_type": "markdown",
   "id": "705e0c2d",
   "metadata": {},
   "source": [
    "### 1. Random Forest"
   ]
  },
  {
   "cell_type": "code",
   "execution_count": 203,
   "id": "f0aeecd0",
   "metadata": {},
   "outputs": [],
   "source": [
    "from sklearn.ensemble import RandomForestClassifier\n",
    "from sklearn.metrics import confusion_matrix\n",
    "from datetime import datetime\n",
    "\n",
    "classifier_rf = RandomForestClassifier(n_estimators = 25, criterion = 'entropy', random_state = 42)\n",
    "start = datetime.now() \n",
    "classifier_rf.fit(X_train_res, y_train_res)\n",
    "stop = datetime.now()"
   ]
  },
  {
   "cell_type": "code",
   "execution_count": 204,
   "id": "61b2b2f2",
   "metadata": {},
   "outputs": [
    {
     "data": {
      "text/plain": [
       "datetime.timedelta(seconds=69, microseconds=331671)"
      ]
     },
     "execution_count": 204,
     "metadata": {},
     "output_type": "execute_result"
    }
   ],
   "source": [
    "#Execution time of the model \n",
    "execution_time_rf = stop-start \n",
    "execution_time_rf"
   ]
  },
  {
   "cell_type": "code",
   "execution_count": 205,
   "id": "e128c919",
   "metadata": {},
   "outputs": [
    {
     "data": {
      "text/plain": [
       "array([7, 7, 7, ..., 7, 7, 7])"
      ]
     },
     "execution_count": 205,
     "metadata": {},
     "output_type": "execute_result"
    }
   ],
   "source": [
    "y_pred = classifier_rf.predict(X_test)\n",
    "y_pred"
   ]
  },
  {
   "cell_type": "code",
   "execution_count": 206,
   "id": "14d2660c",
   "metadata": {},
   "outputs": [
    {
     "name": "stdout",
     "output_type": "stream",
     "text": [
      "[[  1735      0      0      0      0      0      0      0]\n",
      " [     0    105      0      0      0      0      0      0]\n",
      " [     0      0    271      0      0      0      0      0]\n",
      " [     0      0      0    238      0      0      0      0]\n",
      " [     0      0      0      0    445      0      0      0]\n",
      " [     0      0      0      0      0    162      0      0]\n",
      " [     0      0      0      0      0      0     29      0]\n",
      " [  1282      0      0      0      2      0      0 103117]]\n"
     ]
    }
   ],
   "source": [
    "cm = confusion_matrix(y_test,y_pred)\n",
    "print(cm)"
   ]
  },
  {
   "cell_type": "code",
   "execution_count": 207,
   "id": "833324df",
   "metadata": {},
   "outputs": [
    {
     "name": "stdout",
     "output_type": "stream",
     "text": [
      "              precision    recall  f1-score   support\n",
      "\n",
      "           0   0.575075  1.000000  0.730219      1735\n",
      "           1   1.000000  1.000000  1.000000       105\n",
      "           2   1.000000  1.000000  1.000000       271\n",
      "           3   1.000000  1.000000  1.000000       238\n",
      "           4   0.995526  1.000000  0.997758       445\n",
      "           5   1.000000  1.000000  1.000000       162\n",
      "           6   1.000000  1.000000  1.000000        29\n",
      "           7   1.000000  0.987701  0.993813    104401\n",
      "\n",
      "    accuracy                       0.988043    107386\n",
      "   macro avg   0.946325  0.998463  0.965224    107386\n",
      "weighted avg   0.993116  0.988043  0.989617    107386\n",
      "\n"
     ]
    }
   ],
   "source": [
    "from sklearn.metrics import classification_report\n",
    "print(classification_report(y_test, y_pred, digits=6))"
   ]
  },
  {
   "cell_type": "code",
   "execution_count": 208,
   "id": "4048bd22",
   "metadata": {},
   "outputs": [
    {
     "data": {
      "text/plain": [
       "0.9880431341143165"
      ]
     },
     "execution_count": 208,
     "metadata": {},
     "output_type": "execute_result"
    }
   ],
   "source": [
    "from sklearn.metrics import accuracy_score \n",
    "accuracy_rf = accuracy_score(y_test, y_pred) \n",
    "accuracy_rf"
   ]
  },
  {
   "cell_type": "markdown",
   "id": "d34dc20c",
   "metadata": {},
   "source": [
    "# Deep Learning Models"
   ]
  },
  {
   "cell_type": "code",
   "execution_count": 238,
   "id": "e2339e16",
   "metadata": {},
   "outputs": [
    {
     "data": {
      "text/plain": [
       "array([1, 0, 1, ..., 1, 1, 1])"
      ]
     },
     "execution_count": 238,
     "metadata": {},
     "output_type": "execute_result"
    }
   ],
   "source": [
    "y_train_res1 = np.where(y_train_res > 0, 1, 0)\n",
    "y_test1 = np.where(y_test > 0, 1, 0)\n",
    "y_train_res1"
   ]
  },
  {
   "cell_type": "code",
   "execution_count": 239,
   "id": "3f089320",
   "metadata": {},
   "outputs": [],
   "source": [
    "X_train = np.reshape(X_train_res, (X_train_res.shape[0], 1, X_train_res.shape[1]))\n",
    "X_test1 = np.reshape(X_test, (X_test.shape[0], 1, X_test.shape[1]))"
   ]
  },
  {
   "cell_type": "code",
   "execution_count": 240,
   "id": "1deae029",
   "metadata": {},
   "outputs": [
    {
     "data": {
      "text/plain": [
       "(107386, 1, 10)"
      ]
     },
     "execution_count": 240,
     "metadata": {},
     "output_type": "execute_result"
    }
   ],
   "source": [
    "X_test1.shape"
   ]
  },
  {
   "cell_type": "code",
   "execution_count": 241,
   "id": "8462c582",
   "metadata": {},
   "outputs": [
    {
     "name": "stdout",
     "output_type": "stream",
     "text": [
      "Requirement already satisfied: np_utils in c:\\users\\ayush\\anaconda3\\lib\\site-packages (0.5.12.1)Note: you may need to restart the kernel to use updated packages.\n",
      "\n",
      "Requirement already satisfied: future>=0.16 in c:\\users\\ayush\\anaconda3\\lib\\site-packages (from np_utils) (0.18.2)\n",
      "Requirement already satisfied: numpy>=1.0 in c:\\users\\ayush\\anaconda3\\lib\\site-packages (from np_utils) (1.19.5)\n"
     ]
    }
   ],
   "source": [
    "pip install np_utils"
   ]
  },
  {
   "cell_type": "code",
   "execution_count": 242,
   "id": "01c80f57",
   "metadata": {},
   "outputs": [],
   "source": [
    "from keras.utils.np_utils import to_categorical"
   ]
  },
  {
   "cell_type": "code",
   "execution_count": 243,
   "id": "9131e94b",
   "metadata": {},
   "outputs": [],
   "source": [
    "y_train_dummy = to_categorical(y_train_res)\n",
    "y_test_dummy = to_categorical(y_test)"
   ]
  },
  {
   "cell_type": "code",
   "execution_count": 244,
   "id": "4e679608",
   "metadata": {
    "scrolled": true
   },
   "outputs": [
    {
     "data": {
      "text/plain": [
       "(1948272, 8)"
      ]
     },
     "execution_count": 244,
     "metadata": {},
     "output_type": "execute_result"
    }
   ],
   "source": [
    "y_train_dummy.shape"
   ]
  },
  {
   "cell_type": "code",
   "execution_count": 245,
   "id": "d37e0be2",
   "metadata": {},
   "outputs": [
    {
     "data": {
      "text/plain": [
       "(1948272, 1, 10)"
      ]
     },
     "execution_count": 245,
     "metadata": {},
     "output_type": "execute_result"
    }
   ],
   "source": [
    "X_train.shape"
   ]
  },
  {
   "cell_type": "code",
   "execution_count": 246,
   "id": "9ee136b7",
   "metadata": {
    "scrolled": true
   },
   "outputs": [
    {
     "data": {
      "text/plain": [
       "107386"
      ]
     },
     "execution_count": 246,
     "metadata": {},
     "output_type": "execute_result"
    }
   ],
   "source": [
    "len(y_test_dummy)"
   ]
  },
  {
   "cell_type": "markdown",
   "id": "2f8e0a8c",
   "metadata": {},
   "source": [
    "## 1D CNN"
   ]
  },
  {
   "cell_type": "code",
   "execution_count": 247,
   "id": "e8cb8996",
   "metadata": {},
   "outputs": [],
   "source": [
    "from keras.layers import Conv1D"
   ]
  },
  {
   "cell_type": "code",
   "execution_count": 248,
   "id": "155caec1",
   "metadata": {},
   "outputs": [],
   "source": [
    "model = Sequential()\n",
    "model.add(Conv1D(filters=64, kernel_size=1, activation='relu', input_shape=(1,10)))\n",
    "model.add(Conv1D(filters=64, kernel_size=1, activation='relu', padding = 'same'))\n",
    "model.add(Dropout(0.3))\n",
    "model.add(MaxPooling1D(pool_size=2 , padding='same'))\n",
    "model.add(Flatten())\n",
    "model.add(Dense(16, activation='relu'))\n",
    "model.add(Dense(8, activation='softmax'))\n",
    "model.compile(loss='categorical_crossentropy', optimizer='adam', metrics=['accuracy'])"
   ]
  },
  {
   "cell_type": "code",
   "execution_count": 249,
   "id": "cc4b5c6f",
   "metadata": {},
   "outputs": [
    {
     "name": "stdout",
     "output_type": "stream",
     "text": [
      "Model: \"sequential_38\"\n",
      "_________________________________________________________________\n",
      "Layer (type)                 Output Shape              Param #   \n",
      "=================================================================\n",
      "conv1d_27 (Conv1D)           (None, 1, 64)             704       \n",
      "_________________________________________________________________\n",
      "conv1d_28 (Conv1D)           (None, 1, 64)             4160      \n",
      "_________________________________________________________________\n",
      "dropout_36 (Dropout)         (None, 1, 64)             0         \n",
      "_________________________________________________________________\n",
      "max_pooling1d_8 (MaxPooling1 (None, 1, 64)             0         \n",
      "_________________________________________________________________\n",
      "flatten_1 (Flatten)          (None, 64)                0         \n",
      "_________________________________________________________________\n",
      "dense_15 (Dense)             (None, 16)                1040      \n",
      "_________________________________________________________________\n",
      "dense_16 (Dense)             (None, 8)                 136       \n",
      "=================================================================\n",
      "Total params: 6,040\n",
      "Trainable params: 6,040\n",
      "Non-trainable params: 0\n",
      "_________________________________________________________________\n"
     ]
    }
   ],
   "source": [
    "model.summary()"
   ]
  },
  {
   "cell_type": "code",
   "execution_count": 250,
   "id": "a79a2e42",
   "metadata": {
    "scrolled": true
   },
   "outputs": [
    {
     "name": "stdout",
     "output_type": "stream",
     "text": [
      "Epoch 1/10\n",
      "3806/3806 [==============================] - 189s 49ms/step - loss: 0.0739 - accuracy: 0.9795 - val_loss: 0.0476 - val_accuracy: 0.9872\n",
      "Epoch 2/10\n",
      "3806/3806 [==============================] - 173s 46ms/step - loss: 0.0082 - accuracy: 0.9983 - val_loss: 0.0412 - val_accuracy: 0.9880\n",
      "Epoch 3/10\n",
      "3806/3806 [==============================] - 170s 45ms/step - loss: 0.0074 - accuracy: 0.9984 - val_loss: 0.0404 - val_accuracy: 0.9879\n",
      "Epoch 4/10\n",
      "3806/3806 [==============================] - 162s 43ms/step - loss: 0.0071 - accuracy: 0.9984 - val_loss: 0.0408 - val_accuracy: 0.9880\n",
      "Epoch 5/10\n",
      "3806/3806 [==============================] - 159s 42ms/step - loss: 0.0071 - accuracy: 0.9984 - val_loss: 0.0405 - val_accuracy: 0.9880\n",
      "Epoch 6/10\n",
      "3806/3806 [==============================] - 177s 47ms/step - loss: 0.0070 - accuracy: 0.9984 - val_loss: 0.0448 - val_accuracy: 0.9880\n",
      "Epoch 7/10\n",
      "3806/3806 [==============================] - 179s 47ms/step - loss: 0.0069 - accuracy: 0.9984 - val_loss: 0.0436 - val_accuracy: 0.9880\n",
      "Epoch 8/10\n",
      "3806/3806 [==============================] - 160s 42ms/step - loss: 0.0069 - accuracy: 0.9984 - val_loss: 0.0408 - val_accuracy: 0.9880\n",
      "Epoch 9/10\n",
      "3806/3806 [==============================] - 173s 46ms/step - loss: 0.0069 - accuracy: 0.9984 - val_loss: 0.0432 - val_accuracy: 0.9880\n",
      "Epoch 10/10\n",
      "3806/3806 [==============================] - 177s 47ms/step - loss: 0.0069 - accuracy: 0.9985 - val_loss: 0.0423 - val_accuracy: 0.9880\n"
     ]
    },
    {
     "ename": "NameError",
     "evalue": "name 'verbose' is not defined",
     "output_type": "error",
     "traceback": [
      "\u001b[1;31m---------------------------------------------------------------------------\u001b[0m",
      "\u001b[1;31mNameError\u001b[0m                                 Traceback (most recent call last)",
      "\u001b[1;32m<ipython-input-250-a15edf9b3f02>\u001b[0m in \u001b[0;36m<module>\u001b[1;34m\u001b[0m\n\u001b[0;32m      5\u001b[0m \u001b[1;33m\u001b[0m\u001b[0m\n\u001b[0;32m      6\u001b[0m \u001b[1;31m# evaluate model\u001b[0m\u001b[1;33m\u001b[0m\u001b[1;33m\u001b[0m\u001b[1;33m\u001b[0m\u001b[0m\n\u001b[1;32m----> 7\u001b[1;33m \u001b[1;33m(\u001b[0m\u001b[0mloss\u001b[0m\u001b[1;33m,\u001b[0m \u001b[0maccuracy\u001b[0m\u001b[1;33m)\u001b[0m \u001b[1;33m=\u001b[0m \u001b[0mmodel\u001b[0m\u001b[1;33m.\u001b[0m\u001b[0mevaluate\u001b[0m\u001b[1;33m(\u001b[0m\u001b[0mX_test1\u001b[0m\u001b[1;33m,\u001b[0m \u001b[0my_test_dummy\u001b[0m\u001b[1;33m,\u001b[0m \u001b[0mbatch_size\u001b[0m\u001b[1;33m=\u001b[0m\u001b[1;36m512\u001b[0m\u001b[1;33m,\u001b[0m \u001b[0mverbose\u001b[0m\u001b[1;33m=\u001b[0m\u001b[0mverbose\u001b[0m\u001b[1;33m)\u001b[0m\u001b[1;33m\u001b[0m\u001b[1;33m\u001b[0m\u001b[0m\n\u001b[0m\u001b[0;32m      8\u001b[0m \u001b[0mprint\u001b[0m\u001b[1;33m(\u001b[0m\u001b[1;34m\"[INFO] loss={:.4f}, accuracy: {:.4f}%\"\u001b[0m\u001b[1;33m.\u001b[0m\u001b[0mformat\u001b[0m\u001b[1;33m(\u001b[0m\u001b[0mloss\u001b[0m\u001b[1;33m,\u001b[0m \u001b[0maccuracy\u001b[0m \u001b[1;33m*\u001b[0m \u001b[1;36m100\u001b[0m\u001b[1;33m)\u001b[0m\u001b[1;33m)\u001b[0m\u001b[1;33m\u001b[0m\u001b[1;33m\u001b[0m\u001b[0m\n",
      "\u001b[1;31mNameError\u001b[0m: name 'verbose' is not defined"
     ]
    }
   ],
   "source": [
    "# fit network\n",
    "history = model.fit(X_train, y_train_dummy, validation_data=(X_test1, y_test_dummy), \n",
    "                    epochs=10, batch_size=512,verbose=1)\n",
    "\n",
    "\n",
    "# evaluate model\n",
    "(loss, accuracy) = model.evaluate(X_test1, y_test_dummy, batch_size=512, verbose=verbose)\n",
    "print(\"[INFO] loss={:.4f}, accuracy: {:.4f}%\".format(loss, accuracy * 100))"
   ]
  },
  {
   "cell_type": "code",
   "execution_count": 252,
   "id": "e77cabbe",
   "metadata": {
    "scrolled": false
   },
   "outputs": [
    {
     "data": {
      "text/plain": [
       "<function matplotlib.pyplot.show(close=None, block=None)>"
      ]
     },
     "execution_count": 252,
     "metadata": {},
     "output_type": "execute_result"
    },
    {
     "data": {
      "image/png": "[encoded data removed]",
      "text/plain": [
       "<Figure size 432x288 with 1 Axes>"
      ]
     },
     "metadata": {
      "needs_background": "light"
     },
     "output_type": "display_data"
    }
   ],
   "source": [
    "import matplotlib.pyplot as plt\n",
    "history_dict = history.history\n",
    "\n",
    "# learning curve\n",
    "# accuracy\n",
    "acc = history_dict['accuracy']\n",
    "val_acc = history_dict['val_accuracy']\n",
    "\n",
    "loss=history_dict['loss']\n",
    "val_loss=history_dict['val_loss']\n",
    "# loss\n",
    "loss = history_dict['loss']\n",
    "val_loss = history_dict['val_loss']\n",
    "\n",
    "# range of X (no. of epochs)\n",
    "epochs = range(1, len(acc) + 1)\n",
    "\n",
    "# plot\n",
    "# \"r\" is for \"solid red line\"\n",
    "plt.plot(epochs, acc, 'r', label='Training accuracy')\n",
    "# b is for \"solid blue line\"\n",
    "plt.plot(epochs, val_acc, 'b', label='Validation accuracy')\n",
    "plt.title('Training and validation accuracy')\n",
    "plt.xlabel('Epochs')\n",
    "plt.ylabel('Accuracy')\n",
    "plt.legend()\n",
    "plt.show"
   ]
  },
  {
   "cell_type": "markdown",
   "id": "fb3f9e7a",
   "metadata": {},
   "source": [
    "## Stacking Machine Learning Models"
   ]
  },
  {
   "cell_type": "code",
   "execution_count": 21,
   "id": "ce07fa44",
   "metadata": {},
   "outputs": [],
   "source": [
    "from xgboost import XGBClassifier\n",
    "from sklearn.tree import DecisionTreeClassifier\n",
    "from sklearn.ensemble import RandomForestClassifier"
   ]
  },
  {
   "cell_type": "code",
   "execution_count": 22,
   "id": "a81bd9fe",
   "metadata": {},
   "outputs": [],
   "source": [
    "dtc =  DecisionTreeClassifier()\n",
    "rfc = RandomForestClassifier()\n",
    "xgb = XGBClassifier()"
   ]
  },
  {
   "cell_type": "code",
   "execution_count": null,
   "id": "4ac71aa1",
   "metadata": {},
   "outputs": [],
   "source": [
    "from sklearn.model_selection import cross_val_score\n",
    "clf = [dtc,rfc,xgb]\n",
    "for algo in clf:\n",
    "    score = cross_val_score( algo,X_train_res,y_train_res,cv = 5,scoring = 'accuracy')\n",
    "    print(\"The accuracy score of {} is:\".format(algo),score.mean())"
   ]
  },
  {
   "cell_type": "code",
   "execution_count": 24,
   "id": "20b5d624",
   "metadata": {},
   "outputs": [],
   "source": [
    "clf = [('dtc',dtc),('rfc',rfc)] #list of (str, estimator)"
   ]
  },
  {
   "cell_type": "code",
   "execution_count": 33,
   "id": "b4cbda08",
   "metadata": {},
   "outputs": [],
   "source": [
    "from sklearn.ensemble import StackingClassifier\n",
    "from sklearn.linear_model import LogisticRegression\n",
    "from datetime import datetime"
   ]
  },
  {
   "cell_type": "code",
   "execution_count": null,
   "id": "4d6e63ab",
   "metadata": {},
   "outputs": [],
   "source": [
    "lr = LogisticRegression()\n",
    "stack_model = StackingClassifier( estimators = clf,final_estimator = lr)\n",
    "start=datetime.now()\n",
    "score = cross_val_score(stack_model,X_train_res,y_train_res,cv = 5,scoring = 'accuracy')\n",
    "end=datetime.now()\n",
    "print(\"The accuracy score is:\",score.mean())\n",
    "print(\"The Training time is:\", end-start)"
   ]
  }
 ],
 "metadata": {
  "kernelspec": {
   "display_name": "Python 3",
   "language": "python",
   "name": "python3"
  },
  "language_info": {
   "codemirror_mode": {
    "name": "ipython",
    "version": 3
   },
   "file_extension": ".py",
   "mimetype": "text/x-python",
   "name": "python",
   "nbconvert_exporter": "python",
   "pygments_lexer": "ipython3",
   "version": "3.8.8"
  }
 },
 "nbformat": 4,
 "nbformat_minor": 5
}
