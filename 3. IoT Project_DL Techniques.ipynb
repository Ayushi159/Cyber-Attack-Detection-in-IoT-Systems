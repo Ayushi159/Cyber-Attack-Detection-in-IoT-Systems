{
  "nbformat": 4,
  "nbformat_minor": 5,
  "metadata": {
    "accelerator": "GPU",
    "colab": {
      "name": "Copy of IoT Project.ipynb",
      "provenance": []
    },
    "kernelspec": {
      "display_name": "Python 3",
      "language": "python",
      "name": "python3"
    },
    "language_info": {
      "codemirror_mode": {
        "name": "ipython",
        "version": 3
      },
      "file_extension": ".py",
      "mimetype": "text/x-python",
      "name": "python",
      "nbconvert_exporter": "python",
      "pygments_lexer": "ipython3",
      "version": "3.7.1"
    }
  },
  "cells": [
    {
      "cell_type": "markdown",
      "metadata": {
        "id": "vsyMK3ICq4WE"
      },
      "source": [
        "# Cyber Attack Detection in IoT Systems"
      ],
      "id": "vsyMK3ICq4WE"
    },
    {
      "cell_type": "code",
      "metadata": {
        "id": "mYZS1Tkyq4Wb"
      },
      "source": [
        "import pandas as pd\n",
        "import numpy as np\n",
        "import matplotlib.pyplot as plt\n",
        "from sklearn.impute import SimpleImputer\n",
        "import seaborn as sns\n",
        "import warnings\n",
        "warnings.filterwarnings('ignore')"
      ],
      "id": "mYZS1Tkyq4Wb",
      "execution_count": null,
      "outputs": []
    },
    {
      "cell_type": "markdown",
      "metadata": {
        "id": "fmwioH2Mq4Wr"
      },
      "source": [
        "## Dataset Collection"
      ],
      "id": "fmwioH2Mq4Wr"
    },
    {
      "cell_type": "code",
      "metadata": {
        "colab": {
          "base_uri": "https://localhost:8080/"
        },
        "id": "mLxuXlTErVvW",
        "outputId": "1c0cbc94-6526-42c7-c20e-3a6c61d8961c"
      },
      "source": [
        "#Importing datasets from google drive \n",
        "from google.colab import drive \n",
        "drive.mount('/content/gdrive')"
      ],
      "id": "mLxuXlTErVvW",
      "execution_count": null,
      "outputs": [
        {
          "output_type": "stream",
          "name": "stdout",
          "text": [
            "Mounted at /content/gdrive\n"
          ]
        }
      ]
    },
    {
      "cell_type": "code",
      "metadata": {
        "id": "DqqrTVCTq4Ws"
      },
      "source": [
        "Network_Traces=pd.read_csv(\"gdrive/My Drive/Colab Notebooks/iot/mainSimulationAccessTraces.csv\")"
      ],
      "id": "DqqrTVCTq4Ws",
      "execution_count": null,
      "outputs": []
    },
    {
      "cell_type": "code",
      "metadata": {
        "colab": {
          "base_uri": "https://localhost:8080/"
        },
        "id": "G8DPg5lfq4Wt",
        "scrolled": true,
        "outputId": "f085cefe-22a6-4642-cd11-553ec9646623"
      },
      "source": [
        "Network_Traces"
      ],
      "id": "G8DPg5lfq4Wt",
      "execution_count": null,
      "outputs": [
        {
          "output_type": "execute_result",
          "data": {
            "text/html": [
              "<div>\n",
              "<style scoped>\n",
              "    .dataframe tbody tr th:only-of-type {\n",
              "        vertical-align: middle;\n",
              "    }\n",
              "\n",
              "    .dataframe tbody tr th {\n",
              "        vertical-align: top;\n",
              "    }\n",
              "\n",
              "    .dataframe thead th {\n",
              "        text-align: right;\n",
              "    }\n",
              "</style>\n",
              "<table border=\"1\" class=\"dataframe\">\n",
              "  <thead>\n",
              "    <tr style=\"text-align: right;\">\n",
              "      <th></th>\n",
              "      <th>sourceID</th>\n",
              "      <th>sourceAddress</th>\n",
              "      <th>sourceType</th>\n",
              "      <th>sourceLocation</th>\n",
              "      <th>destinationServiceAddress</th>\n",
              "      <th>destinationServiceType</th>\n",
              "      <th>destinationLocation</th>\n",
              "      <th>accessedNodeAddress</th>\n",
              "      <th>accessedNodeType</th>\n",
              "      <th>operation</th>\n",
              "      <th>value</th>\n",
              "      <th>timestamp</th>\n",
              "      <th>normality</th>\n",
              "    </tr>\n",
              "  </thead>\n",
              "  <tbody>\n",
              "    <tr>\n",
              "      <th>0</th>\n",
              "      <td>lightcontrol2</td>\n",
              "      <td>/agent2/lightcontrol2</td>\n",
              "      <td>/lightControler</td>\n",
              "      <td>BedroomParents</td>\n",
              "      <td>/agent2/lightcontrol2</td>\n",
              "      <td>/lightControler</td>\n",
              "      <td>BedroomParents</td>\n",
              "      <td>/agent2/lightcontrol2</td>\n",
              "      <td>/lightControler</td>\n",
              "      <td>registerService</td>\n",
              "      <td>none</td>\n",
              "      <td>1520031600000</td>\n",
              "      <td>normal</td>\n",
              "    </tr>\n",
              "    <tr>\n",
              "      <th>1</th>\n",
              "      <td>lightcontrol3</td>\n",
              "      <td>/agent3/lightcontrol3</td>\n",
              "      <td>/lightControler</td>\n",
              "      <td>Dinningroom</td>\n",
              "      <td>/agent3/lightcontrol3</td>\n",
              "      <td>/lightControler</td>\n",
              "      <td>Dinningroom</td>\n",
              "      <td>/agent3/lightcontrol3</td>\n",
              "      <td>/lightControler</td>\n",
              "      <td>registerService</td>\n",
              "      <td>none</td>\n",
              "      <td>1520031603269</td>\n",
              "      <td>normal</td>\n",
              "    </tr>\n",
              "    <tr>\n",
              "      <th>2</th>\n",
              "      <td>lightcontrol1</td>\n",
              "      <td>/agent1/lightcontrol1</td>\n",
              "      <td>/lightControler</td>\n",
              "      <td>BedroomChildren</td>\n",
              "      <td>/agent1/lightcontrol1</td>\n",
              "      <td>/lightControler</td>\n",
              "      <td>BedroomChildren</td>\n",
              "      <td>/agent1/lightcontrol1</td>\n",
              "      <td>/lightControler</td>\n",
              "      <td>registerService</td>\n",
              "      <td>none</td>\n",
              "      <td>1520031603279</td>\n",
              "      <td>normal</td>\n",
              "    </tr>\n",
              "    <tr>\n",
              "      <th>3</th>\n",
              "      <td>lightcontrol4</td>\n",
              "      <td>/agent4/lightcontrol4</td>\n",
              "      <td>/lightControler</td>\n",
              "      <td>Kitchen</td>\n",
              "      <td>/agent4/lightcontrol4</td>\n",
              "      <td>/lightControler</td>\n",
              "      <td>Kitchen</td>\n",
              "      <td>/agent4/lightcontrol4</td>\n",
              "      <td>/lightControler</td>\n",
              "      <td>registerService</td>\n",
              "      <td>none</td>\n",
              "      <td>1520031603290</td>\n",
              "      <td>normal</td>\n",
              "    </tr>\n",
              "    <tr>\n",
              "      <th>4</th>\n",
              "      <td>movement4</td>\n",
              "      <td>/agent4/movement4</td>\n",
              "      <td>/movementSensor</td>\n",
              "      <td>Kitchen</td>\n",
              "      <td>/agent4/movement4</td>\n",
              "      <td>/movementSensor</td>\n",
              "      <td>Kitchen</td>\n",
              "      <td>/agent4/movement4</td>\n",
              "      <td>/movementSensor</td>\n",
              "      <td>registerService</td>\n",
              "      <td>none</td>\n",
              "      <td>1520031603464</td>\n",
              "      <td>normal</td>\n",
              "    </tr>\n",
              "    <tr>\n",
              "      <th>...</th>\n",
              "      <td>...</td>\n",
              "      <td>...</td>\n",
              "      <td>...</td>\n",
              "      <td>...</td>\n",
              "      <td>...</td>\n",
              "      <td>...</td>\n",
              "      <td>...</td>\n",
              "      <td>...</td>\n",
              "      <td>...</td>\n",
              "      <td>...</td>\n",
              "      <td>...</td>\n",
              "      <td>...</td>\n",
              "      <td>...</td>\n",
              "    </tr>\n",
              "    <tr>\n",
              "      <th>357947</th>\n",
              "      <td>lightcontrol23</td>\n",
              "      <td>/agent23/lightcontrol23</td>\n",
              "      <td>/lightControler</td>\n",
              "      <td>room_4</td>\n",
              "      <td>/agent23/tempin23</td>\n",
              "      <td>/sensorService</td>\n",
              "      <td>room_4</td>\n",
              "      <td>/agent23/tempin23</td>\n",
              "      <td>/sensorService</td>\n",
              "      <td>read</td>\n",
              "      <td>20.3479</td>\n",
              "      <td>1520117997001</td>\n",
              "      <td>normal</td>\n",
              "    </tr>\n",
              "    <tr>\n",
              "      <th>357948</th>\n",
              "      <td>washingmachine2</td>\n",
              "      <td>/agent11/washingmachine2</td>\n",
              "      <td>/washingService</td>\n",
              "      <td>Watterroom</td>\n",
              "      <td>/agent11/battery4</td>\n",
              "      <td>/batteryService</td>\n",
              "      <td>Watterroom</td>\n",
              "      <td>/agent11/battery4/charge</td>\n",
              "      <td>/basic/number</td>\n",
              "      <td>read</td>\n",
              "      <td>9</td>\n",
              "      <td>1520117997339</td>\n",
              "      <td>normal</td>\n",
              "    </tr>\n",
              "    <tr>\n",
              "      <th>357949</th>\n",
              "      <td>washingmachine2</td>\n",
              "      <td>/agent11/washingmachine2</td>\n",
              "      <td>/washingService</td>\n",
              "      <td>Watterroom</td>\n",
              "      <td>/agent11/battery4</td>\n",
              "      <td>/batteryService</td>\n",
              "      <td>Watterroom</td>\n",
              "      <td>/agent11/battery4/charging</td>\n",
              "      <td>/basic/text</td>\n",
              "      <td>read</td>\n",
              "      <td>true</td>\n",
              "      <td>1520117997401</td>\n",
              "      <td>normal</td>\n",
              "    </tr>\n",
              "    <tr>\n",
              "      <th>357950</th>\n",
              "      <td>lightcontrol28</td>\n",
              "      <td>/agent28/lightcontrol28</td>\n",
              "      <td>/lightControler</td>\n",
              "      <td>room_9</td>\n",
              "      <td>/agent28/movement28</td>\n",
              "      <td>/movementSensor</td>\n",
              "      <td>room_9</td>\n",
              "      <td>/agent28/movement28/movement</td>\n",
              "      <td>/derived/boolean</td>\n",
              "      <td>read</td>\n",
              "      <td>0</td>\n",
              "      <td>1520117998907</td>\n",
              "      <td>normal</td>\n",
              "    </tr>\n",
              "    <tr>\n",
              "      <th>357951</th>\n",
              "      <td>lightcontrol28</td>\n",
              "      <td>/agent28/lightcontrol28</td>\n",
              "      <td>/lightControler</td>\n",
              "      <td>room_9</td>\n",
              "      <td>/agent28/tempin28</td>\n",
              "      <td>/sensorService</td>\n",
              "      <td>room_9</td>\n",
              "      <td>/agent28/tempin28</td>\n",
              "      <td>/sensorService</td>\n",
              "      <td>read</td>\n",
              "      <td>20.4131</td>\n",
              "      <td>1520117999000</td>\n",
              "      <td>normal</td>\n",
              "    </tr>\n",
              "  </tbody>\n",
              "</table>\n",
              "<p>357952 rows × 13 columns</p>\n",
              "</div>"
            ],
            "text/plain": [
              "               sourceID             sourceAddress  ...      timestamp normality\n",
              "0         lightcontrol2     /agent2/lightcontrol2  ...  1520031600000    normal\n",
              "1         lightcontrol3     /agent3/lightcontrol3  ...  1520031603269    normal\n",
              "2         lightcontrol1     /agent1/lightcontrol1  ...  1520031603279    normal\n",
              "3         lightcontrol4     /agent4/lightcontrol4  ...  1520031603290    normal\n",
              "4             movement4         /agent4/movement4  ...  1520031603464    normal\n",
              "...                 ...                       ...  ...            ...       ...\n",
              "357947   lightcontrol23   /agent23/lightcontrol23  ...  1520117997001    normal\n",
              "357948  washingmachine2  /agent11/washingmachine2  ...  1520117997339    normal\n",
              "357949  washingmachine2  /agent11/washingmachine2  ...  1520117997401    normal\n",
              "357950   lightcontrol28   /agent28/lightcontrol28  ...  1520117998907    normal\n",
              "357951   lightcontrol28   /agent28/lightcontrol28  ...  1520117999000    normal\n",
              "\n",
              "[357952 rows x 13 columns]"
            ]
          },
          "metadata": {},
          "execution_count": 4
        }
      ]
    },
    {
      "cell_type": "code",
      "metadata": {
        "colab": {
          "base_uri": "https://localhost:8080/"
        },
        "id": "M2zeDY0kq4Ww",
        "outputId": "0bc7562a-25b2-4d59-a440-b5c34670004f"
      },
      "source": [
        "Network_Traces['normality'].unique()"
      ],
      "id": "M2zeDY0kq4Ww",
      "execution_count": null,
      "outputs": [
        {
          "output_type": "execute_result",
          "data": {
            "text/plain": [
              "array(['normal', 'anomalous(scan)', 'anomalous(malitiousOperation)',\n",
              "       'anomalous(DoSattack)', 'anomalous(spying)',\n",
              "       'anomalous(dataProbing)', 'anomalous(wrongSetUp)',\n",
              "       'anomalous(malitiousControl)'], dtype=object)"
            ]
          },
          "metadata": {},
          "execution_count": 5
        }
      ]
    },
    {
      "cell_type": "markdown",
      "metadata": {
        "id": "DNwA2tpoq4Wy"
      },
      "source": [
        "## Features and Labels Description"
      ],
      "id": "DNwA2tpoq4Wy"
    },
    {
      "cell_type": "code",
      "metadata": {
        "id": "TVlZ4VAfq4W-"
      },
      "source": [
        "Features=Network_Traces.iloc[:,:-1]"
      ],
      "id": "TVlZ4VAfq4W-",
      "execution_count": null,
      "outputs": []
    },
    {
      "cell_type": "code",
      "metadata": {
        "id": "iBRgtyRpq4W_"
      },
      "source": [
        "Labels=Network_Traces.iloc[:,-1]"
      ],
      "id": "iBRgtyRpq4W_",
      "execution_count": null,
      "outputs": []
    },
    {
      "cell_type": "code",
      "metadata": {
        "colab": {
          "base_uri": "https://localhost:8080/"
        },
        "id": "SfBRjGHHq4XB",
        "scrolled": true,
        "outputId": "e93981cc-807e-4fa5-b147-aae5a5b14799"
      },
      "source": [
        "Labels.describe()"
      ],
      "id": "SfBRjGHHq4XB",
      "execution_count": null,
      "outputs": [
        {
          "output_type": "execute_result",
          "data": {
            "text/plain": [
              "count     357952\n",
              "unique         8\n",
              "top       normal\n",
              "freq      347935\n",
              "Name: normality, dtype: object"
            ]
          },
          "metadata": {},
          "execution_count": 8
        }
      ]
    },
    {
      "cell_type": "code",
      "metadata": {
        "colab": {
          "base_uri": "https://localhost:8080/"
        },
        "id": "7iXa0J5Mq4XP",
        "scrolled": false,
        "outputId": "6fe68c37-4a02-4bf2-ef06-332c7a4b42a7"
      },
      "source": [
        "Features.columns"
      ],
      "id": "7iXa0J5Mq4XP",
      "execution_count": null,
      "outputs": [
        {
          "output_type": "execute_result",
          "data": {
            "text/plain": [
              "Index(['sourceID', 'sourceAddress', 'sourceType', 'sourceLocation',\n",
              "       'destinationServiceAddress', 'destinationServiceType',\n",
              "       'destinationLocation', 'accessedNodeAddress', 'accessedNodeType',\n",
              "       'operation', 'value', 'timestamp'],\n",
              "      dtype='object')"
            ]
          },
          "metadata": {},
          "execution_count": 9
        }
      ]
    },
    {
      "cell_type": "code",
      "metadata": {
        "colab": {
          "base_uri": "https://localhost:8080/"
        },
        "id": "3EpUE3fpq4XW",
        "outputId": "8b6c9ff3-bef1-4779-f26c-ab671544d5a2"
      },
      "source": [
        "Features['sourceType'].unique()"
      ],
      "id": "3EpUE3fpq4XW",
      "execution_count": null,
      "outputs": [
        {
          "output_type": "execute_result",
          "data": {
            "text/plain": [
              "array(['/lightControler', '/movementSensor', '/sensorService',\n",
              "       '/batteryService', '/doorLockService', '/thermostat',\n",
              "       '/washingService', '/smartPhone'], dtype=object)"
            ]
          },
          "metadata": {},
          "execution_count": 10
        }
      ]
    },
    {
      "cell_type": "code",
      "metadata": {
        "colab": {
          "base_uri": "https://localhost:8080/"
        },
        "id": "vQpbGL8hq4XX",
        "outputId": "06918997-1aad-4bfd-c082-3a0d2b93fdb5"
      },
      "source": [
        "Features['sourceLocation'].unique()"
      ],
      "id": "vQpbGL8hq4XX",
      "execution_count": null,
      "outputs": [
        {
          "output_type": "execute_result",
          "data": {
            "text/plain": [
              "array(['BedroomParents', 'Dinningroom', 'BedroomChildren', 'Kitchen',\n",
              "       'Garage', 'Bathroom', 'Livingroom', 'Watterroom', 'Bedroom',\n",
              "       'Entrance', 'Showerroom', 'room_1', 'room_2', 'room_3', 'room_4',\n",
              "       'room_5', 'room_6', 'room_7', 'room_9', 'room_8', 'room_10'],\n",
              "      dtype=object)"
            ]
          },
          "metadata": {},
          "execution_count": 11
        }
      ]
    },
    {
      "cell_type": "code",
      "metadata": {
        "colab": {
          "base_uri": "https://localhost:8080/"
        },
        "id": "mhGoLPrzq4XZ",
        "outputId": "3e1f1009-2518-47bb-c5e8-a67df622872b"
      },
      "source": [
        "Features['destinationServiceType'].unique()"
      ],
      "id": "mhGoLPrzq4XZ",
      "execution_count": null,
      "outputs": [
        {
          "output_type": "execute_result",
          "data": {
            "text/plain": [
              "array(['/lightControler', '/movementSensor', '/sensorService',\n",
              "       '/batteryService', '/doorLockService', '/thermostat',\n",
              "       '/washingService', '/smartPhone'], dtype=object)"
            ]
          },
          "metadata": {},
          "execution_count": 12
        }
      ]
    },
    {
      "cell_type": "code",
      "metadata": {
        "colab": {
          "base_uri": "https://localhost:8080/"
        },
        "id": "3BSCN0L3q4Xa",
        "scrolled": false,
        "outputId": "26925579-a98d-411c-df60-62459ad07c90"
      },
      "source": [
        "Features['destinationLocation'].unique()"
      ],
      "id": "3BSCN0L3q4Xa",
      "execution_count": null,
      "outputs": [
        {
          "output_type": "execute_result",
          "data": {
            "text/plain": [
              "array(['BedroomParents', 'Dinningroom', 'BedroomChildren', 'Kitchen',\n",
              "       'Garage', 'Bathroom', 'Livingroom', 'Watterroom', 'Bedroom',\n",
              "       'Entrance', 'Showerroom', 'room_1', 'room_2', 'room_3', 'room_4',\n",
              "       'room_5', 'room_6', 'room_7', 'room_9', 'room_8', 'room_10'],\n",
              "      dtype=object)"
            ]
          },
          "metadata": {},
          "execution_count": 13
        }
      ]
    },
    {
      "cell_type": "code",
      "metadata": {
        "colab": {
          "base_uri": "https://localhost:8080/"
        },
        "id": "GYZHxtbwq4Xb",
        "outputId": "b93700e0-8d21-4f4f-fc2b-31ed642eb65b"
      },
      "source": [
        "Features['accessedNodeType'].unique()"
      ],
      "id": "GYZHxtbwq4Xb",
      "execution_count": null,
      "outputs": [
        {
          "output_type": "execute_result",
          "data": {
            "text/plain": [
              "array(['/lightControler', '/movementSensor', '/sensorService',\n",
              "       '/derived/boolean', '/basic/number', '/batteryService',\n",
              "       '/doorLockService', '/thermostat', '/washingService',\n",
              "       '/basic/text', '/smartPhone', nan, '/basic/composed'], dtype=object)"
            ]
          },
          "metadata": {},
          "execution_count": 14
        }
      ]
    },
    {
      "cell_type": "code",
      "metadata": {
        "colab": {
          "base_uri": "https://localhost:8080/"
        },
        "id": "y3SnbtHZq4Xj",
        "scrolled": true,
        "outputId": "22d459a9-8d48-437b-d93d-63432ff26e58"
      },
      "source": [
        "Features['operation'].unique()"
      ],
      "id": "y3SnbtHZq4Xj",
      "execution_count": null,
      "outputs": [
        {
          "output_type": "execute_result",
          "data": {
            "text/plain": [
              "array(['registerService', 'write', 'read', 'subscribe', 'lockSubtree'],\n",
              "      dtype=object)"
            ]
          },
          "metadata": {},
          "execution_count": 15
        }
      ]
    },
    {
      "cell_type": "code",
      "metadata": {
        "colab": {
          "base_uri": "https://localhost:8080/"
        },
        "id": "WnTJzrqFq4Xl",
        "scrolled": true,
        "outputId": "4edc523f-a159-4b3f-f71e-d58fa8db5cbe"
      },
      "source": [
        "sns.countplot(Features.sourceType)\n",
        "plt.xticks(rotation=90)\n",
        "plt.show()"
      ],
      "id": "WnTJzrqFq4Xl",
      "execution_count": null,
      "outputs": [
        {
          "output_type": "display_data",
          "data": {
            "image/png": "[encoded data removed]",
            "text/plain": [
              "<Figure size 432x288 with 1 Axes>"
            ]
          },
          "metadata": {
            "needs_background": "light"
          }
        }
      ]
    },
    {
      "cell_type": "code",
      "metadata": {
        "colab": {
          "base_uri": "https://localhost:8080/"
        },
        "id": "6CCuKViSq4Xm",
        "scrolled": true,
        "outputId": "f0486547-8fda-4646-e37a-bb5db88a9ceb"
      },
      "source": [
        "sns.countplot(Features.sourceLocation)\n",
        "plt.xticks(rotation=90)\n",
        "plt.show()"
      ],
      "id": "6CCuKViSq4Xm",
      "execution_count": null,
      "outputs": [
        {
          "output_type": "display_data",
          "data": {
            "image/png": "[encoded data removed]",
            "text/plain": [
              "<Figure size 432x288 with 1 Axes>"
            ]
          },
          "metadata": {
            "needs_background": "light"
          }
        }
      ]
    },
    {
      "cell_type": "code",
      "metadata": {
        "colab": {
          "base_uri": "https://localhost:8080/"
        },
        "id": "dr4JZ_NHq4Xn",
        "outputId": "26deff47-d90d-466e-ebd5-b2f7e5ba1fa3"
      },
      "source": [
        "sns.countplot(Features.destinationServiceType)\n",
        "plt.xticks(rotation=90)\n",
        "plt.show()"
      ],
      "id": "dr4JZ_NHq4Xn",
      "execution_count": null,
      "outputs": [
        {
          "output_type": "display_data",
          "data": {
            "image/png": "[encoded data removed]",
            "text/plain": [
              "<Figure size 432x288 with 1 Axes>"
            ]
          },
          "metadata": {
            "needs_background": "light"
          }
        }
      ]
    },
    {
      "cell_type": "code",
      "metadata": {
        "colab": {
          "base_uri": "https://localhost:8080/"
        },
        "id": "6ZRbszdZq4Xs",
        "outputId": "75d7b9d1-45a7-4c1c-ef94-cd476ff9f4be"
      },
      "source": [
        "sns.countplot(Features.destinationLocation)\n",
        "plt.xticks(rotation=90)\n",
        "plt.show()"
      ],
      "id": "6ZRbszdZq4Xs",
      "execution_count": null,
      "outputs": [
        {
          "output_type": "display_data",
          "data": {
            "image/png": "[encoded data removed]",
            "text/plain": [
              "<Figure size 432x288 with 1 Axes>"
            ]
          },
          "metadata": {
            "needs_background": "light"
          }
        }
      ]
    },
    {
      "cell_type": "code",
      "metadata": {
        "colab": {
          "base_uri": "https://localhost:8080/"
        },
        "id": "NuG4qjAaq4Xt",
        "outputId": "32d0ce77-1948-4c97-bf40-b929993cc9e1"
      },
      "source": [
        "sns.countplot(Features.accessedNodeType)\n",
        "plt.xticks(rotation=90)\n",
        "plt.show()"
      ],
      "id": "NuG4qjAaq4Xt",
      "execution_count": null,
      "outputs": [
        {
          "output_type": "display_data",
          "data": {
            "image/png": "[encoded data removed]",
            "text/plain": [
              "<Figure size 432x288 with 1 Axes>"
            ]
          },
          "metadata": {
            "needs_background": "light"
          }
        }
      ]
    },
    {
      "cell_type": "code",
      "metadata": {
        "colab": {
          "base_uri": "https://localhost:8080/"
        },
        "id": "ljz2lEeoq4X6",
        "scrolled": true,
        "outputId": "3904ee91-b641-4f7f-b5ed-68704463435b"
      },
      "source": [
        "sns.countplot(Features['operation'])\n",
        "plt.xticks(rotation=90)\n",
        "plt.show()"
      ],
      "id": "ljz2lEeoq4X6",
      "execution_count": null,
      "outputs": [
        {
          "output_type": "display_data",
          "data": {
            "image/png": "[encoded data removed]",
            "text/plain": [
              "<Figure size 432x288 with 1 Axes>"
            ]
          },
          "metadata": {
            "needs_background": "light"
          }
        }
      ]
    },
    {
      "cell_type": "code",
      "metadata": {
        "colab": {
          "base_uri": "https://localhost:8080/"
        },
        "id": "aHecwV_-q4X7",
        "scrolled": true,
        "outputId": "18469bc9-2ab6-40d0-e20a-4a0bd1b5d3b0"
      },
      "source": [
        "plt.title('No of Datapoints per Attack', fontsize=15)\n",
        "sns.countplot(Network_Traces.normality)\n",
        "plt.xticks(rotation=90)\n",
        "plt.show()"
      ],
      "id": "aHecwV_-q4X7",
      "execution_count": null,
      "outputs": [
        {
          "output_type": "display_data",
          "data": {
            "image/png": "[encoded data removed]",
            "text/plain": [
              "<Figure size 432x288 with 1 Axes>"
            ]
          },
          "metadata": {
            "needs_background": "light"
          }
        }
      ]
    },
    {
      "cell_type": "code",
      "metadata": {
        "colab": {
          "base_uri": "https://localhost:8080/"
        },
        "id": "HWndpqbDq4X8",
        "scrolled": true,
        "outputId": "e7934d68-b5ba-4f95-eb42-ab41ec35d742"
      },
      "source": [
        "Network_Traces['normality'].value_counts()"
      ],
      "id": "HWndpqbDq4X8",
      "execution_count": null,
      "outputs": [
        {
          "output_type": "execute_result",
          "data": {
            "text/plain": [
              "normal                           347935\n",
              "anomalous(DoSattack)               5780\n",
              "anomalous(scan)                    1547\n",
              "anomalous(malitiousControl)         889\n",
              "anomalous(malitiousOperation)       805\n",
              "anomalous(spying)                   532\n",
              "anomalous(dataProbing)              342\n",
              "anomalous(wrongSetUp)               122\n",
              "Name: normality, dtype: int64"
            ]
          },
          "metadata": {},
          "execution_count": 23
        }
      ]
    },
    {
      "cell_type": "markdown",
      "metadata": {
        "id": "oom3_Wk_q4YF"
      },
      "source": [
        "# Data Preprocessing"
      ],
      "id": "oom3_Wk_q4YF"
    },
    {
      "cell_type": "code",
      "metadata": {
        "id": "axRvHutsq4YF",
        "scrolled": false
      },
      "source": [
        "Features.value[Features.value=='true']=np.nan\n",
        "Features.value[Features.value=='none']=np.nan\n",
        "Features.value[Features.value=='false']=np.nan\n",
        "Features.value[Features.value=='twenty']=np.nan\n",
        "Features.value[Features.value=='org.ds2os.vsl.core.utils.AddressParameters@463d9146']=np.nan\n",
        "Features.value[Features.value=='org.ds2os.vsl.core.utils.AddressParameters@699d52f5']=np.nan\n",
        "Features.value[Features.value=='org.ds2os.vsl.core.utils.AddressParameters@273343f8']=np.nan\n",
        "Features.value[Features.value=='org.ds2os.vsl.core.utils.AddressParameters@181ae4a8']=np.nan\n",
        "Features.value[Features.value=='org.ds2os.vsl.core.utils.AddressParameters@5c494e7d']=np.nan\n",
        "Features.value[Features.value=='org.ds2os.vsl.core.utils.AddressParameters@6876d7bb ']=np.nan\n",
        "Features.value[Features.value=='org.ds2os.vsl.core.utils.AddressParameters@4ff97c45']=np.nan\n",
        "Features.value[Features.value=='org.ds2os.vsl.core.utils.AddressParameters@3ebb34ed']=np.nan\n",
        "Features.value[Features.value=='org.ds2os.vsl.core.utils.AddressParameters@2c82b391']=np.nan\n",
        "Features.value[Features.value=='org.ds2os.vsl.core.utils.AddressParameters@61ba9b2b']=np.nan\n",
        "Features.value[Features.value=='org.ds2os.vsl.core.utils.AddressParameters@715cced']=np.nan\n",
        "Features.value[Features.value=='org.ds2os.vsl.core.utils.AddressParameters@6876d7bb']=np.nan\n"
      ],
      "id": "axRvHutsq4YF",
      "execution_count": null,
      "outputs": []
    },
    {
      "cell_type": "code",
      "metadata": {
        "id": "S_lvjM4sq4YH"
      },
      "source": [
        "Features['value']=pd.to_numeric(Features['value'])"
      ],
      "id": "S_lvjM4sq4YH",
      "execution_count": null,
      "outputs": []
    },
    {
      "cell_type": "markdown",
      "metadata": {
        "id": "YmELHJbWq4YL"
      },
      "source": [
        "### Handling the Missing Values"
      ],
      "id": "YmELHJbWq4YL"
    },
    {
      "cell_type": "code",
      "metadata": {
        "id": "jIAlgavXq4YM"
      },
      "source": [
        "imputer=SimpleImputer(missing_values=np.nan,strategy='constant',verbose=0)\n",
        "imputer=imputer.fit(Features.iloc[:,[8]])\n",
        "Features.iloc[:,[8]]=imputer.transform(Features.iloc[:,[8]])"
      ],
      "id": "jIAlgavXq4YM",
      "execution_count": null,
      "outputs": []
    },
    {
      "cell_type": "code",
      "metadata": {
        "id": "6dvNSTDeq4YN"
      },
      "source": [
        "imputer1=SimpleImputer(missing_values=np.nan,strategy='mean',verbose=0)\n",
        "imputer1=imputer1.fit(Features.iloc[:,[10]])\n",
        "Features.iloc[:,[10]]=imputer1.transform(Features.iloc[:,[10]])"
      ],
      "id": "6dvNSTDeq4YN",
      "execution_count": null,
      "outputs": []
    },
    {
      "cell_type": "markdown",
      "metadata": {
        "id": "aYQQw4SZq4YO"
      },
      "source": [
        "## Label Encoding the Categorical Data"
      ],
      "id": "aYQQw4SZq4YO"
    },
    {
      "cell_type": "code",
      "metadata": {
        "id": "jDXkOIh3q4Ya"
      },
      "source": [
        "from sklearn.preprocessing import LabelEncoder\n",
        "labelencoder_X = LabelEncoder()\n",
        "for i in range(0,10):\n",
        "    Features.iloc[:,i] = labelencoder_X.fit_transform(Features.iloc[:,i])"
      ],
      "id": "jDXkOIh3q4Ya",
      "execution_count": null,
      "outputs": []
    },
    {
      "cell_type": "code",
      "metadata": {
        "id": "V-sdvb3Vq4Yd"
      },
      "source": [
        "Features=Features.drop(columns='timestamp')"
      ],
      "id": "V-sdvb3Vq4Yd",
      "execution_count": null,
      "outputs": []
    },
    {
      "cell_type": "code",
      "metadata": {
        "id": "yN-5cxYXq4Yf"
      },
      "source": [
        "X=np.array(Features,dtype=np.float)\n",
        "y=labelencoder_X.fit_transform(Labels)"
      ],
      "id": "yN-5cxYXq4Yf",
      "execution_count": null,
      "outputs": []
    },
    {
      "cell_type": "code",
      "metadata": {
        "id": "fKdU3jIAq4Yg"
      },
      "source": [
        "from collections import Counter"
      ],
      "id": "fKdU3jIAq4Yg",
      "execution_count": null,
      "outputs": []
    },
    {
      "cell_type": "code",
      "metadata": {
        "id": "gy-UxFzFq4Yk"
      },
      "source": [
        "items = Counter(y).keys()"
      ],
      "id": "gy-UxFzFq4Yk",
      "execution_count": null,
      "outputs": []
    },
    {
      "cell_type": "code",
      "metadata": {
        "id": "-Tr84BBdq4Yr"
      },
      "source": [
        "from sklearn.model_selection import train_test_split\n",
        " \n",
        "# split into 70:30 ratio\n",
        "X_train, X_test, y_train, y_test = train_test_split(X, y, test_size = 0.3, random_state = 0)"
      ],
      "id": "-Tr84BBdq4Yr",
      "execution_count": null,
      "outputs": []
    },
    {
      "cell_type": "code",
      "metadata": {
        "colab": {
          "base_uri": "https://localhost:8080/"
        },
        "id": "hnjSAvVWq4Yr",
        "scrolled": true,
        "outputId": "421e5425-fb8b-41cf-f75f-9bde6a575317"
      },
      "source": [
        "# describes info about train and test set\n",
        "print(\"Number transactions X_train dataset: \", X_train.shape)\n",
        "print(\"Number transactions y_train dataset: \", y_train.shape)\n",
        "print(\"Number transactions X_test dataset: \", X_test.shape)\n",
        "print(\"Number transactions y_test dataset: \", y_test.shape)"
      ],
      "id": "hnjSAvVWq4Yr",
      "execution_count": null,
      "outputs": [
        {
          "output_type": "stream",
          "name": "stdout",
          "text": [
            "Number transactions X_train dataset:  (250566, 11)\n",
            "Number transactions y_train dataset:  (250566,)\n",
            "Number transactions X_test dataset:  (107386, 11)\n",
            "Number transactions y_test dataset:  (107386,)\n"
          ]
        }
      ]
    },
    {
      "cell_type": "markdown",
      "metadata": {
        "id": "EnZNJB1jq4Ys"
      },
      "source": [
        "### Handling the class imbalance problem"
      ],
      "id": "EnZNJB1jq4Ys"
    },
    {
      "cell_type": "markdown",
      "metadata": {
        "id": "UXbmSNkbq4Yx"
      },
      "source": [
        "###  Using SMOTE Algorithm"
      ],
      "id": "UXbmSNkbq4Yx"
    },
    {
      "cell_type": "code",
      "metadata": {
        "id": "zZMAIHy3tXV-"
      },
      "source": [
        "# !pip install scikit-learn==0.22"
      ],
      "id": "zZMAIHy3tXV-",
      "execution_count": null,
      "outputs": []
    },
    {
      "cell_type": "code",
      "metadata": {
        "colab": {
          "base_uri": "https://localhost:8080/"
        },
        "id": "45T2L9Ftq4Yz",
        "outputId": "cc62b01a-06d8-44db-d54f-54db64ae945f"
      },
      "source": [
        "!pip install imblearn\n",
        "from imblearn.over_sampling import SMOTE\n",
        "sm = SMOTE(random_state = 2)\n",
        "X_train_res, y_train_res = sm.fit_resample(X_train, y_train.ravel())"
      ],
      "id": "45T2L9Ftq4Yz",
      "execution_count": null,
      "outputs": [
        {
          "output_type": "stream",
          "name": "stdout",
          "text": [
            "Requirement already satisfied: imblearn in /usr/local/lib/python3.7/dist-packages (0.0)\n",
            "Requirement already satisfied: imbalanced-learn in /usr/local/lib/python3.7/dist-packages (from imblearn) (0.8.1)\n",
            "Requirement already satisfied: numpy>=1.13.3 in /usr/local/lib/python3.7/dist-packages (from imbalanced-learn->imblearn) (1.19.5)\n",
            "Requirement already satisfied: scikit-learn>=0.24 in /usr/local/lib/python3.7/dist-packages (from imbalanced-learn->imblearn) (1.0.1)\n",
            "Requirement already satisfied: joblib>=0.11 in /usr/local/lib/python3.7/dist-packages (from imbalanced-learn->imblearn) (1.1.0)\n",
            "Requirement already satisfied: scipy>=0.19.1 in /usr/local/lib/python3.7/dist-packages (from imbalanced-learn->imblearn) (1.4.1)\n",
            "Requirement already satisfied: threadpoolctl>=2.0.0 in /usr/local/lib/python3.7/dist-packages (from scikit-learn>=0.24->imbalanced-learn->imblearn) (3.0.0)\n"
          ]
        }
      ]
    },
    {
      "cell_type": "code",
      "metadata": {
        "colab": {
          "base_uri": "https://localhost:8080/"
        },
        "id": "dgybXaEeq4Y0",
        "scrolled": true,
        "outputId": "a026e8f0-7874-41ce-9acf-24f361350ee1"
      },
      "source": [
        "print(\"Before OverSampling, counts of label '0': {}\".format(sum(y_train == 0)))\n",
        "print(\"Before OverSampling, counts of label '1': {} \\n\".format(sum(y_train == 1)))\n",
        "print(\"Before OverSampling, counts of label '2': {} \\n\".format(sum(y_train == 2)))\n",
        "print(\"Before OverSampling, counts of label '3': {} \\n\".format(sum(y_train == 3)))\n",
        "print(\"Before OverSampling, counts of label '4': {} \\n\".format(sum(y_train == 4)))\n",
        "print(\"Before OverSampling, counts of label '5': {} \\n\".format(sum(y_train == 5)))\n",
        "print(\"Before OverSampling, counts of label '6': {} \\n\".format(sum(y_train == 6)))\n",
        "print(\"Before OverSampling, counts of label '7': {} \\n\".format(sum(y_train == 7)))\n",
        "\n",
        "\n",
        "print('After OverSampling, the shape of train_X: {}'.format(X_train_res.shape))\n",
        "print('After OverSampling, the shape of train_y: {} \\n'.format(y_train_res.shape))\n",
        " \n",
        "print(\"After OverSampling, counts of label '0': {}\".format(sum(y_train_res == 0)))\n",
        "print(\"After OverSampling, counts of label '1': {}\".format(sum(y_train_res == 1)))\n",
        "print(\"After OverSampling, counts of label '2': {}\".format(sum(y_train_res == 2)))\n",
        "print(\"After OverSampling, counts of label '3': {}\".format(sum(y_train_res == 3)))\n",
        "print(\"After OverSampling, counts of label '4': {}\".format(sum(y_train_res == 4)))\n",
        "print(\"After OverSampling, counts of label '5': {}\".format(sum(y_train_res == 5)))\n",
        "print(\"After OverSampling, counts of label '6': {}\".format(sum(y_train_res == 6)))\n",
        "print(\"After OverSampling, counts of label '7': {}\".format(sum(y_train_res == 7)))\n",
        "\n"
      ],
      "id": "dgybXaEeq4Y0",
      "execution_count": null,
      "outputs": [
        {
          "output_type": "stream",
          "name": "stdout",
          "text": [
            "Before OverSampling, counts of label '0': 4045\n",
            "Before OverSampling, counts of label '1': 237 \n",
            "\n",
            "Before OverSampling, counts of label '2': 618 \n",
            "\n",
            "Before OverSampling, counts of label '3': 567 \n",
            "\n",
            "Before OverSampling, counts of label '4': 1102 \n",
            "\n",
            "Before OverSampling, counts of label '5': 370 \n",
            "\n",
            "Before OverSampling, counts of label '6': 93 \n",
            "\n",
            "Before OverSampling, counts of label '7': 243534 \n",
            "\n",
            "After OverSampling, the shape of train_X: (1948272, 11)\n",
            "After OverSampling, the shape of train_y: (1948272,) \n",
            "\n",
            "After OverSampling, counts of label '0': 243534\n",
            "After OverSampling, counts of label '1': 243534\n",
            "After OverSampling, counts of label '2': 243534\n",
            "After OverSampling, counts of label '3': 243534\n",
            "After OverSampling, counts of label '4': 243534\n",
            "After OverSampling, counts of label '5': 243534\n",
            "After OverSampling, counts of label '6': 243534\n",
            "After OverSampling, counts of label '7': 243534\n"
          ]
        }
      ]
    },
    {
      "cell_type": "markdown",
      "metadata": {
        "id": "qDv27Ucdq4Y0"
      },
      "source": [
        "## The New Training data is X_train_res, y_train_res   and test it on X_test and y_test"
      ],
      "id": "qDv27Ucdq4Y0"
    },
    {
      "cell_type": "markdown",
      "metadata": {
        "id": "yUaCW9F2q4Y5"
      },
      "source": [
        "### Normalizing the Data"
      ],
      "id": "yUaCW9F2q4Y5"
    },
    {
      "cell_type": "code",
      "metadata": {
        "id": "KxmQ70Q8q4Y9"
      },
      "source": [
        "from sklearn.preprocessing import StandardScaler\n",
        "sc = StandardScaler()\n",
        "X_train_res = sc.fit_transform(X_train_res)\n",
        "X_test = sc.transform(X_test)"
      ],
      "id": "KxmQ70Q8q4Y9",
      "execution_count": null,
      "outputs": []
    },
    {
      "cell_type": "markdown",
      "metadata": {
        "id": "9hB-fmafq4ZA"
      },
      "source": [
        "## Training the Model"
      ],
      "id": "9hB-fmafq4ZA"
    },
    {
      "cell_type": "code",
      "metadata": {
        "colab": {
          "base_uri": "https://localhost:8080/"
        },
        "id": "7UBfZ-UAq4ZB",
        "outputId": "a6813e3d-db71-4053-ad99-cc871ded6efb"
      },
      "source": [
        "y_train_res1 = np.where(y_train_res > 0, 1, 0)\n",
        "y_test1 = np.where(y_test > 0, 1, 0)\n",
        "y_train_res1"
      ],
      "id": "7UBfZ-UAq4ZB",
      "execution_count": null,
      "outputs": [
        {
          "output_type": "execute_result",
          "data": {
            "text/plain": [
              "array([1, 0, 1, ..., 1, 1, 1])"
            ]
          },
          "metadata": {},
          "execution_count": 39
        }
      ]
    },
    {
      "cell_type": "code",
      "metadata": {
        "colab": {
          "base_uri": "https://localhost:8080/"
        },
        "id": "403R3aJrEJTG",
        "outputId": "dcc163ff-0976-4e8a-c44b-3f7a4658f665"
      },
      "source": [
        "y_test"
      ],
      "id": "403R3aJrEJTG",
      "execution_count": null,
      "outputs": [
        {
          "output_type": "execute_result",
          "data": {
            "text/plain": [
              "array([7, 7, 7, ..., 7, 7, 7])"
            ]
          },
          "metadata": {},
          "execution_count": 40
        }
      ]
    },
    {
      "cell_type": "code",
      "metadata": {
        "colab": {
          "base_uri": "https://localhost:8080/"
        },
        "id": "9vpIB39FvVVV",
        "outputId": "9666d9c7-129b-4fa5-a741-19e80a4abae0"
      },
      "source": [
        "X_train_res.shape"
      ],
      "id": "9vpIB39FvVVV",
      "execution_count": null,
      "outputs": [
        {
          "output_type": "execute_result",
          "data": {
            "text/plain": [
              "(1948272, 11)"
            ]
          },
          "metadata": {},
          "execution_count": 41
        }
      ]
    },
    {
      "cell_type": "code",
      "metadata": {
        "id": "G0BkjkY8ycqb"
      },
      "source": [
        "import numpy as np\n",
        "from keras.preprocessing import sequence\n",
        "from keras.models import Sequential\n",
        "from keras.layers import Dense, Dropout, Activation, Lambda\n",
        "from keras.layers import Embedding\n",
        "from keras.layers import Convolution1D,MaxPooling1D, Flatten, SimpleRNN\n",
        "from keras.datasets import imdb\n",
        "from keras import backend as K\n",
        "from sklearn.model_selection import train_test_split\n",
        "import pandas as pd\n",
        "from keras.utils.np_utils import to_categorical\n",
        "\n",
        "from sklearn.preprocessing import Normalizer\n",
        "from keras.models import Sequential\n",
        "from keras.layers import Convolution1D, Dense, Dropout, Flatten, MaxPooling1D\n",
        "from keras.utils import np_utils\n",
        "import numpy as np\n",
        "import h5py\n",
        "from keras import callbacks\n",
        "from keras.layers import LSTM, GRU, SimpleRNN\n",
        "from keras.callbacks import CSVLogger\n",
        "from keras.callbacks import ModelCheckpoint, EarlyStopping, ReduceLROnPlateau, CSVLogger\n",
        "from sklearn.metrics import (precision_score, recall_score,f1_score, accuracy_score,mean_squared_error,mean_absolute_error)\n",
        "from sklearn import metrics\n",
        "from sklearn.preprocessing import LabelEncoder\n",
        "import tensorflow as tf\n",
        "import xgboost as xgb\n",
        "from keras.models import Model\n",
        "import time\n",
        "tf.config.run_functions_eagerly(True)"
      ],
      "id": "G0BkjkY8ycqb",
      "execution_count": null,
      "outputs": []
    },
    {
      "cell_type": "code",
      "metadata": {
        "id": "ESpnXRRy1Hpt"
      },
      "source": [
        "def simple_rnn():\n",
        "    model_rnn = Sequential()\n",
        "    model_rnn.add(SimpleRNN(8,input_shape=(1, 11), return_sequences=True))  \n",
        "    model_rnn.add(Dropout(0.1))\n",
        "    model_rnn.add(SimpleRNN(8, return_sequences=False))  \n",
        "    model_rnn.add(Dropout(0.1))\n",
        "    model_rnn.add(Dense(8))\n",
        "    model_rnn.add(Activation('softmax'))\n",
        "\n",
        "    model_rnn.compile(loss='categorical_crossentropy',optimizer='adam',metrics=['accuracy'])\n",
        "    return model_rnn\n",
        "\n",
        "def lstm():\n",
        "    model_lstm = Sequential()\n",
        "    #model_dnn3.add(Flatten())\n",
        "    model_lstm.add(LSTM(8,input_shape=(1, 11), return_sequences=True))  \n",
        "    model_lstm.add(Dropout(0.1))\n",
        "    model_lstm.add(LSTM(8, return_sequences=False))  \n",
        "    model_lstm.add(Dropout(0.1))\n",
        "    model_lstm.add(Dense(8))\n",
        "    model_lstm.add(Activation('softmax'))\n",
        "\n",
        "    model_lstm.compile(loss='categorical_crossentropy',optimizer='adam',metrics=['accuracy'])\n",
        "    return model_lstm\n",
        "\n",
        "def gru():\n",
        "    model_gru = Sequential()\n",
        "    #model_gru.add(Flatten())\n",
        "    model_gru.add(GRU(32,input_shape=(1, 11), return_sequences=True))  \n",
        "    model_gru.add(Dropout(0.1))\n",
        "    model_gru.add(GRU(32, return_sequences=True))  \n",
        "    model_gru.add(Dropout(0.1))\n",
        "    model_gru.add(GRU(32, return_sequences=True))  \n",
        "    model_gru.add(Dropout(0.1))\n",
        "    model_gru.add(GRU(32, return_sequences=False))  \n",
        "    model_gru.add(Dropout(0.1))\n",
        "    #model_gru.add(Flatten())\n",
        "    model_gru.add(Dense(8))\n",
        "    model_gru.add(Activation('softmax'))\n",
        "\n",
        "    model_gru.compile(loss='categorical_crossentropy',optimizer='adam',metrics=['accuracy'])\n",
        "    return model_gru\n",
        "\n",
        "def deep_nn():\n",
        "    model_dnn3 = Sequential()\n",
        "    model_dnn3.add(Flatten())\n",
        "    model_dnn3.add(Dense(1024,input_shape=(1, 11), activation='relu'))  \n",
        "    model_dnn3.add(Dropout(0.01))\n",
        "    model_dnn3.add(Dense(768,activation='relu'))  \n",
        "    model_dnn3.add(Dropout(0.01))\n",
        "\n",
        "    model_dnn3.add(Dense(8))\n",
        "    model_dnn3.add(Activation('softmax'))\n",
        "\n",
        "    model_dnn3.compile(loss='categorical_crossentropy',optimizer='adam',metrics=['accuracy'])\n",
        "    return model_dnn3\n",
        "\n",
        "def deep_nn4():\n",
        "    model_dnn4 = Sequential()\n",
        "    model_dnn4.add(Flatten())\n",
        "    model_dnn4.add(Dense(1024,input_shape=(1, 11), activation='relu'))  \n",
        "    model_dnn4.add(Dropout(0.01))\n",
        "    model_dnn4.add(Dense(768,activation='relu'))  \n",
        "    model_dnn4.add(Dropout(0.01))\n",
        "    model_dnn4.add(Dense(512,activation='relu'))  \n",
        "    model_dnn4.add(Dropout(0.01))\n",
        "    model_dnn4.add(Dense(256,activation='relu'))  \n",
        "    model_dnn4.add(Dropout(0.01))\n",
        "    model_dnn4.add(Dense(8))\n",
        "    model_dnn4.add(Activation('softmax'))\n",
        "\n",
        "    model_dnn4.compile(loss='categorical_crossentropy',optimizer='adam',metrics=['accuracy'])\n",
        "    return model_dnn4\n",
        "\n",
        "def cnn_lstm():\n",
        "    model_cnn = Sequential()\n",
        "    model_cnn.add(Convolution1D(64, 3, padding=\"same\",activation=\"relu\",input_shape=(11, 1)))\n",
        "    model_cnn.add(MaxPooling1D(2))\n",
        "    model_cnn.add(LSTM(8))\n",
        "    model_cnn.add(Dropout(0.1, name='feat_matrix'))\n",
        "    model_cnn.add(Dense(8, activation=\"softmax\"))\n",
        "\n",
        "    model_cnn.compile(loss='categorical_crossentropy',optimizer='adam',metrics=['accuracy'])\n",
        "    return model_cnn\n",
        "\n",
        "def ensemble_xgboost(xg_train, xg_test):\n",
        "    # setup parameters for xgboost\n",
        "    param = {}\n",
        "    # use softmax multi-class classification\n",
        "    param['objective'] = 'multi:softmax'\n",
        "    param['max_depth'] = 8\n",
        "    param['num_class'] = 8\n",
        "\n",
        "    watchlist = [(xg_train, 'train'), (xg_test, 'test')]\n",
        "    num_round = 10\n",
        "    bst = xgb.train(param, xg_train, num_round, watchlist)\n",
        "    return bst"
      ],
      "id": "ESpnXRRy1Hpt",
      "execution_count": null,
      "outputs": []
    },
    {
      "cell_type": "code",
      "metadata": {
        "id": "-r_W0VRjAxEZ"
      },
      "source": [
        "X_train = np.reshape(X_train_res, (X_train_res.shape[0], 1, X_train_res.shape[1]))\n",
        "X_test1 = np.reshape(X_test, (X_test.shape[0], 1, X_test.shape[1]))"
      ],
      "id": "-r_W0VRjAxEZ",
      "execution_count": null,
      "outputs": []
    },
    {
      "cell_type": "code",
      "metadata": {
        "colab": {
          "base_uri": "https://localhost:8080/"
        },
        "id": "D4G1zv_exJgF",
        "outputId": "d80a6ec4-078c-407c-e3aa-1521f3c3fc2f"
      },
      "source": [
        "y_train_dummy = np_utils.to_categorical(y_train_res)\n",
        "y_test_dummy = np_utils.to_categorical(y_test)\n",
        "y_test_dummy"
      ],
      "id": "D4G1zv_exJgF",
      "execution_count": null,
      "outputs": [
        {
          "output_type": "execute_result",
          "data": {
            "text/plain": [
              "array([[0., 0., 0., ..., 0., 0., 1.],\n",
              "       [0., 0., 0., ..., 0., 0., 1.],\n",
              "       [0., 0., 0., ..., 0., 0., 1.],\n",
              "       ...,\n",
              "       [0., 0., 0., ..., 0., 0., 1.],\n",
              "       [0., 0., 0., ..., 0., 0., 1.],\n",
              "       [0., 0., 0., ..., 0., 0., 1.]], dtype=float32)"
            ]
          },
          "metadata": {},
          "execution_count": 45
        }
      ]
    },
    {
      "cell_type": "code",
      "metadata": {
        "colab": {
          "base_uri": "https://localhost:8080/"
        },
        "id": "LRDEJKgu1nnT",
        "outputId": "5a2852ab-9880-463a-ab4b-a66e2f15e2ce"
      },
      "source": [
        "es = EarlyStopping(monitor='val_accuracy', mode='max', min_delta=0.0001,patience=5) ## early stoppoing \n",
        "Echeckpointer = callbacks.ModelCheckpoint(filepath=\"RNN-checkpoint-{epoch:02d}.hdf5\", verbose=1, save_best_only=True, monitor='val_acc',mode='max')\n",
        "\n",
        "model_rnn = simple_rnn()\n",
        "start = time.time()\n",
        "model_rnn.fit(X_train, y_train_dummy, batch_size=512, epochs=10,validation_data=(X_test1, y_test_dummy), callbacks=[es])\n",
        "stop = time.time()\n",
        "print(f\"Time taken to train simple RNN model: {stop - start}s\")"
      ],
      "id": "LRDEJKgu1nnT",
      "execution_count": null,
      "outputs": [
        {
          "output_type": "stream",
          "name": "stdout",
          "text": [
            "Epoch 1/10\n",
            "3806/3806 [==============================] - 159s 41ms/step - loss: 0.5928 - accuracy: 0.8120 - val_loss: 0.6188 - val_accuracy: 0.8931\n",
            "Epoch 2/10\n",
            "3806/3806 [==============================] - 154s 40ms/step - loss: 0.2833 - accuracy: 0.9024 - val_loss: 0.3778 - val_accuracy: 0.9598\n",
            "Epoch 3/10\n",
            "3806/3806 [==============================] - 152s 40ms/step - loss: 0.2450 - accuracy: 0.9138 - val_loss: 0.3205 - val_accuracy: 0.9591\n",
            "Epoch 4/10\n",
            "3806/3806 [==============================] - 148s 39ms/step - loss: 0.2292 - accuracy: 0.9197 - val_loss: 0.2779 - val_accuracy: 0.9755\n",
            "Epoch 5/10\n",
            "3806/3806 [==============================] - 153s 40ms/step - loss: 0.2160 - accuracy: 0.9251 - val_loss: 0.2538 - val_accuracy: 0.9767\n",
            "Epoch 6/10\n",
            "3806/3806 [==============================] - 151s 40ms/step - loss: 0.2111 - accuracy: 0.9268 - val_loss: 0.2493 - val_accuracy: 0.9589\n",
            "Epoch 7/10\n",
            "3806/3806 [==============================] - 152s 40ms/step - loss: 0.2074 - accuracy: 0.9283 - val_loss: 0.2358 - val_accuracy: 0.9482\n",
            "Epoch 8/10\n",
            "3806/3806 [==============================] - 149s 39ms/step - loss: 0.2043 - accuracy: 0.9298 - val_loss: 0.2367 - val_accuracy: 0.9364\n",
            "Epoch 9/10\n",
            "3806/3806 [==============================] - 150s 39ms/step - loss: 0.2031 - accuracy: 0.9300 - val_loss: 0.2296 - val_accuracy: 0.9367\n",
            "Epoch 10/10\n",
            "3806/3806 [==============================] - 149s 39ms/step - loss: 0.2016 - accuracy: 0.9307 - val_loss: 0.2272 - val_accuracy: 0.9603\n",
            "Time taken to train simple RNN model: 1519.6949050426483s\n"
          ]
        }
      ]
    },
    {
      "cell_type": "code",
      "metadata": {
        "colab": {
          "base_uri": "https://localhost:8080/"
        },
        "id": "eXoxAZsbsLdq",
        "outputId": "c2dd01f3-1a1c-44e6-e684-52012bdcb75d"
      },
      "source": [
        "model_lstm = lstm()\n",
        "start = time.time()\n",
        "model_lstm.fit(X_train, y_train_dummy, batch_size=512, epochs=10,validation_data=(X_test1, y_test_dummy), callbacks=[es])\n",
        "stop = time.time()\n",
        "print(f\"Time taken to train LSTM model: {stop - start}s\")"
      ],
      "id": "eXoxAZsbsLdq",
      "execution_count": null,
      "outputs": [
        {
          "output_type": "stream",
          "name": "stdout",
          "text": [
            "Epoch 1/10\n",
            "3806/3806 [==============================] - 189s 49ms/step - loss: 0.4797 - accuracy: 0.8606 - val_loss: 0.1554 - val_accuracy: 0.9818\n",
            "Epoch 2/10\n",
            "3806/3806 [==============================] - 185s 48ms/step - loss: 0.0897 - accuracy: 0.9764 - val_loss: 0.0872 - val_accuracy: 0.9837\n",
            "Epoch 3/10\n",
            "3806/3806 [==============================] - 180s 47ms/step - loss: 0.0624 - accuracy: 0.9828 - val_loss: 0.0810 - val_accuracy: 0.9844\n",
            "Epoch 4/10\n",
            "3806/3806 [==============================] - 180s 47ms/step - loss: 0.0506 - accuracy: 0.9862 - val_loss: 0.0643 - val_accuracy: 0.9844\n",
            "Epoch 5/10\n",
            "3806/3806 [==============================] - 179s 47ms/step - loss: 0.0454 - accuracy: 0.9879 - val_loss: 0.0678 - val_accuracy: 0.9848\n",
            "Epoch 6/10\n",
            "3806/3806 [==============================] - 177s 47ms/step - loss: 0.0423 - accuracy: 0.9889 - val_loss: 0.0521 - val_accuracy: 0.9853\n",
            "Epoch 7/10\n",
            "3806/3806 [==============================] - 176s 46ms/step - loss: 0.0392 - accuracy: 0.9897 - val_loss: 0.0608 - val_accuracy: 0.9854\n",
            "Epoch 8/10\n",
            "3806/3806 [==============================] - 176s 46ms/step - loss: 0.0371 - accuracy: 0.9902 - val_loss: 0.0516 - val_accuracy: 0.9854\n",
            "Epoch 9/10\n",
            "3806/3806 [==============================] - 177s 46ms/step - loss: 0.0356 - accuracy: 0.9905 - val_loss: 0.0574 - val_accuracy: 0.9854\n",
            "Epoch 10/10\n",
            "3806/3806 [==============================] - 176s 46ms/step - loss: 0.0337 - accuracy: 0.9911 - val_loss: 0.0634 - val_accuracy: 0.9854\n",
            "Time taken to train LSTM model: 1795.6463072299957s\n"
          ]
        }
      ]
    },
    {
      "cell_type": "code",
      "metadata": {
        "colab": {
          "base_uri": "https://localhost:8080/"
        },
        "id": "PVv0a1WAsUXH",
        "outputId": "d2501202-d05f-4acf-c851-e2292ca57639"
      },
      "source": [
        "model_gru = gru()\n",
        "start = time.time()\n",
        "model_gru.fit(X_train, y_train_dummy, batch_size=512, epochs=10,validation_data=(X_test1, y_test_dummy), callbacks=[es])\n",
        "stop = time.time()\n",
        "print(f\"Time taken to train GRU model: {stop - start}s\")"
      ],
      "id": "PVv0a1WAsUXH",
      "execution_count": null,
      "outputs": [
        {
          "output_type": "stream",
          "name": "stdout",
          "text": [
            "Epoch 1/10\n",
            "3806/3806 [==============================] - 259s 68ms/step - loss: 0.1046 - accuracy: 0.9684 - val_loss: 0.0608 - val_accuracy: 0.9860\n",
            "Epoch 2/10\n",
            "3806/3806 [==============================] - 271s 71ms/step - loss: 0.0097 - accuracy: 0.9980 - val_loss: 0.0508 - val_accuracy: 0.9873\n",
            "Epoch 3/10\n",
            "3806/3806 [==============================] - 275s 72ms/step - loss: 0.0080 - accuracy: 0.9982 - val_loss: 0.0417 - val_accuracy: 0.9879\n",
            "Epoch 4/10\n",
            "3806/3806 [==============================] - 270s 71ms/step - loss: 0.0076 - accuracy: 0.9983 - val_loss: 0.0445 - val_accuracy: 0.9879\n",
            "Epoch 5/10\n",
            "3806/3806 [==============================] - 270s 71ms/step - loss: 0.0073 - accuracy: 0.9984 - val_loss: 0.0458 - val_accuracy: 0.9876\n",
            "Epoch 6/10\n",
            "3806/3806 [==============================] - 272s 72ms/step - loss: 0.0072 - accuracy: 0.9984 - val_loss: 0.0412 - val_accuracy: 0.9879\n",
            "Epoch 7/10\n",
            "3806/3806 [==============================] - 275s 72ms/step - loss: 0.0072 - accuracy: 0.9984 - val_loss: 0.0437 - val_accuracy: 0.9880\n",
            "Epoch 8/10\n",
            "3806/3806 [==============================] - 275s 72ms/step - loss: 0.0071 - accuracy: 0.9984 - val_loss: 0.0428 - val_accuracy: 0.9880\n",
            "Epoch 9/10\n",
            "3806/3806 [==============================] - 269s 71ms/step - loss: 0.0071 - accuracy: 0.9984 - val_loss: 0.0432 - val_accuracy: 0.9880\n",
            "Epoch 10/10\n",
            "3806/3806 [==============================] - 265s 70ms/step - loss: 0.0070 - accuracy: 0.9984 - val_loss: 0.0429 - val_accuracy: 0.9880\n",
            "Time taken to train GRU model: 2701.344136238098s\n"
          ]
        }
      ]
    },
    {
      "cell_type": "code",
      "metadata": {
        "colab": {
          "base_uri": "https://localhost:8080/"
        },
        "id": "KTiEuYSvsbow",
        "outputId": "a035c645-ad8e-4f86-9ff9-1a91f896ed38"
      },
      "source": [
        "model_deep_nn = deep_nn()\n",
        "start = time.time()\n",
        "model_deep_nn.fit(X_train, y_train_dummy, batch_size=512, epochs=10,validation_data=(X_test1, y_test_dummy), callbacks=[es])\n",
        "stop = time.time()\n",
        "print(f\"Time taken to train Deep NN model: {stop - start}s\")\n",
        "\n",
        "# model_deep_nn4 = deep_nn4()\n",
        "# model_deep_nn4.fit(X_train, y_train_dummy, batch_size=512, epochs=10,validation_data=(X_test1, y_test_dummy), callbacks=[es])"
      ],
      "id": "KTiEuYSvsbow",
      "execution_count": null,
      "outputs": [
        {
          "output_type": "stream",
          "name": "stdout",
          "text": [
            "Epoch 1/10\n",
            "3806/3806 [==============================] - 100s 26ms/step - loss: 0.0135 - accuracy: 0.9971 - val_loss: 0.0382 - val_accuracy: 0.9880\n",
            "Epoch 2/10\n",
            "3806/3806 [==============================] - 99s 26ms/step - loss: 0.0072 - accuracy: 0.9984 - val_loss: 0.0444 - val_accuracy: 0.9881\n",
            "Epoch 3/10\n",
            "3806/3806 [==============================] - 101s 27ms/step - loss: 0.0078 - accuracy: 0.9984 - val_loss: 0.0410 - val_accuracy: 0.9879\n",
            "Epoch 4/10\n",
            "3806/3806 [==============================] - 105s 28ms/step - loss: 0.0068 - accuracy: 0.9985 - val_loss: 0.0424 - val_accuracy: 0.9881\n",
            "Epoch 5/10\n",
            "3806/3806 [==============================] - 99s 26ms/step - loss: 0.0069 - accuracy: 0.9985 - val_loss: 0.0423 - val_accuracy: 0.9880\n",
            "Epoch 6/10\n",
            "3806/3806 [==============================] - 97s 25ms/step - loss: 0.0070 - accuracy: 0.9985 - val_loss: 0.0499 - val_accuracy: 0.9874\n",
            "Time taken to train Deep NN model: 601.8871073722839s\n"
          ]
        }
      ]
    },
    {
      "cell_type": "code",
      "metadata": {
        "colab": {
          "base_uri": "https://localhost:8080/"
        },
        "id": "YJRN9z_osgsQ",
        "outputId": "e69683c8-0164-4e0b-8fc7-31d0071d547c"
      },
      "source": [
        "#CNN-LSTM\n",
        "train_x = np.reshape(X_train_res, (X_train_res.shape[0], X_train_res.shape[1], 1))\n",
        "test_x = np.reshape(X_test, (X_test.shape[0], X_test.shape[1], 1))\n",
        "model_cnn = cnn_lstm()\n",
        "start = time.time()\n",
        "model_cnn.fit(train_x, y_train_dummy, batch_size=512, epochs=10, validation_data=(test_x, y_test_dummy), callbacks=[es])\n",
        "stop = time.time()\n",
        "print(f\"Time taken to train CNN+LSTM model: {stop - start}s\")"
      ],
      "id": "YJRN9z_osgsQ",
      "execution_count": null,
      "outputs": [
        {
          "output_type": "stream",
          "name": "stdout",
          "text": [
            "Epoch 1/10\n",
            "3806/3806 [==============================] - 170s 38ms/step - loss: 0.3427 - accuracy: 0.9064 - val_loss: 0.1840 - val_accuracy: 0.9583\n",
            "Epoch 2/10\n",
            "3806/3806 [==============================] - 147s 39ms/step - loss: 0.0775 - accuracy: 0.9812 - val_loss: 0.0767 - val_accuracy: 0.9816\n",
            "Epoch 3/10\n",
            "3806/3806 [==============================] - 143s 37ms/step - loss: 0.0509 - accuracy: 0.9865 - val_loss: 0.0886 - val_accuracy: 0.9838\n",
            "3806/3806 [==============================] - 143s 37ms/step - loss: 0.0509 - accuracy: 0.9865 - val_loss: 0.0886 - val_accuracy: 0.9838\n",
            "Epoch 4/10\n",
            "   1/3806 [..............................] - ETA: 2:39 - loss: 0.0469 - accuracy: 0.9805Epoch 4/10\n",
            "3806/3806 [==============================] - 150s 39ms/step - loss: 0.0358 - accuracy: 0.9904 - val_loss: 0.0748 - val_accuracy: 0.9848\n",
            "3806/3806 [==============================] - 150s 39ms/step - loss: 0.0358 - accuracy: 0.9904 - val_loss: 0.0748 - val_accuracy: 0.9848\n",
            "Epoch 5/10\n",
            "   1/3806 [..............................] - ETA: 2:19 - loss: 0.0172 - accuracy: 0.9941Epoch 5/10\n",
            "3806/3806 [==============================] - 151s 40ms/step - loss: 0.0266 - accuracy: 0.9934 - val_loss: 0.0630 - val_accuracy: 0.9855\n",
            "3806/3806 [==============================] - 151s 40ms/step - loss: 0.0266 - accuracy: 0.9934 - val_loss: 0.0630 - val_accuracy: 0.9855\n",
            "Epoch 6/10\n",
            "   1/3806 [..............................] - ETA: 2:18 - loss: 0.0101 - accuracy: 0.9980Epoch 6/10\n",
            "3806/3806 [==============================] - 152s 40ms/step - loss: 0.0214 - accuracy: 0.9947 - val_loss: 0.0545 - val_accuracy: 0.9855\n",
            "3806/3806 [==============================] - 152s 40ms/step - loss: 0.0214 - accuracy: 0.9947 - val_loss: 0.0545 - val_accuracy: 0.9855\n",
            "Epoch 7/10\n",
            "   1/3806 [..............................] - ETA: 2:13 - loss: 0.0133 - accuracy: 0.9961Epoch 7/10\n",
            "3806/3806 [==============================] - 154s 41ms/step - loss: 0.0183 - accuracy: 0.9954 - val_loss: 0.0648 - val_accuracy: 0.9857\n",
            "3806/3806 [==============================] - 154s 41ms/step - loss: 0.0183 - accuracy: 0.9954 - val_loss: 0.0648 - val_accuracy: 0.9857\n",
            "Epoch 8/10\n",
            "   1/3806 [..............................] - ETA: 2:22 - loss: 0.0227 - accuracy: 0.9941Epoch 8/10\n",
            "3806/3806 [==============================] - 151s 40ms/step - loss: 0.0170 - accuracy: 0.9956 - val_loss: 0.0496 - val_accuracy: 0.9859\n",
            "3806/3806 [==============================] - 151s 40ms/step - loss: 0.0170 - accuracy: 0.9956 - val_loss: 0.0496 - val_accuracy: 0.9859\n",
            "Epoch 9/10\n",
            "   1/3806 [..............................] - ETA: 2:18 - loss: 0.0335 - accuracy: 0.9922Epoch 9/10\n",
            "3806/3806 [==============================] - 154s 40ms/step - loss: 0.0161 - accuracy: 0.9960 - val_loss: 0.0614 - val_accuracy: 0.9866\n",
            "3806/3806 [==============================] - 154s 40ms/step - loss: 0.0161 - accuracy: 0.9960 - val_loss: 0.0614 - val_accuracy: 0.9866\n",
            "Epoch 10/10\n",
            "   1/3806 [..............................] - ETA: 2:16 - loss: 0.0211 - accuracy: 0.9902Epoch 10/10\n",
            "3806/3806 [==============================] - 159s 42ms/step - loss: 0.0170 - accuracy: 0.9958 - val_loss: 0.0522 - val_accuracy: 0.9870\n",
            "3806/3806 [==============================] - 159s 42ms/step - loss: 0.0170 - accuracy: 0.9958 - val_loss: 0.0522 - val_accuracy: 0.9870\n",
            "Time taken to train CNN+LSTM model: 1582.0745661258698s\n",
            "Time taken to train CNN+LSTM model: 1582.0745661258698s\n"
          ]
        }
      ]
    },
    {
      "cell_type": "code",
      "metadata": {
        "id": "65oUg6Q9U78D"
      },
      "source": [
        "layer_name = 'feat_matrix'\n",
        "intermediate_layer_model = Model(inputs=model_cnn.input,\n",
        "                                 outputs=model_cnn.get_layer(layer_name).output)\n",
        "intermediate_train_out = intermediate_layer_model.predict(train_x)\n",
        "intermediate_test_out = intermediate_layer_model.predict(test_x)"
      ],
      "id": "65oUg6Q9U78D",
      "execution_count": null,
      "outputs": []
    },
    {
      "cell_type": "code",
      "metadata": {
        "id": "THfCR-G-cweA"
      },
      "source": [
        "xg_train = xgb.DMatrix(intermediate_train_out, label=y_train_dummy)\n",
        "xg_test = xgb.DMatrix(intermediate_test_out, label=y_test_dummy)\n",
        "\n",
        "bst = ensemble_xgboost(xg_train, xg_test)\n",
        "# get prediction\n",
        "pred = bst.predict(xg_test)\n",
        "error_rate = np.sum(pred != y_test_dummy) / y_test_dummy.shape[0]\n",
        "print('Test error using softmax = {}'.format(error_rate))\n",
        "# y_pred = np.argmax(pred)\n",
        "accuracy_score(y_test, pred)"
      ],
      "id": "THfCR-G-cweA",
      "execution_count": null,
      "outputs": []
    },
    {
      "cell_type": "code",
      "metadata": {
        "colab": {
          "base_uri": "https://localhost:8080/"
        },
        "id": "UvDdQVsBEU_O",
        "outputId": "3fce16db-fdb3-43a8-fc8d-1569f8c178b7"
      },
      "source": [
        "print(model_rnn.summary())\n",
        "print(model_lstm.summary())\n",
        "print(model_gru.summary())\n",
        "print(model_deep_nn.summary())\n",
        "print(model_cnn.summary())"
      ],
      "id": "UvDdQVsBEU_O",
      "execution_count": null,
      "outputs": [
        {
          "output_type": "stream",
          "name": "stdout",
          "text": [
            "Model: \"sequential\"\n",
            "_________________________________________________________________\n",
            " Layer (type)                Output Shape              Param #   \n",
            "=================================================================\n",
            " simple_rnn (SimpleRNN)      (None, 1, 8)              160       \n",
            "                                                                 \n",
            " dropout (Dropout)           (None, 1, 8)              0         \n",
            "                                                                 \n",
            " simple_rnn_1 (SimpleRNN)    (None, 8)                 136       \n",
            "                                                                 \n",
            " dropout_1 (Dropout)         (None, 8)                 0         \n",
            "                                                                 \n",
            " dense (Dense)               (None, 8)                 72        \n",
            "                                                                 \n",
            " activation (Activation)     (None, 8)                 0         \n",
            "                                                                 \n",
            "=================================================================\n",
            "Total params: 368\n",
            "Trainable params: 368\n",
            "Non-trainable params: 0\n",
            "_________________________________________________________________\n",
            "None\n",
            "Model: \"sequential_1\"\n",
            "_________________________________________________________________\n",
            " Layer (type)                Output Shape              Param #   \n",
            "=================================================================\n",
            " lstm (LSTM)                 (None, 1, 8)              640       \n",
            "                                                                 \n",
            " dropout_2 (Dropout)         (None, 1, 8)              0         \n",
            "                                                                 \n",
            " lstm_1 (LSTM)               (None, 8)                 544       \n",
            "                                                                 \n",
            " dropout_3 (Dropout)         (None, 8)                 0         \n",
            "                                                                 \n",
            " dense_1 (Dense)             (None, 8)                 72        \n",
            "                                                                 \n",
            " activation_1 (Activation)   (None, 8)                 0         \n",
            "                                                                 \n",
            "=================================================================\n",
            "Total params: 1,256\n",
            "Trainable params: 1,256\n",
            "Non-trainable params: 0\n",
            "_________________________________________________________________\n",
            "None\n",
            "Model: \"sequential_2\"\n",
            "_________________________________________________________________\n",
            " Layer (type)                Output Shape              Param #   \n",
            "=================================================================\n",
            " gru (GRU)                   (None, 1, 32)             4320      \n",
            "                                                                 \n",
            " dropout_4 (Dropout)         (None, 1, 32)             0         \n",
            "                                                                 \n",
            " gru_1 (GRU)                 (None, 1, 32)             6336      \n",
            "                                                                 \n",
            " dropout_5 (Dropout)         (None, 1, 32)             0         \n",
            "                                                                 \n",
            " gru_2 (GRU)                 (None, 1, 32)             6336      \n",
            "                                                                 \n",
            " dropout_6 (Dropout)         (None, 1, 32)             0         \n",
            "                                                                 \n",
            " gru_3 (GRU)                 (None, 32)                6336      \n",
            "                                                                 \n",
            " dropout_7 (Dropout)         (None, 32)                0         \n",
            "                                                                 \n",
            " dense_2 (Dense)             (None, 8)                 264       \n",
            "                                                                 \n",
            " activation_2 (Activation)   (None, 8)                 0         \n",
            "                                                                 \n",
            "=================================================================\n",
            "Total params: 23,592\n",
            "Trainable params: 23,592\n",
            "Non-trainable params: 0\n",
            "_________________________________________________________________\n",
            "None\n",
            "Model: \"sequential_3\"\n",
            "_________________________________________________________________\n",
            " Layer (type)                Output Shape              Param #   \n",
            "=================================================================\n",
            " flatten (Flatten)           (None, 11)                0         \n",
            "                                                                 \n",
            " dense_3 (Dense)             (None, 1024)              12288     \n",
            "                                                                 \n",
            " dropout_8 (Dropout)         (None, 1024)              0         \n",
            "                                                                 \n",
            " dense_4 (Dense)             (None, 768)               787200    \n",
            "                                                                 \n",
            " dropout_9 (Dropout)         (None, 768)               0         \n",
            "                                                                 \n",
            " dense_5 (Dense)             (None, 8)                 6152      \n",
            "                                                                 \n",
            " activation_3 (Activation)   (None, 8)                 0         \n",
            "                                                                 \n",
            "=================================================================\n",
            "Total params: 805,640\n",
            "Trainable params: 805,640\n",
            "Non-trainable params: 0\n",
            "_________________________________________________________________\n",
            "None\n",
            "Model: \"sequential_4\"\n",
            "_________________________________________________________________\n",
            " Layer (type)                Output Shape              Param #   \n",
            "=================================================================\n",
            " conv1d (Conv1D)             (None, 11, 64)            256       \n",
            "                                                                 \n",
            " max_pooling1d (MaxPooling1D  (None, 5, 64)            0         \n",
            " )                                                               \n",
            "                                                                 \n",
            " lstm_2 (LSTM)               (None, 8)                 2336      \n",
            "                                                                 \n",
            " feat_matrix (Dropout)       (None, 8)                 0         \n",
            "                                                                 \n",
            " dense_6 (Dense)             (None, 8)                 72        \n",
            "                                                                 \n",
            "=================================================================\n",
            "Total params: 2,664\n",
            "Trainable params: 2,664\n",
            "Non-trainable params: 0\n",
            "_________________________________________________________________\n",
            "None\n"
          ]
        }
      ]
    },
    {
      "cell_type": "code",
      "metadata": {
        "id": "Eiieqi0R2rXW"
      },
      "source": [
        "y_pred_rnn = model_rnn.predict(X_test1)\n",
        "y_pred_lstm = model_lstm.predict(X_test1)\n",
        "y_pred_gru = model_gru.predict(X_test1)\n",
        "y_pred_deep_nn = model_deep_nn.predict(X_test1)\n",
        "y_pred_cnn = model_cnn.predict(test_x)"
      ],
      "id": "Eiieqi0R2rXW",
      "execution_count": null,
      "outputs": []
    },
    {
      "cell_type": "code",
      "metadata": {
        "colab": {
          "base_uri": "https://localhost:8080/"
        },
        "id": "PvtgfF25ZVaI",
        "outputId": "8b381c3e-c4da-43b4-8aae-4b6d6993e554"
      },
      "source": [
        "ypred_rnn = np.argmax(y_pred_rnn, axis=1)\n",
        "ypred_lstm = np.argmax(y_pred_lstm, axis=1)\n",
        "ypred_gru = np.argmax(y_pred_gru, axis=1)\n",
        "ypred_deep_nn = np.argmax(y_pred_deep_nn, axis=1)\n",
        "ypred_cnn = np.argmax(y_pred_cnn, axis=1)\n",
        "ypred_deep_nn"
      ],
      "id": "PvtgfF25ZVaI",
      "execution_count": null,
      "outputs": [
        {
          "output_type": "execute_result",
          "data": {
            "text/plain": [
              "array([7, 7, 7, ..., 7, 7, 7])"
            ]
          },
          "metadata": {},
          "execution_count": 57
        }
      ]
    },
    {
      "cell_type": "code",
      "metadata": {
        "colab": {
          "base_uri": "https://localhost:8080/"
        },
        "id": "pzhqLkrNCnBu",
        "outputId": "a365df8c-9b4f-4a27-9e87-5e7dbe7aa623"
      },
      "source": [
        "acc_rnn = accuracy_score(y_test, ypred_rnn)\n",
        "acc_lstm = accuracy_score(y_test, ypred_lstm)\n",
        "acc_gru = accuracy_score(y_test, ypred_gru)\n",
        "acc_deep_nn = accuracy_score(y_test, ypred_deep_nn)\n",
        "acc_cnn = accuracy_score(y_test, ypred_cnn)\n",
        "print(\"RNN accuracy:\",acc_rnn)\n",
        "print(\"LSTM accuracy:\",acc_lstm)\n",
        "print(\"GRU accuracy:\",acc_gru)\n",
        "print(\"Deep NN accuracy:\",acc_deep_nn)\n",
        "print(\"CNN+LSTM accuracy:\",acc_cnn)\n",
        "# f1score=f1_score(y_test, y_pred)\n",
        "# print(\"f1-acore:\",f1score)"
      ],
      "id": "pzhqLkrNCnBu",
      "execution_count": null,
      "outputs": [
        {
          "output_type": "stream",
          "name": "stdout",
          "text": [
            "RNN accuracy: 0.9602834633937385\n",
            "LSTM accuracy: 0.9853891568733354\n",
            "GRU accuracy: 0.9880245097126255\n",
            "Deep NN accuracy: 0.9874285288585104\n",
            "CNN+LSTM accuracy: 0.986962918816233\n"
          ]
        }
      ]
    },
    {
      "cell_type": "code",
      "metadata": {
        "id": "w_XGlDd_CjOx"
      },
      "source": [
        "from sklearn.metrics import confusion_matrix\n",
        "cf_matrix_rnn = confusion_matrix(y_test, ypred_rnn)\n",
        "cf_matrix_lstm = confusion_matrix(y_test, ypred_lstm)\n",
        "cf_matrix_gru = confusion_matrix(y_test, ypred_gru)\n",
        "cf_matrix_deep_nn = confusion_matrix(y_test, ypred_deep_nn)\n",
        "cf_matrix_cnn = confusion_matrix(y_test, ypred_cnn)"
      ],
      "id": "w_XGlDd_CjOx",
      "execution_count": null,
      "outputs": []
    },
    {
      "cell_type": "code",
      "metadata": {
        "colab": {
          "base_uri": "https://localhost:8080/",
          "height": 1000
        },
        "id": "5XLqMXAOZmfe",
        "outputId": "8135c2a7-fa92-4b11-c63b-38d17a29faa6"
      },
      "source": [
        "import seaborn as sns\n",
        "i=0\n",
        "for cf in [cf_matrix_rnn, cf_matrix_lstm, cf_matrix_gru, cf_matrix_deep_nn, cf_matrix_cnn]:\n",
        "    ax = sns.heatmap(cf, annot=True,fmt=\"d\", cmap='Blues')\n",
        "\n",
        "    if(i==0):\n",
        "        ax.set_title('Simple RNN - Confusion Matrix with labels\\n\\n');\n",
        "    elif(i==1):\n",
        "        ax.set_title('LSTM - Confusion Matrix with labels\\n\\n');\n",
        "    elif(i==2):\n",
        "        ax.set_title('GRU - Confusion Matrix with labels\\n\\n');\n",
        "    elif(i==3):\n",
        "        ax.set_title('Deep NN - Confusion Matrix with labels\\n\\n');\n",
        "    elif(i==4):\n",
        "        ax.set_title('CNN+LSTM - Confusion Matrix with labels\\n\\n');\n",
        "    ax.set_xlabel('\\nPredicted Values')\n",
        "    ax.set_ylabel('Actual Values ');\n",
        "\n",
        "    # ## Ticket labels - List must be in alphabetical order\n",
        "    # ax.xaxis.set_ticklabels(['False', 'True'])\n",
        "    # ax.yaxis.set_ticklabels(['True','False'])\n",
        "\n",
        "    ## Display the visualization of the Confusion Matrix.\n",
        "    plt.show()\n",
        "    i+=1"
      ],
      "id": "5XLqMXAOZmfe",
      "execution_count": null,
      "outputs": [
        {
          "output_type": "display_data",
          "data": {
            "image/png": "[encoded data removed]",
            "text/plain": [
              "<Figure size 432x288 with 2 Axes>"
            ]
          },
          "metadata": {
            "needs_background": "light"
          }
        },
        {
          "output_type": "display_data",
          "data": {
            "image/png": "[encoded data removed]",
            "text/plain": [
              "<Figure size 432x288 with 2 Axes>"
            ]
          },
          "metadata": {
            "needs_background": "light"
          }
        },
        {
          "output_type": "display_data",
          "data": {
            "image/png": "[encoded data removed]",
            "text/plain": [
              "<Figure size 432x288 with 2 Axes>"
            ]
          },
          "metadata": {
            "needs_background": "light"
          }
        },
        {
          "output_type": "display_data",
          "data": {
            "image/png": "[encoded data removed]",
            "text/plain": [
              "<Figure size 432x288 with 2 Axes>"
            ]
          },
          "metadata": {
            "needs_background": "light"
          }
        },
        {
          "output_type": "display_data",
          "data": {
            "image/png": "[encoded data removed]",
            "text/plain": [
              "<Figure size 432x288 with 2 Axes>"
            ]
          },
          "metadata": {
            "needs_background": "light"
          }
        }
      ]
    },
    {
      "cell_type": "code",
      "metadata": {
        "id": "BIuuDx7d9RuK"
      },
      "source": [
        ""
      ],
      "id": "BIuuDx7d9RuK",
      "execution_count": null,
      "outputs": []
    }
  ]
}