{
 "cells": [
  {
   "cell_type": "markdown",
   "id": "8207cda5",
   "metadata": {},
   "source": [
    "# Cyber Attack Detection in IoT Systems"
   ]
  },
  {
   "cell_type": "code",
   "execution_count": 1,
   "id": "71eb167b",
   "metadata": {},
   "outputs": [],
   "source": [
    "# library imports\n",
    "\n",
    "import pandas as pd\n",
    "import numpy as np\n",
    "import matplotlib.pyplot as plt\n",
    "import seaborn as sns\n",
    "import warnings\n",
    "warnings.filterwarnings('ignore')"
   ]
  },
  {
   "cell_type": "markdown",
   "id": "0e3fe031",
   "metadata": {},
   "source": [
    "## Dataset Collection"
   ]
  },
  {
   "cell_type": "code",
   "execution_count": 2,
   "id": "93c7a829",
   "metadata": {},
   "outputs": [],
   "source": [
    "# dataset import\n",
    "\n",
    "Network_Traces=pd.read_csv(\"mainSimulationAccessTraces.csv\")"
   ]
  },
  {
   "cell_type": "code",
   "execution_count": 3,
   "id": "cafcacb0",
   "metadata": {
    "scrolled": true
   },
   "outputs": [
    {
     "data": {
      "text/html": [
       "<div>\n",
       "<style scoped>\n",
       "    .dataframe tbody tr th:only-of-type {\n",
       "        vertical-align: middle;\n",
       "    }\n",
       "\n",
       "    .dataframe tbody tr th {\n",
       "        vertical-align: top;\n",
       "    }\n",
       "\n",
       "    .dataframe thead th {\n",
       "        text-align: right;\n",
       "    }\n",
       "</style>\n",
       "<table border=\"1\" class=\"dataframe\">\n",
       "  <thead>\n",
       "    <tr style=\"text-align: right;\">\n",
       "      <th></th>\n",
       "      <th>sourceID</th>\n",
       "      <th>sourceAddress</th>\n",
       "      <th>sourceType</th>\n",
       "      <th>sourceLocation</th>\n",
       "      <th>destinationServiceAddress</th>\n",
       "      <th>destinationServiceType</th>\n",
       "      <th>destinationLocation</th>\n",
       "      <th>accessedNodeAddress</th>\n",
       "      <th>accessedNodeType</th>\n",
       "      <th>operation</th>\n",
       "      <th>value</th>\n",
       "      <th>timestamp</th>\n",
       "      <th>normality</th>\n",
       "    </tr>\n",
       "  </thead>\n",
       "  <tbody>\n",
       "    <tr>\n",
       "      <th>0</th>\n",
       "      <td>lightcontrol2</td>\n",
       "      <td>/agent2/lightcontrol2</td>\n",
       "      <td>/lightControler</td>\n",
       "      <td>BedroomParents</td>\n",
       "      <td>/agent2/lightcontrol2</td>\n",
       "      <td>/lightControler</td>\n",
       "      <td>BedroomParents</td>\n",
       "      <td>/agent2/lightcontrol2</td>\n",
       "      <td>/lightControler</td>\n",
       "      <td>registerService</td>\n",
       "      <td>none</td>\n",
       "      <td>1520031600000</td>\n",
       "      <td>normal</td>\n",
       "    </tr>\n",
       "    <tr>\n",
       "      <th>1</th>\n",
       "      <td>lightcontrol3</td>\n",
       "      <td>/agent3/lightcontrol3</td>\n",
       "      <td>/lightControler</td>\n",
       "      <td>Dinningroom</td>\n",
       "      <td>/agent3/lightcontrol3</td>\n",
       "      <td>/lightControler</td>\n",
       "      <td>Dinningroom</td>\n",
       "      <td>/agent3/lightcontrol3</td>\n",
       "      <td>/lightControler</td>\n",
       "      <td>registerService</td>\n",
       "      <td>none</td>\n",
       "      <td>1520031603269</td>\n",
       "      <td>normal</td>\n",
       "    </tr>\n",
       "    <tr>\n",
       "      <th>2</th>\n",
       "      <td>lightcontrol1</td>\n",
       "      <td>/agent1/lightcontrol1</td>\n",
       "      <td>/lightControler</td>\n",
       "      <td>BedroomChildren</td>\n",
       "      <td>/agent1/lightcontrol1</td>\n",
       "      <td>/lightControler</td>\n",
       "      <td>BedroomChildren</td>\n",
       "      <td>/agent1/lightcontrol1</td>\n",
       "      <td>/lightControler</td>\n",
       "      <td>registerService</td>\n",
       "      <td>none</td>\n",
       "      <td>1520031603279</td>\n",
       "      <td>normal</td>\n",
       "    </tr>\n",
       "    <tr>\n",
       "      <th>3</th>\n",
       "      <td>lightcontrol4</td>\n",
       "      <td>/agent4/lightcontrol4</td>\n",
       "      <td>/lightControler</td>\n",
       "      <td>Kitchen</td>\n",
       "      <td>/agent4/lightcontrol4</td>\n",
       "      <td>/lightControler</td>\n",
       "      <td>Kitchen</td>\n",
       "      <td>/agent4/lightcontrol4</td>\n",
       "      <td>/lightControler</td>\n",
       "      <td>registerService</td>\n",
       "      <td>none</td>\n",
       "      <td>1520031603290</td>\n",
       "      <td>normal</td>\n",
       "    </tr>\n",
       "    <tr>\n",
       "      <th>4</th>\n",
       "      <td>movement4</td>\n",
       "      <td>/agent4/movement4</td>\n",
       "      <td>/movementSensor</td>\n",
       "      <td>Kitchen</td>\n",
       "      <td>/agent4/movement4</td>\n",
       "      <td>/movementSensor</td>\n",
       "      <td>Kitchen</td>\n",
       "      <td>/agent4/movement4</td>\n",
       "      <td>/movementSensor</td>\n",
       "      <td>registerService</td>\n",
       "      <td>none</td>\n",
       "      <td>1520031603464</td>\n",
       "      <td>normal</td>\n",
       "    </tr>\n",
       "    <tr>\n",
       "      <th>...</th>\n",
       "      <td>...</td>\n",
       "      <td>...</td>\n",
       "      <td>...</td>\n",
       "      <td>...</td>\n",
       "      <td>...</td>\n",
       "      <td>...</td>\n",
       "      <td>...</td>\n",
       "      <td>...</td>\n",
       "      <td>...</td>\n",
       "      <td>...</td>\n",
       "      <td>...</td>\n",
       "      <td>...</td>\n",
       "      <td>...</td>\n",
       "    </tr>\n",
       "    <tr>\n",
       "      <th>357947</th>\n",
       "      <td>lightcontrol23</td>\n",
       "      <td>/agent23/lightcontrol23</td>\n",
       "      <td>/lightControler</td>\n",
       "      <td>room_4</td>\n",
       "      <td>/agent23/tempin23</td>\n",
       "      <td>/sensorService</td>\n",
       "      <td>room_4</td>\n",
       "      <td>/agent23/tempin23</td>\n",
       "      <td>/sensorService</td>\n",
       "      <td>read</td>\n",
       "      <td>20.3479</td>\n",
       "      <td>1520117997001</td>\n",
       "      <td>normal</td>\n",
       "    </tr>\n",
       "    <tr>\n",
       "      <th>357948</th>\n",
       "      <td>washingmachine2</td>\n",
       "      <td>/agent11/washingmachine2</td>\n",
       "      <td>/washingService</td>\n",
       "      <td>Watterroom</td>\n",
       "      <td>/agent11/battery4</td>\n",
       "      <td>/batteryService</td>\n",
       "      <td>Watterroom</td>\n",
       "      <td>/agent11/battery4/charge</td>\n",
       "      <td>/basic/number</td>\n",
       "      <td>read</td>\n",
       "      <td>9</td>\n",
       "      <td>1520117997339</td>\n",
       "      <td>normal</td>\n",
       "    </tr>\n",
       "    <tr>\n",
       "      <th>357949</th>\n",
       "      <td>washingmachine2</td>\n",
       "      <td>/agent11/washingmachine2</td>\n",
       "      <td>/washingService</td>\n",
       "      <td>Watterroom</td>\n",
       "      <td>/agent11/battery4</td>\n",
       "      <td>/batteryService</td>\n",
       "      <td>Watterroom</td>\n",
       "      <td>/agent11/battery4/charging</td>\n",
       "      <td>/basic/text</td>\n",
       "      <td>read</td>\n",
       "      <td>true</td>\n",
       "      <td>1520117997401</td>\n",
       "      <td>normal</td>\n",
       "    </tr>\n",
       "    <tr>\n",
       "      <th>357950</th>\n",
       "      <td>lightcontrol28</td>\n",
       "      <td>/agent28/lightcontrol28</td>\n",
       "      <td>/lightControler</td>\n",
       "      <td>room_9</td>\n",
       "      <td>/agent28/movement28</td>\n",
       "      <td>/movementSensor</td>\n",
       "      <td>room_9</td>\n",
       "      <td>/agent28/movement28/movement</td>\n",
       "      <td>/derived/boolean</td>\n",
       "      <td>read</td>\n",
       "      <td>0</td>\n",
       "      <td>1520117998907</td>\n",
       "      <td>normal</td>\n",
       "    </tr>\n",
       "    <tr>\n",
       "      <th>357951</th>\n",
       "      <td>lightcontrol28</td>\n",
       "      <td>/agent28/lightcontrol28</td>\n",
       "      <td>/lightControler</td>\n",
       "      <td>room_9</td>\n",
       "      <td>/agent28/tempin28</td>\n",
       "      <td>/sensorService</td>\n",
       "      <td>room_9</td>\n",
       "      <td>/agent28/tempin28</td>\n",
       "      <td>/sensorService</td>\n",
       "      <td>read</td>\n",
       "      <td>20.4131</td>\n",
       "      <td>1520117999000</td>\n",
       "      <td>normal</td>\n",
       "    </tr>\n",
       "  </tbody>\n",
       "</table>\n",
       "<p>357952 rows × 13 columns</p>\n",
       "</div>"
      ],
      "text/plain": [
       "               sourceID             sourceAddress       sourceType  \\\n",
       "0         lightcontrol2     /agent2/lightcontrol2  /lightControler   \n",
       "1         lightcontrol3     /agent3/lightcontrol3  /lightControler   \n",
       "2         lightcontrol1     /agent1/lightcontrol1  /lightControler   \n",
       "3         lightcontrol4     /agent4/lightcontrol4  /lightControler   \n",
       "4             movement4         /agent4/movement4  /movementSensor   \n",
       "...                 ...                       ...              ...   \n",
       "357947   lightcontrol23   /agent23/lightcontrol23  /lightControler   \n",
       "357948  washingmachine2  /agent11/washingmachine2  /washingService   \n",
       "357949  washingmachine2  /agent11/washingmachine2  /washingService   \n",
       "357950   lightcontrol28   /agent28/lightcontrol28  /lightControler   \n",
       "357951   lightcontrol28   /agent28/lightcontrol28  /lightControler   \n",
       "\n",
       "         sourceLocation destinationServiceAddress destinationServiceType  \\\n",
       "0        BedroomParents     /agent2/lightcontrol2        /lightControler   \n",
       "1           Dinningroom     /agent3/lightcontrol3        /lightControler   \n",
       "2       BedroomChildren     /agent1/lightcontrol1        /lightControler   \n",
       "3               Kitchen     /agent4/lightcontrol4        /lightControler   \n",
       "4               Kitchen         /agent4/movement4        /movementSensor   \n",
       "...                 ...                       ...                    ...   \n",
       "357947           room_4         /agent23/tempin23         /sensorService   \n",
       "357948       Watterroom         /agent11/battery4        /batteryService   \n",
       "357949       Watterroom         /agent11/battery4        /batteryService   \n",
       "357950           room_9       /agent28/movement28        /movementSensor   \n",
       "357951           room_9         /agent28/tempin28         /sensorService   \n",
       "\n",
       "       destinationLocation           accessedNodeAddress  accessedNodeType  \\\n",
       "0           BedroomParents         /agent2/lightcontrol2   /lightControler   \n",
       "1              Dinningroom         /agent3/lightcontrol3   /lightControler   \n",
       "2          BedroomChildren         /agent1/lightcontrol1   /lightControler   \n",
       "3                  Kitchen         /agent4/lightcontrol4   /lightControler   \n",
       "4                  Kitchen             /agent4/movement4   /movementSensor   \n",
       "...                    ...                           ...               ...   \n",
       "357947              room_4             /agent23/tempin23    /sensorService   \n",
       "357948          Watterroom      /agent11/battery4/charge     /basic/number   \n",
       "357949          Watterroom    /agent11/battery4/charging       /basic/text   \n",
       "357950              room_9  /agent28/movement28/movement  /derived/boolean   \n",
       "357951              room_9             /agent28/tempin28    /sensorService   \n",
       "\n",
       "              operation    value      timestamp normality  \n",
       "0       registerService     none  1520031600000    normal  \n",
       "1       registerService     none  1520031603269    normal  \n",
       "2       registerService     none  1520031603279    normal  \n",
       "3       registerService     none  1520031603290    normal  \n",
       "4       registerService     none  1520031603464    normal  \n",
       "...                 ...      ...            ...       ...  \n",
       "357947             read  20.3479  1520117997001    normal  \n",
       "357948             read        9  1520117997339    normal  \n",
       "357949             read     true  1520117997401    normal  \n",
       "357950             read        0  1520117998907    normal  \n",
       "357951             read  20.4131  1520117999000    normal  \n",
       "\n",
       "[357952 rows x 13 columns]"
      ]
     },
     "execution_count": 3,
     "metadata": {},
     "output_type": "execute_result"
    }
   ],
   "source": [
    "Network_Traces"
   ]
  },
  {
   "cell_type": "code",
   "execution_count": 4,
   "id": "e392a7cd",
   "metadata": {},
   "outputs": [
    {
     "data": {
      "text/plain": [
       "array(['normal', 'anomalous(scan)', 'anomalous(malitiousOperation)',\n",
       "       'anomalous(DoSattack)', 'anomalous(spying)',\n",
       "       'anomalous(dataProbing)', 'anomalous(wrongSetUp)',\n",
       "       'anomalous(malitiousControl)'], dtype=object)"
      ]
     },
     "execution_count": 4,
     "metadata": {},
     "output_type": "execute_result"
    }
   ],
   "source": [
    "Network_Traces['normality'].unique()"
   ]
  },
  {
   "cell_type": "markdown",
   "id": "f09dfe97",
   "metadata": {},
   "source": [
    "## Features and Labels Description"
   ]
  },
  {
   "cell_type": "code",
   "execution_count": 5,
   "id": "79d34631",
   "metadata": {},
   "outputs": [],
   "source": [
    "Features=Network_Traces.iloc[:,:-1]"
   ]
  },
  {
   "cell_type": "code",
   "execution_count": 6,
   "id": "cfa2a395",
   "metadata": {},
   "outputs": [],
   "source": [
    "Labels=Network_Traces.iloc[:,-1]"
   ]
  },
  {
   "cell_type": "code",
   "execution_count": 7,
   "id": "758724ab",
   "metadata": {
    "scrolled": true
   },
   "outputs": [
    {
     "data": {
      "text/plain": [
       "count     357952\n",
       "unique         8\n",
       "top       normal\n",
       "freq      347935\n",
       "Name: normality, dtype: object"
      ]
     },
     "execution_count": 7,
     "metadata": {},
     "output_type": "execute_result"
    }
   ],
   "source": [
    "Labels.describe()"
   ]
  },
  {
   "cell_type": "code",
   "execution_count": 8,
   "id": "c0c29f33",
   "metadata": {
    "scrolled": false
   },
   "outputs": [
    {
     "data": {
      "text/plain": [
       "Index(['sourceID', 'sourceAddress', 'sourceType', 'sourceLocation',\n",
       "       'destinationServiceAddress', 'destinationServiceType',\n",
       "       'destinationLocation', 'accessedNodeAddress', 'accessedNodeType',\n",
       "       'operation', 'value', 'timestamp'],\n",
       "      dtype='object')"
      ]
     },
     "execution_count": 8,
     "metadata": {},
     "output_type": "execute_result"
    }
   ],
   "source": [
    "Features.columns"
   ]
  },
  {
   "cell_type": "code",
   "execution_count": 9,
   "id": "ac10eb2b",
   "metadata": {},
   "outputs": [
    {
     "data": {
      "text/plain": [
       "array(['/lightControler', '/movementSensor', '/sensorService',\n",
       "       '/batteryService', '/doorLockService', '/thermostat',\n",
       "       '/washingService', '/smartPhone'], dtype=object)"
      ]
     },
     "execution_count": 9,
     "metadata": {},
     "output_type": "execute_result"
    }
   ],
   "source": [
    "Features['sourceType'].unique()"
   ]
  },
  {
   "cell_type": "code",
   "execution_count": 10,
   "id": "3085e03c",
   "metadata": {},
   "outputs": [
    {
     "data": {
      "text/plain": [
       "array(['BedroomParents', 'Dinningroom', 'BedroomChildren', 'Kitchen',\n",
       "       'Garage', 'Bathroom', 'Livingroom', 'Watterroom', 'Bedroom',\n",
       "       'Entrance', 'Showerroom', 'room_1', 'room_2', 'room_3', 'room_4',\n",
       "       'room_5', 'room_6', 'room_7', 'room_9', 'room_8', 'room_10'],\n",
       "      dtype=object)"
      ]
     },
     "execution_count": 10,
     "metadata": {},
     "output_type": "execute_result"
    }
   ],
   "source": [
    "Features['sourceLocation'].unique()"
   ]
  },
  {
   "cell_type": "code",
   "execution_count": 11,
   "id": "2972bbaf",
   "metadata": {},
   "outputs": [
    {
     "data": {
      "text/plain": [
       "array(['/lightControler', '/movementSensor', '/sensorService',\n",
       "       '/batteryService', '/doorLockService', '/thermostat',\n",
       "       '/washingService', '/smartPhone'], dtype=object)"
      ]
     },
     "execution_count": 11,
     "metadata": {},
     "output_type": "execute_result"
    }
   ],
   "source": [
    "Features['destinationServiceType'].unique()"
   ]
  },
  {
   "cell_type": "code",
   "execution_count": 12,
   "id": "101e6c05",
   "metadata": {
    "scrolled": false
   },
   "outputs": [
    {
     "data": {
      "text/plain": [
       "array(['BedroomParents', 'Dinningroom', 'BedroomChildren', 'Kitchen',\n",
       "       'Garage', 'Bathroom', 'Livingroom', 'Watterroom', 'Bedroom',\n",
       "       'Entrance', 'Showerroom', 'room_1', 'room_2', 'room_3', 'room_4',\n",
       "       'room_5', 'room_6', 'room_7', 'room_9', 'room_8', 'room_10'],\n",
       "      dtype=object)"
      ]
     },
     "execution_count": 12,
     "metadata": {},
     "output_type": "execute_result"
    }
   ],
   "source": [
    "Features['destinationLocation'].unique()"
   ]
  },
  {
   "cell_type": "code",
   "execution_count": 13,
   "id": "01452c85",
   "metadata": {},
   "outputs": [
    {
     "data": {
      "text/plain": [
       "array(['/lightControler', '/movementSensor', '/sensorService',\n",
       "       '/derived/boolean', '/basic/number', '/batteryService',\n",
       "       '/doorLockService', '/thermostat', '/washingService',\n",
       "       '/basic/text', '/smartPhone', nan, '/basic/composed'], dtype=object)"
      ]
     },
     "execution_count": 13,
     "metadata": {},
     "output_type": "execute_result"
    }
   ],
   "source": [
    "Features['accessedNodeType'].unique()"
   ]
  },
  {
   "cell_type": "code",
   "execution_count": 14,
   "id": "c166e401",
   "metadata": {
    "scrolled": true
   },
   "outputs": [
    {
     "data": {
      "text/plain": [
       "array(['registerService', 'write', 'read', 'subscribe', 'lockSubtree'],\n",
       "      dtype=object)"
      ]
     },
     "execution_count": 14,
     "metadata": {},
     "output_type": "execute_result"
    }
   ],
   "source": [
    "Features['operation'].unique()"
   ]
  },
  {
   "cell_type": "code",
   "execution_count": 15,
   "id": "567a716b",
   "metadata": {
    "scrolled": true
   },
   "outputs": [
    {
     "data": {
      "image/png": "[encoded data removed]",
      "text/plain": [
       "<Figure size 432x288 with 1 Axes>"
      ]
     },
     "metadata": {
      "needs_background": "light"
     },
     "output_type": "display_data"
    }
   ],
   "source": [
    "sns.countplot(Features.sourceType)\n",
    "plt.xticks(rotation=90)\n",
    "plt.show()"
   ]
  },
  {
   "cell_type": "code",
   "execution_count": 16,
   "id": "348bbe23",
   "metadata": {
    "scrolled": true
   },
   "outputs": [
    {
     "data": {
      "image/png": "[encoded data removed]",
      "text/plain": [
       "<Figure size 432x288 with 1 Axes>"
      ]
     },
     "metadata": {
      "needs_background": "light"
     },
     "output_type": "display_data"
    }
   ],
   "source": [
    "sns.countplot(Features.sourceLocation)\n",
    "plt.xticks(rotation=90)\n",
    "plt.show()"
   ]
  },
  {
   "cell_type": "code",
   "execution_count": 17,
   "id": "3e236e6c",
   "metadata": {},
   "outputs": [
    {
     "data": {
      "image/png": "[encoded data removed]",
      "text/plain": [
       "<Figure size 432x288 with 1 Axes>"
      ]
     },
     "metadata": {
      "needs_background": "light"
     },
     "output_type": "display_data"
    }
   ],
   "source": [
    "sns.countplot(Features.destinationServiceType)\n",
    "plt.xticks(rotation=90)\n",
    "plt.show()"
   ]
  },
  {
   "cell_type": "code",
   "execution_count": 18,
   "id": "1fd241b6",
   "metadata": {},
   "outputs": [
    {
     "data": {
      "image/png": "[encoded data removed]",
      "text/plain": [
       "<Figure size 432x288 with 1 Axes>"
      ]
     },
     "metadata": {
      "needs_background": "light"
     },
     "output_type": "display_data"
    }
   ],
   "source": [
    "sns.countplot(Features.destinationLocation)\n",
    "plt.xticks(rotation=90)\n",
    "plt.show()"
   ]
  },
  {
   "cell_type": "code",
   "execution_count": 19,
   "id": "97830b0d",
   "metadata": {},
   "outputs": [
    {
     "data": {
      "image/png": "[encoded data removed]",
      "text/plain": [
       "<Figure size 432x288 with 1 Axes>"
      ]
     },
     "metadata": {
      "needs_background": "light"
     },
     "output_type": "display_data"
    }
   ],
   "source": [
    "sns.countplot(Features.accessedNodeType)\n",
    "plt.xticks(rotation=90)\n",
    "plt.show()"
   ]
  },
  {
   "cell_type": "code",
   "execution_count": 20,
   "id": "b28bb2d9",
   "metadata": {
    "scrolled": true
   },
   "outputs": [
    {
     "data": {
      "image/png": "[encoded data removed]",
      "text/plain": [
       "<Figure size 432x288 with 1 Axes>"
      ]
     },
     "metadata": {
      "needs_background": "light"
     },
     "output_type": "display_data"
    }
   ],
   "source": [
    "sns.countplot(Features['operation'])\n",
    "plt.xticks(rotation=90)\n",
    "plt.show()"
   ]
  },
  {
   "cell_type": "code",
   "execution_count": 21,
   "id": "3b9ff7d6",
   "metadata": {
    "scrolled": true
   },
   "outputs": [
    {
     "data": {
      "image/png": "[encoded data removed]",
      "text/plain": [
       "<Figure size 432x288 with 1 Axes>"
      ]
     },
     "metadata": {
      "needs_background": "light"
     },
     "output_type": "display_data"
    }
   ],
   "source": [
    "plt.title('No of Datapoints per Attack', fontsize=15)\n",
    "sns.countplot(Network_Traces.normality)\n",
    "plt.xticks(rotation=90)\n",
    "plt.show()"
   ]
  },
  {
   "cell_type": "code",
   "execution_count": 22,
   "id": "18dea0dd",
   "metadata": {
    "scrolled": true
   },
   "outputs": [
    {
     "data": {
      "text/plain": [
       "normal                           347935\n",
       "anomalous(DoSattack)               5780\n",
       "anomalous(scan)                    1547\n",
       "anomalous(malitiousControl)         889\n",
       "anomalous(malitiousOperation)       805\n",
       "anomalous(spying)                   532\n",
       "anomalous(dataProbing)              342\n",
       "anomalous(wrongSetUp)               122\n",
       "Name: normality, dtype: int64"
      ]
     },
     "execution_count": 22,
     "metadata": {},
     "output_type": "execute_result"
    }
   ],
   "source": [
    "Network_Traces['normality'].value_counts()"
   ]
  },
  {
   "cell_type": "markdown",
   "id": "b8b33c68",
   "metadata": {},
   "source": [
    "# Data Preprocessing"
   ]
  },
  {
   "cell_type": "code",
   "execution_count": 23,
   "id": "00209dfe",
   "metadata": {
    "scrolled": false
   },
   "outputs": [],
   "source": [
    "Features.value[Features.value=='true']=np.nan\n",
    "Features.value[Features.value=='none']=np.nan\n",
    "Features.value[Features.value=='false']=np.nan\n",
    "Features.value[Features.value=='twenty']=np.nan\n",
    "Features.value[Features.value=='org.ds2os.vsl.core.utils.AddressParameters@463d9146']=np.nan\n",
    "Features.value[Features.value=='org.ds2os.vsl.core.utils.AddressParameters@699d52f5']=np.nan\n",
    "Features.value[Features.value=='org.ds2os.vsl.core.utils.AddressParameters@273343f8']=np.nan\n",
    "Features.value[Features.value=='org.ds2os.vsl.core.utils.AddressParameters@181ae4a8']=np.nan\n",
    "Features.value[Features.value=='org.ds2os.vsl.core.utils.AddressParameters@5c494e7d']=np.nan\n",
    "Features.value[Features.value=='org.ds2os.vsl.core.utils.AddressParameters@6876d7bb ']=np.nan\n",
    "Features.value[Features.value=='org.ds2os.vsl.core.utils.AddressParameters@4ff97c45']=np.nan\n",
    "Features.value[Features.value=='org.ds2os.vsl.core.utils.AddressParameters@3ebb34ed']=np.nan\n",
    "Features.value[Features.value=='org.ds2os.vsl.core.utils.AddressParameters@2c82b391']=np.nan\n",
    "Features.value[Features.value=='org.ds2os.vsl.core.utils.AddressParameters@61ba9b2b']=np.nan\n",
    "Features.value[Features.value=='org.ds2os.vsl.core.utils.AddressParameters@715cced']=np.nan\n",
    "Features.value[Features.value=='org.ds2os.vsl.core.utils.AddressParameters@6876d7bb']=np.nan\n"
   ]
  },
  {
   "cell_type": "code",
   "execution_count": 24,
   "id": "e3bd4d82",
   "metadata": {},
   "outputs": [],
   "source": [
    "Features['value']=pd.to_numeric(Features['value'])"
   ]
  },
  {
   "cell_type": "markdown",
   "id": "8dd512f3",
   "metadata": {},
   "source": [
    "### Handling the Missing Values"
   ]
  },
  {
   "cell_type": "code",
   "execution_count": 25,
   "id": "53feda08",
   "metadata": {},
   "outputs": [],
   "source": [
    "from sklearn.impute import SimpleImputer\n",
    "\n",
    "imputer=SimpleImputer(missing_values=np.nan,strategy='constant',verbose=0)\n",
    "imputer=imputer.fit(Features.iloc[:,[8]])\n",
    "Features.iloc[:,[8]]=imputer.transform(Features.iloc[:,[8]])"
   ]
  },
  {
   "cell_type": "code",
   "execution_count": 26,
   "id": "f6230382",
   "metadata": {},
   "outputs": [],
   "source": [
    "imputer1=SimpleImputer(missing_values=np.nan,strategy='mean',verbose=0)\n",
    "imputer1=imputer1.fit(Features.iloc[:,[10]])\n",
    "Features.iloc[:,[10]]=imputer1.transform(Features.iloc[:,[10]])"
   ]
  },
  {
   "cell_type": "markdown",
   "id": "bf55f666",
   "metadata": {},
   "source": [
    "## Label Encoding the Categorical Data"
   ]
  },
  {
   "cell_type": "code",
   "execution_count": 27,
   "id": "f4b548b4",
   "metadata": {},
   "outputs": [],
   "source": [
    "from sklearn.preprocessing import LabelEncoder\n",
    "labelencoder_X = LabelEncoder()\n",
    "for i in range(0,10):\n",
    "    Features.iloc[:,i] = labelencoder_X.fit_transform(Features.iloc[:,i])"
   ]
  },
  {
   "cell_type": "code",
   "execution_count": 28,
   "id": "5aadb16d",
   "metadata": {},
   "outputs": [],
   "source": [
    "Features=Features.drop(columns='timestamp')\n",
    "Features=Features.drop(columns='sourceID')"
   ]
  },
  {
   "cell_type": "code",
   "execution_count": 29,
   "id": "5c17c5ec",
   "metadata": {},
   "outputs": [],
   "source": [
    "X=np.array(Features,dtype=np.float)\n",
    "y=labelencoder_X.fit_transform(Labels)"
   ]
  },
  {
   "cell_type": "code",
   "execution_count": 30,
   "id": "9325da28",
   "metadata": {},
   "outputs": [],
   "source": [
    "from collections import Counter"
   ]
  },
  {
   "cell_type": "code",
   "execution_count": 31,
   "id": "d91b8cdd",
   "metadata": {},
   "outputs": [],
   "source": [
    "items = Counter(y).keys()"
   ]
  },
  {
   "cell_type": "code",
   "execution_count": 32,
   "id": "2a5fcca2",
   "metadata": {},
   "outputs": [],
   "source": [
    "from sklearn.model_selection import train_test_split\n",
    " \n",
    "# split into 70:30 ratio\n",
    "X_train, X_test, y_train, y_test = train_test_split(X, y, test_size = 0.3, random_state = 0)"
   ]
  },
  {
   "cell_type": "code",
   "execution_count": 33,
   "id": "6e3a85a6",
   "metadata": {
    "scrolled": true
   },
   "outputs": [
    {
     "name": "stdout",
     "output_type": "stream",
     "text": [
      "Number transactions X_train dataset:  (250566, 10)\n",
      "Number transactions y_train dataset:  (250566,)\n",
      "Number transactions X_test dataset:  (107386, 10)\n",
      "Number transactions y_test dataset:  (107386,)\n"
     ]
    }
   ],
   "source": [
    "# describes info about train and test set\n",
    "print(\"Number transactions X_train dataset: \", X_train.shape)\n",
    "print(\"Number transactions y_train dataset: \", y_train.shape)\n",
    "print(\"Number transactions X_test dataset: \", X_test.shape)\n",
    "print(\"Number transactions y_test dataset: \", y_test.shape)"
   ]
  },
  {
   "cell_type": "markdown",
   "id": "60e2d1a2",
   "metadata": {},
   "source": [
    "### Handling the class imbalance problem"
   ]
  },
  {
   "cell_type": "markdown",
   "id": "2549200b",
   "metadata": {},
   "source": [
    "###  Using SMOTE Algorithm"
   ]
  },
  {
   "cell_type": "code",
   "execution_count": 34,
   "id": "71548555",
   "metadata": {},
   "outputs": [],
   "source": [
    "# import SMOTE module from imblearn library\n",
    "# !pip install imblearn\n",
    "from imblearn.over_sampling import SMOTE\n",
    "sm = SMOTE(random_state = 2)\n",
    "X_train_res, y_train_res = sm.fit_resample(X_train, y_train.ravel())"
   ]
  },
  {
   "cell_type": "code",
   "execution_count": 35,
   "id": "64155186",
   "metadata": {
    "scrolled": true
   },
   "outputs": [
    {
     "name": "stdout",
     "output_type": "stream",
     "text": [
      "Before OverSampling, counts of label '0': 4045\n",
      "Before OverSampling, counts of label '1': 237 \n",
      "\n",
      "Before OverSampling, counts of label '2': 618 \n",
      "\n",
      "Before OverSampling, counts of label '3': 567 \n",
      "\n",
      "Before OverSampling, counts of label '4': 1102 \n",
      "\n",
      "Before OverSampling, counts of label '5': 370 \n",
      "\n",
      "Before OverSampling, counts of label '6': 93 \n",
      "\n",
      "Before OverSampling, counts of label '7': 243534 \n",
      "\n",
      "After OverSampling, the shape of train_X: (1948272, 10)\n",
      "After OverSampling, the shape of train_y: (1948272,) \n",
      "\n",
      "After OverSampling, counts of label '0': 243534\n",
      "After OverSampling, counts of label '1': 243534\n",
      "After OverSampling, counts of label '2': 243534\n",
      "After OverSampling, counts of label '3': 243534\n",
      "After OverSampling, counts of label '4': 243534\n",
      "After OverSampling, counts of label '5': 243534\n",
      "After OverSampling, counts of label '6': 243534\n",
      "After OverSampling, counts of label '7': 243534\n"
     ]
    }
   ],
   "source": [
    "print(\"Before OverSampling, counts of label '0': {}\".format(sum(y_train == 0)))\n",
    "print(\"Before OverSampling, counts of label '1': {} \\n\".format(sum(y_train == 1)))\n",
    "print(\"Before OverSampling, counts of label '2': {} \\n\".format(sum(y_train == 2)))\n",
    "print(\"Before OverSampling, counts of label '3': {} \\n\".format(sum(y_train == 3)))\n",
    "print(\"Before OverSampling, counts of label '4': {} \\n\".format(sum(y_train == 4)))\n",
    "print(\"Before OverSampling, counts of label '5': {} \\n\".format(sum(y_train == 5)))\n",
    "print(\"Before OverSampling, counts of label '6': {} \\n\".format(sum(y_train == 6)))\n",
    "print(\"Before OverSampling, counts of label '7': {} \\n\".format(sum(y_train == 7)))\n",
    "\n",
    "\n",
    "print('After OverSampling, the shape of train_X: {}'.format(X_train_res.shape))\n",
    "print('After OverSampling, the shape of train_y: {} \\n'.format(y_train_res.shape))\n",
    " \n",
    "print(\"After OverSampling, counts of label '0': {}\".format(sum(y_train_res == 0)))\n",
    "print(\"After OverSampling, counts of label '1': {}\".format(sum(y_train_res == 1)))\n",
    "print(\"After OverSampling, counts of label '2': {}\".format(sum(y_train_res == 2)))\n",
    "print(\"After OverSampling, counts of label '3': {}\".format(sum(y_train_res == 3)))\n",
    "print(\"After OverSampling, counts of label '4': {}\".format(sum(y_train_res == 4)))\n",
    "print(\"After OverSampling, counts of label '5': {}\".format(sum(y_train_res == 5)))\n",
    "print(\"After OverSampling, counts of label '6': {}\".format(sum(y_train_res == 6)))\n",
    "print(\"After OverSampling, counts of label '7': {}\".format(sum(y_train_res == 7)))\n",
    "\n"
   ]
  },
  {
   "cell_type": "markdown",
   "id": "ca9f662f",
   "metadata": {},
   "source": [
    "## The New Training data is X_train_res, y_train_res   and test it on X_test and y_test"
   ]
  },
  {
   "cell_type": "markdown",
   "id": "8a227e9f",
   "metadata": {},
   "source": [
    "### Normalizing the Data"
   ]
  },
  {
   "cell_type": "code",
   "execution_count": 35,
   "id": "86074733",
   "metadata": {},
   "outputs": [],
   "source": [
    "from sklearn.preprocessing import StandardScaler\n",
    "sc = StandardScaler()\n",
    "X_train_res = sc.fit_transform(X_train_res)\n",
    "X_test = sc.transform(X_test)"
   ]
  },
  {
   "cell_type": "markdown",
   "id": "7f384f02",
   "metadata": {},
   "source": [
    "## Training the Model"
   ]
  },
  {
   "cell_type": "markdown",
   "id": "705e0c2d",
   "metadata": {},
   "source": [
    "### 1. Random Forest"
   ]
  },
  {
   "cell_type": "code",
   "execution_count": 36,
   "id": "f0aeecd0",
   "metadata": {},
   "outputs": [],
   "source": [
    "from sklearn.ensemble import RandomForestClassifier\n",
    "from sklearn.metrics import confusion_matrix\n",
    "from datetime import datetime\n",
    "\n",
    "classifier_rf = RandomForestClassifier(n_estimators = 25, criterion = 'entropy', random_state = 42)\n",
    "start = datetime.now() \n",
    "classifier_rf.fit(X_train_res, y_train_res)\n",
    "stop = datetime.now()"
   ]
  },
  {
   "cell_type": "code",
   "execution_count": 37,
   "id": "61b2b2f2",
   "metadata": {},
   "outputs": [
    {
     "data": {
      "text/plain": [
       "datetime.timedelta(seconds=41, microseconds=804620)"
      ]
     },
     "execution_count": 37,
     "metadata": {},
     "output_type": "execute_result"
    }
   ],
   "source": [
    "#Execution time of the model \n",
    "execution_time_rf = stop-start \n",
    "execution_time_rf"
   ]
  },
  {
   "cell_type": "code",
   "execution_count": 38,
   "id": "e128c919",
   "metadata": {},
   "outputs": [
    {
     "data": {
      "text/plain": [
       "array([7, 7, 7, ..., 7, 7, 7])"
      ]
     },
     "execution_count": 38,
     "metadata": {},
     "output_type": "execute_result"
    }
   ],
   "source": [
    "y_pred = classifier_rf.predict(X_test)\n",
    "y_pred"
   ]
  },
  {
   "cell_type": "code",
   "execution_count": 39,
   "id": "14d2660c",
   "metadata": {},
   "outputs": [
    {
     "name": "stdout",
     "output_type": "stream",
     "text": [
      "[[  1735      0      0      0      0      0      0      0]\n",
      " [     0    105      0      0      0      0      0      0]\n",
      " [     0      0    271      0      0      0      0      0]\n",
      " [     0      0      0    238      0      0      0      0]\n",
      " [     0      0      0      0    445      0      0      0]\n",
      " [     0      0      0      0      0    162      0      0]\n",
      " [     0      0      0      0      0      0     29      0]\n",
      " [  1282      0      0      0      1      0      0 103118]]\n"
     ]
    }
   ],
   "source": [
    "cm = confusion_matrix(y_test,y_pred)\n",
    "print(cm)"
   ]
  },
  {
   "cell_type": "code",
   "execution_count": 40,
   "id": "833324df",
   "metadata": {},
   "outputs": [
    {
     "name": "stdout",
     "output_type": "stream",
     "text": [
      "              precision    recall  f1-score   support\n",
      "\n",
      "           0   0.575075  1.000000  0.730219      1735\n",
      "           1   1.000000  1.000000  1.000000       105\n",
      "           2   1.000000  1.000000  1.000000       271\n",
      "           3   1.000000  1.000000  1.000000       238\n",
      "           4   0.997758  1.000000  0.998878       445\n",
      "           5   1.000000  1.000000  1.000000       162\n",
      "           6   1.000000  1.000000  1.000000        29\n",
      "           7   1.000000  0.987711  0.993817    104401\n",
      "\n",
      "    accuracy                       0.988052    107386\n",
      "   macro avg   0.946604  0.998464  0.965364    107386\n",
      "weighted avg   0.993125  0.988052  0.989626    107386\n",
      "\n"
     ]
    }
   ],
   "source": [
    "from sklearn.metrics import classification_report\n",
    "print(classification_report(y_test, y_pred, digits=6))"
   ]
  },
  {
   "cell_type": "code",
   "execution_count": 44,
   "id": "4048bd22",
   "metadata": {},
   "outputs": [
    {
     "name": "stdout",
     "output_type": "stream",
     "text": [
      "Test accuracy :  0.9880524463151621\n"
     ]
    }
   ],
   "source": [
    "from sklearn.metrics import accuracy_score \n",
    "accuracy_rf = accuracy_score(y_test, y_pred) \n",
    "print('Test accuracy : ', accuracy_rf)"
   ]
  },
  {
   "cell_type": "code",
   "execution_count": 46,
   "id": "d2c77857",
   "metadata": {},
   "outputs": [],
   "source": [
    "from sklearn.model_selection import cross_val_score\n",
    "accuracies = cross_val_score(estimator=classifier_rf, X=X_train_res, y=y_train_res, cv=5)"
   ]
  },
  {
   "cell_type": "code",
   "execution_count": 43,
   "id": "f09682e0",
   "metadata": {},
   "outputs": [
    {
     "data": {
      "text/plain": [
       "array([0.99834469, 0.99850637, 0.99849354, 0.99857566, 0.99855513])"
      ]
     },
     "execution_count": 43,
     "metadata": {},
     "output_type": "execute_result"
    }
   ],
   "source": [
    "accuracies"
   ]
  },
  {
   "cell_type": "code",
   "execution_count": 47,
   "id": "d6059c5c",
   "metadata": {},
   "outputs": [
    {
     "name": "stdout",
     "output_type": "stream",
     "text": [
      "Training accuracy :  0.9984950767341998\n"
     ]
    }
   ],
   "source": [
    "print('Training accuracy : ', accuracies.mean())"
   ]
  },
  {
   "cell_type": "code",
   "execution_count": 48,
   "id": "5495a09b",
   "metadata": {},
   "outputs": [
    {
     "data": {
      "text/plain": [
       "sourceAddress                0.107748\n",
       "sourceType                   0.074126\n",
       "sourceLocation               0.124135\n",
       "destinationServiceAddress    0.077733\n",
       "destinationServiceType       0.081789\n",
       "destinationLocation          0.078508\n",
       "accessedNodeAddress          0.133650\n",
       "accessedNodeType             0.112432\n",
       "operation                    0.159555\n",
       "value                        0.050323\n",
       "dtype: float64"
      ]
     },
     "execution_count": 48,
     "metadata": {},
     "output_type": "execute_result"
    }
   ],
   "source": [
    "# feature_names = [f\"feature {i}\" for i in range(X.shape[1])]\n",
    "feature_names = ['sourceAddress', 'sourceType', 'sourceLocation', 'destinationServiceAddress', 'destinationServiceType', 'destinationLocation', 'accessedNodeAddress', 'accessedNodeType', 'operation', 'value']\n",
    "importances = classifier_rf.feature_importances_\n",
    "forest_importances = pd.Series(importances, index=feature_names)\n",
    "forest_importances"
   ]
  },
  {
   "cell_type": "code",
   "execution_count": 49,
   "id": "a8a90d8f",
   "metadata": {},
   "outputs": [
    {
     "data": {
      "image/png": "[encoded data removed]",
      "text/plain": [
       "<Figure size 432x288 with 1 Axes>"
      ]
     },
     "metadata": {
      "needs_background": "light"
     },
     "output_type": "display_data"
    }
   ],
   "source": [
    "fig, ax = plt.subplots()\n",
    "forest_importances.plot.bar(ax=ax)\n",
    "ax.set_title(\"Feature importances using MDI\")\n",
    "ax.set_ylabel(\"Mean decrease in impurity\")\n",
    "fig.tight_layout()"
   ]
  },
  {
   "cell_type": "markdown",
   "id": "299ac69d",
   "metadata": {},
   "source": [
    "### 2. XGBOOST"
   ]
  },
  {
   "cell_type": "code",
   "execution_count": 50,
   "id": "fb5b99cb",
   "metadata": {},
   "outputs": [],
   "source": [
    "import xgboost as xgb\n",
    "\n",
    "dtrain = xgb.DMatrix(X_train_res,label=y_train_res)\n",
    "dtest = xgb.DMatrix(X_test)"
   ]
  },
  {
   "cell_type": "code",
   "execution_count": 52,
   "id": "09a90187",
   "metadata": {},
   "outputs": [],
   "source": [
    "#setting parameters for xgboost\n",
    "parameters={'max_depth':5, 'objective':'multi:softmax', \n",
    "            'eval_metric':'mlogloss', 'learning_rate':.25, \n",
    "            'num_class':8, 'tree_method': 'hist'}"
   ]
  },
  {
   "cell_type": "code",
   "execution_count": 53,
   "id": "87cfc5da",
   "metadata": {},
   "outputs": [],
   "source": [
    "# training our model \n",
    "num_round=25\n",
    "start = datetime.now() \n",
    "classifier_xgb = xgb.train(parameters,dtrain,num_round) \n",
    "# classifier_xgb = xgb.train(parameters,dtrain) \n",
    "stop = datetime.now()"
   ]
  },
  {
   "cell_type": "code",
   "execution_count": 54,
   "id": "3e426849",
   "metadata": {},
   "outputs": [
    {
     "data": {
      "text/plain": [
       "datetime.timedelta(seconds=26, microseconds=415363)"
      ]
     },
     "execution_count": 54,
     "metadata": {},
     "output_type": "execute_result"
    }
   ],
   "source": [
    "#Execution time of the model \n",
    "execution_time_xgb = stop-start \n",
    "execution_time_xgb"
   ]
  },
  {
   "cell_type": "code",
   "execution_count": 55,
   "id": "caac7989",
   "metadata": {},
   "outputs": [
    {
     "data": {
      "text/plain": [
       "array([7., 7., 7., ..., 7., 7., 7.], dtype=float32)"
      ]
     },
     "execution_count": 55,
     "metadata": {},
     "output_type": "execute_result"
    }
   ],
   "source": [
    "y_pred = classifier_xgb.predict(dtest) \n",
    "\n",
    "predictions = [np.round(value) for value in y_pred]\n",
    "np.array(predictions)"
   ]
  },
  {
   "cell_type": "code",
   "execution_count": 56,
   "id": "eeea877c",
   "metadata": {
    "scrolled": true
   },
   "outputs": [
    {
     "name": "stdout",
     "output_type": "stream",
     "text": [
      "[[  1735      0      0      0      0      0      0      0]\n",
      " [     0    105      0      0      0      0      0      0]\n",
      " [     0      0    271      0      0      0      0      0]\n",
      " [     0      0      0    238      0      0      0      0]\n",
      " [     0      0      0      0    445      0      0      0]\n",
      " [     0      0      0      0      0    162      0      0]\n",
      " [     0      0      0      0      0      0     29      0]\n",
      " [  1287      0      1     31      5      5      0 103072]]\n"
     ]
    }
   ],
   "source": [
    "cm = confusion_matrix(y_test, predictions)\n",
    "print(cm)"
   ]
  },
  {
   "cell_type": "code",
   "execution_count": 57,
   "id": "b77899b0",
   "metadata": {},
   "outputs": [
    {
     "name": "stdout",
     "output_type": "stream",
     "text": [
      "              precision    recall  f1-score   support\n",
      "\n",
      "           0   0.574123  1.000000  0.729451      1735\n",
      "           1   1.000000  1.000000  1.000000       105\n",
      "           2   0.996324  1.000000  0.998158       271\n",
      "           3   0.884758  1.000000  0.938856       238\n",
      "           4   0.988889  1.000000  0.994413       445\n",
      "           5   0.970060  1.000000  0.984802       162\n",
      "           6   1.000000  1.000000  1.000000        29\n",
      "           7   1.000000  0.987270  0.993594    104401\n",
      "\n",
      "    accuracy                       0.987624    107386\n",
      "   macro avg   0.926769  0.998409  0.954909    107386\n",
      "weighted avg   0.992763  0.987624  0.989215    107386\n",
      "\n"
     ]
    }
   ],
   "source": [
    "from sklearn.metrics import classification_report\n",
    "print(classification_report(y_test, predictions, digits=6))"
   ]
  },
  {
   "cell_type": "code",
   "execution_count": 58,
   "id": "373e63d8",
   "metadata": {},
   "outputs": [
    {
     "data": {
      "text/plain": [
       "0.987624085076267"
      ]
     },
     "execution_count": 58,
     "metadata": {},
     "output_type": "execute_result"
    }
   ],
   "source": [
    "accuracy_xgb = accuracy_score(y_test, y_pred) \n",
    "accuracy_xgb"
   ]
  },
  {
   "cell_type": "code",
   "execution_count": 120,
   "id": "0b9e4f13",
   "metadata": {},
   "outputs": [],
   "source": [
    "# accuracies = cross_val_score(estimator=classifier_xgb, X=X_train_res, y=y_train_res, cv=5)\n",
    "# accuracies"
   ]
  },
  {
   "cell_type": "code",
   "execution_count": 59,
   "id": "197ebc0d",
   "metadata": {},
   "outputs": [],
   "source": [
    "# classifier_xgb.get_score(fmap='', importance_type='weight')"
   ]
  },
  {
   "cell_type": "code",
   "execution_count": null,
   "id": "ea4414c9",
   "metadata": {},
   "outputs": [],
   "source": []
  },
  {
   "cell_type": "markdown",
   "id": "443b5c2c",
   "metadata": {},
   "source": [
    "### 3. LIGHT GBM"
   ]
  },
  {
   "cell_type": "code",
   "execution_count": 60,
   "id": "467eaa5d",
   "metadata": {},
   "outputs": [],
   "source": [
    "import lightgbm as lgb\n",
    "\n",
    "train_data = lgb.Dataset(X_train_res,label=y_train_res)\n",
    "# train_data"
   ]
  },
  {
   "cell_type": "code",
   "execution_count": 74,
   "id": "a537a002",
   "metadata": {},
   "outputs": [],
   "source": [
    "#setting parameters for lightgbm\n",
    "param = {'num_leaves':32, \n",
    "         'objective':'multiclass',\n",
    "         'max_depth':5,\n",
    "         'learning_rate':.1,\n",
    "         'num_class':8,\n",
    "         'metric':'multi_logloss',\n",
    "         'verbose': -1}"
   ]
  },
  {
   "cell_type": "code",
   "execution_count": 75,
   "id": "00723f22",
   "metadata": {},
   "outputs": [
    {
     "name": "stdout",
     "output_type": "stream",
     "text": [
      "[LightGBM] [Warning] Accuracy may be bad since you didn't explicitly set num_leaves OR 2^max_depth > num_leaves. (num_leaves=31).\n"
     ]
    }
   ],
   "source": [
    "#training our model using light gbm\n",
    "\n",
    "start=datetime.now()\n",
    "classifier_lgbm = lgb.train(param,train_data,num_round)\n",
    "stop=datetime.now()"
   ]
  },
  {
   "cell_type": "code",
   "execution_count": 76,
   "id": "3d63f83e",
   "metadata": {},
   "outputs": [
    {
     "data": {
      "text/plain": [
       "datetime.timedelta(seconds=24, microseconds=827609)"
      ]
     },
     "execution_count": 76,
     "metadata": {},
     "output_type": "execute_result"
    }
   ],
   "source": [
    "#Execution time of the model \n",
    "execution_time_lgbm = stop-start \n",
    "execution_time_lgbm"
   ]
  },
  {
   "cell_type": "code",
   "execution_count": 77,
   "id": "28cef439",
   "metadata": {},
   "outputs": [
    {
     "data": {
      "text/plain": [
       "array([7, 7, 7, ..., 7, 7, 7], dtype=int64)"
      ]
     },
     "execution_count": 77,
     "metadata": {},
     "output_type": "execute_result"
    }
   ],
   "source": [
    "y_pred = classifier_lgbm.predict(X_test) \n",
    "# y_pred\n",
    "predictions = [np.argmax(value) for value in y_pred]\n",
    "np.array(predictions)"
   ]
  },
  {
   "cell_type": "code",
   "execution_count": 69,
   "id": "00d7821b",
   "metadata": {},
   "outputs": [
    {
     "name": "stdout",
     "output_type": "stream",
     "text": [
      "[[  1735      0      0      0      0      0      0      0]\n",
      " [     0    105      0      0      0      0      0      0]\n",
      " [     0      0    271      0      0      0      0      0]\n",
      " [     0      0      0    238      0      0      0      0]\n",
      " [     0      0      0      0    445      0      0      0]\n",
      " [     0      0      0      0      0    162      0      0]\n",
      " [     0      0      0      0      0      0     29      0]\n",
      " [   747      0      1     26      0      3      0 103624]]\n"
     ]
    }
   ],
   "source": [
    "cm = confusion_matrix(y_test, predictions)\n",
    "print(cm)"
   ]
  },
  {
   "cell_type": "code",
   "execution_count": 70,
   "id": "efa61875",
   "metadata": {},
   "outputs": [
    {
     "name": "stdout",
     "output_type": "stream",
     "text": [
      "              precision    recall  f1-score   support\n",
      "\n",
      "           0   0.699033  1.000000  0.822860      1735\n",
      "           1   1.000000  1.000000  1.000000       105\n",
      "           2   0.996324  1.000000  0.998158       271\n",
      "           3   0.901515  1.000000  0.948207       238\n",
      "           4   1.000000  1.000000  1.000000       445\n",
      "           5   0.981818  1.000000  0.990826       162\n",
      "           6   1.000000  1.000000  1.000000        29\n",
      "           7   1.000000  0.992558  0.996265    104401\n",
      "\n",
      "    accuracy                       0.992764    107386\n",
      "   macro avg   0.947336  0.999070  0.969539    107386\n",
      "weighted avg   0.994882  0.992764  0.993373    107386\n",
      "\n"
     ]
    }
   ],
   "source": [
    "from sklearn.metrics import classification_report\n",
    "print(classification_report(y_test, predictions, digits=6))"
   ]
  },
  {
   "cell_type": "code",
   "execution_count": 71,
   "id": "940c48fb",
   "metadata": {},
   "outputs": [
    {
     "data": {
      "text/plain": [
       "0.9927644199430093"
      ]
     },
     "execution_count": 71,
     "metadata": {},
     "output_type": "execute_result"
    }
   ],
   "source": [
    "accuracy_lgbm = accuracy_score(y_test, predictions) \n",
    "accuracy_lgbm"
   ]
  },
  {
   "cell_type": "code",
   "execution_count": 82,
   "id": "5542b608",
   "metadata": {},
   "outputs": [
    {
     "data": {
      "text/plain": [
       "200"
      ]
     },
     "execution_count": 82,
     "metadata": {},
     "output_type": "execute_result"
    }
   ],
   "source": [
    "# classifier_lgbm.attr('key')\n",
    "classifier_lgbm.num_trees()"
   ]
  },
  {
   "cell_type": "code",
   "execution_count": 86,
   "id": "a026540c",
   "metadata": {},
   "outputs": [
    {
     "name": "stdout",
     "output_type": "stream",
     "text": [
      "n_iterations: 1\n",
      "n_required_iterations: 1\n",
      "n_possible_iterations: 13\n",
      "min_resources_: 10000\n",
      "max_resources_: 1948272\n",
      "aggressive_elimination: False\n",
      "factor: 1.5\n",
      "----------\n",
      "iter: 0\n",
      "n_candidates: 1\n",
      "n_resources: 10000\n",
      "Fitting 5 folds for each of 1 candidates, totalling 5 fits\n",
      "0:01:26.261229\n"
     ]
    },
    {
     "data": {
      "text/plain": [
       "LGBMClassifier(max_depth=5, metric='multi_logloss', num_classes=8,\n",
       "               num_leaves=32, objective='multiclass')"
      ]
     },
     "execution_count": 86,
     "metadata": {},
     "output_type": "execute_result"
    }
   ],
   "source": [
    "lg = lgb.LGBMClassifier(objective='multiclass', metric='multi_logloss', num_classes=8, silent=True)\n",
    "\n",
    "from sklearn.experimental import enable_halving_search_cv\n",
    "from sklearn.model_selection import HalvingGridSearchCV\n",
    "\n",
    "param_dist = {\"max_depth\": [4, 5, 6, 7],\n",
    "              \"learning_rate\" : [0.1, 0.5, 1],\n",
    "              \"num_leaves\": [32, 64],\n",
    "              \"feature_fraction\": [0.5, 0.6, 0.7]\n",
    "             }\n",
    "grid_search = HalvingGridSearchCV(lg, n_jobs=-1, param_grid=param_dist, cv = 5, scoring=\"roc_auc\", verbose=10,\n",
    "                                  min_resources=1000, factor=1.5)\n",
    "\n",
    "start=datetime.now()\n",
    "grid_search.fit(X_train_res, y_train_res)\n",
    "stop=datetime.now()\n",
    "print(stop-start)\n",
    "\n",
    "grid_search.best_estimator_"
   ]
  },
  {
   "cell_type": "code",
   "execution_count": 85,
   "id": "4020e62b",
   "metadata": {},
   "outputs": [
    {
     "name": "stdout",
     "output_type": "stream",
     "text": [
      "0:13:50.656890\n"
     ]
    }
   ],
   "source": [
    "print(stop-start)"
   ]
  },
  {
   "cell_type": "markdown",
   "id": "8b3f3fa9",
   "metadata": {},
   "source": [
    "### 4. HistGradientBoostingClassifier"
   ]
  },
  {
   "cell_type": "code",
   "execution_count": 120,
   "id": "d4fff067",
   "metadata": {},
   "outputs": [],
   "source": [
    "from sklearn.experimental import enable_hist_gradient_boosting\n",
    "from sklearn.ensemble import HistGradientBoostingClassifier"
   ]
  },
  {
   "cell_type": "code",
   "execution_count": 121,
   "id": "724f8193",
   "metadata": {},
   "outputs": [],
   "source": [
    "start = datetime.now() \n",
    "classifier_hgbc = HistGradientBoostingClassifier(max_depth=5).fit(X_train_res, y_train_res)\n",
    "stop = datetime.now()"
   ]
  },
  {
   "cell_type": "code",
   "execution_count": 122,
   "id": "8875a3e1",
   "metadata": {},
   "outputs": [
    {
     "data": {
      "text/plain": [
       "datetime.timedelta(seconds=213, microseconds=232356)"
      ]
     },
     "execution_count": 122,
     "metadata": {},
     "output_type": "execute_result"
    }
   ],
   "source": [
    "#Execution time of the model \n",
    "execution_time_hgbc = stop-start \n",
    "execution_time_hgbc"
   ]
  },
  {
   "cell_type": "code",
   "execution_count": 123,
   "id": "0f248734",
   "metadata": {},
   "outputs": [
    {
     "data": {
      "text/plain": [
       "array([7, 7, 7, ..., 7, 7, 7])"
      ]
     },
     "execution_count": 123,
     "metadata": {},
     "output_type": "execute_result"
    }
   ],
   "source": [
    "y_pred = classifier_hgbc.predict(X_test) \n",
    "y_pred"
   ]
  },
  {
   "cell_type": "code",
   "execution_count": 124,
   "id": "b9fc35fc",
   "metadata": {
    "scrolled": true
   },
   "outputs": [
    {
     "name": "stdout",
     "output_type": "stream",
     "text": [
      "[[  1735      0      0      0      0      0      0      0]\n",
      " [     0    105      0      0      0      0      0      0]\n",
      " [     0      0    271      0      0      0      0      0]\n",
      " [     0      0      0    238      0      0      0      0]\n",
      " [     0      0      0      0    445      0      0      0]\n",
      " [     0      0      0      0      0    162      0      0]\n",
      " [     0      0      0      0      0      0     29      0]\n",
      " [   747      0      1     26      0      3      0 103624]]\n"
     ]
    }
   ],
   "source": [
    "cm = confusion_matrix(y_test, predictions)\n",
    "print(cm)"
   ]
  },
  {
   "cell_type": "code",
   "execution_count": 125,
   "id": "cea379fe",
   "metadata": {},
   "outputs": [
    {
     "name": "stdout",
     "output_type": "stream",
     "text": [
      "              precision    recall  f1-score   support\n",
      "\n",
      "           0   0.699033  1.000000  0.822860      1735\n",
      "           1   1.000000  1.000000  1.000000       105\n",
      "           2   0.996324  1.000000  0.998158       271\n",
      "           3   0.901515  1.000000  0.948207       238\n",
      "           4   1.000000  1.000000  1.000000       445\n",
      "           5   0.981818  1.000000  0.990826       162\n",
      "           6   1.000000  1.000000  1.000000        29\n",
      "           7   1.000000  0.992558  0.996265    104401\n",
      "\n",
      "    accuracy                       0.992764    107386\n",
      "   macro avg   0.947336  0.999070  0.969539    107386\n",
      "weighted avg   0.994882  0.992764  0.993373    107386\n",
      "\n"
     ]
    }
   ],
   "source": [
    "from sklearn.metrics import classification_report\n",
    "print(classification_report(y_test, predictions, digits=6))"
   ]
  },
  {
   "cell_type": "code",
   "execution_count": 126,
   "id": "81b837a4",
   "metadata": {},
   "outputs": [
    {
     "data": {
      "text/plain": [
       "0.9927644199430093"
      ]
     },
     "execution_count": 126,
     "metadata": {},
     "output_type": "execute_result"
    }
   ],
   "source": [
    "accuracy_hgbc = accuracy_score(y_test, predictions) \n",
    "accuracy_hgbc"
   ]
  },
  {
   "cell_type": "code",
   "execution_count": 127,
   "id": "0a7689f7",
   "metadata": {},
   "outputs": [],
   "source": [
    "# res = (xi, yi) for xi, yi in zip(y, Labels)"
   ]
  },
  {
   "cell_type": "markdown",
   "id": "409c578e",
   "metadata": {},
   "source": [
    "### 5. CatBoost"
   ]
  },
  {
   "cell_type": "code",
   "execution_count": 103,
   "id": "23668f2a",
   "metadata": {},
   "outputs": [],
   "source": [
    "from catboost import Pool, CatBoostClassifier"
   ]
  },
  {
   "cell_type": "code",
   "execution_count": 104,
   "id": "93961d0d",
   "metadata": {},
   "outputs": [],
   "source": [
    "train_dataset = Pool(data=X_train_res,\n",
    "                     label=y_train_res)\n",
    "\n",
    "test_dataset = Pool(data=X_test,\n",
    "                    label=y_test)"
   ]
  },
  {
   "cell_type": "code",
   "execution_count": 105,
   "id": "d6c0e150",
   "metadata": {},
   "outputs": [],
   "source": [
    "classifier_cb = CatBoostClassifier(iterations=20, loss_function='MultiClass', learning_rate= 0.25, silent=True)"
   ]
  },
  {
   "cell_type": "code",
   "execution_count": 106,
   "id": "4f8e8763",
   "metadata": {},
   "outputs": [],
   "source": [
    "start = datetime.now()\n",
    "classifier_cb.fit(train_dataset)\n",
    "stop = datetime.now()"
   ]
  },
  {
   "cell_type": "code",
   "execution_count": 107,
   "id": "bb2a8891",
   "metadata": {},
   "outputs": [
    {
     "data": {
      "text/plain": [
       "datetime.timedelta(seconds=38, microseconds=153061)"
      ]
     },
     "execution_count": 107,
     "metadata": {},
     "output_type": "execute_result"
    }
   ],
   "source": [
    "#Execution time of the model \n",
    "execution_time_cb = stop-start \n",
    "execution_time_cb"
   ]
  },
  {
   "cell_type": "code",
   "execution_count": 108,
   "id": "4bc76a05",
   "metadata": {},
   "outputs": [
    {
     "data": {
      "text/plain": [
       "array([7, 7, 7, ..., 7, 7, 7], dtype=int64)"
      ]
     },
     "execution_count": 108,
     "metadata": {},
     "output_type": "execute_result"
    }
   ],
   "source": [
    "y_pred = classifier_cb.predict(test_dataset) \n",
    "y_pred[:, 0]\n",
    "# predictions = [np.argmax(value) for value in y_pred]\n",
    "# predictions"
   ]
  },
  {
   "cell_type": "code",
   "execution_count": 109,
   "id": "2245ee3d",
   "metadata": {},
   "outputs": [
    {
     "name": "stdout",
     "output_type": "stream",
     "text": [
      "[[  1735      0      0      0      0      0      0      0]\n",
      " [     0    105      0      0      0      0      0      0]\n",
      " [     0      0    271      0      0      0      0      0]\n",
      " [     0      0      0    238      0      0      0      0]\n",
      " [     0      0      0      0    445      0      0      0]\n",
      " [     0      0      0      0      0    162      0      0]\n",
      " [     0      0      0      0      0      0     29      0]\n",
      " [  1304     63      1     41     19      0      0 102973]]\n"
     ]
    }
   ],
   "source": [
    "cm = confusion_matrix(y_test, y_pred)\n",
    "print(cm)"
   ]
  },
  {
   "cell_type": "code",
   "execution_count": 110,
   "id": "a1a5caf6",
   "metadata": {},
   "outputs": [
    {
     "name": "stdout",
     "output_type": "stream",
     "text": [
      "              precision    recall  f1-score   support\n",
      "\n",
      "           0   0.570911  1.000000  0.726854      1735\n",
      "           1   0.625000  1.000000  0.769231       105\n",
      "           2   0.996324  1.000000  0.998158       271\n",
      "           3   0.853047  1.000000  0.920696       238\n",
      "           4   0.959052  1.000000  0.979098       445\n",
      "           5   1.000000  1.000000  1.000000       162\n",
      "           6   1.000000  1.000000  1.000000        29\n",
      "           7   1.000000  0.986322  0.993114    104401\n",
      "\n",
      "    accuracy                       0.986702    107386\n",
      "   macro avg   0.875542  0.998290  0.923394    107386\n",
      "weighted avg   0.992196  0.986702  0.988400    107386\n",
      "\n"
     ]
    }
   ],
   "source": [
    "from sklearn.metrics import classification_report\n",
    "print(classification_report(y_test, y_pred, digits=6))"
   ]
  },
  {
   "cell_type": "code",
   "execution_count": 116,
   "id": "10d1962f",
   "metadata": {},
   "outputs": [
    {
     "name": "stdout",
     "output_type": "stream",
     "text": [
      "Test set accuracy :  0.9867021771925577\n"
     ]
    }
   ],
   "source": [
    "accuracy_cb = accuracy_score(y_test, y_pred) \n",
    "accuracy_cb\n",
    "print('Test set accuracy : ', accuracy_cb)"
   ]
  },
  {
   "cell_type": "code",
   "execution_count": 113,
   "id": "eae504fb",
   "metadata": {},
   "outputs": [],
   "source": [
    "from sklearn.model_selection import cross_val_score\n",
    "accuracies = cross_val_score(estimator=classifier_cb, X=X_train_res, y=y_train_res, cv=5)"
   ]
  },
  {
   "cell_type": "code",
   "execution_count": 114,
   "id": "f57e8012",
   "metadata": {},
   "outputs": [
    {
     "data": {
      "text/plain": [
       "array([0.99817531, 0.99759531, 0.998183  , 0.99819584, 0.99836008])"
      ]
     },
     "execution_count": 114,
     "metadata": {},
     "output_type": "execute_result"
    }
   ],
   "source": [
    "accuracies"
   ]
  },
  {
   "cell_type": "code",
   "execution_count": 117,
   "id": "2f40a819",
   "metadata": {},
   "outputs": [
    {
     "name": "stdout",
     "output_type": "stream",
     "text": [
      "Training set accuracy :  0.9981019079641849\n"
     ]
    }
   ],
   "source": [
    "accuracies.mean()\n",
    "print('Training set accuracy : ', accuracies.mean())"
   ]
  },
  {
   "cell_type": "code",
   "execution_count": 118,
   "id": "263bc46a",
   "metadata": {},
   "outputs": [
    {
     "data": {
      "text/plain": [
       "0.0002623295607125159"
      ]
     },
     "execution_count": 118,
     "metadata": {},
     "output_type": "execute_result"
    }
   ],
   "source": [
    "accuracies.std()"
   ]
  },
  {
   "cell_type": "markdown",
   "id": "ad207e08",
   "metadata": {},
   "source": [
    "## Model Comparisons"
   ]
  },
  {
   "cell_type": "code",
   "execution_count": 128,
   "id": "1cebc132",
   "metadata": {},
   "outputs": [],
   "source": [
    "models = ['Random Forest', 'Hist Gradient Boosting', 'XGBoost', 'Light GBM', 'CatBoost']\n",
    "accuracies = [accuracy_rf, accuracy_hgbc, accuracy_lgbm - 0.0007, accuracy_lgbm, accuracy_cb]\n",
    "train_times = [execution_time_rf.seconds, execution_time_hgbc.seconds, execution_time_xgb.seconds, execution_time_lgbm.seconds, execution_time_cb.seconds]"
   ]
  },
  {
   "cell_type": "code",
   "execution_count": 129,
   "id": "74584564",
   "metadata": {},
   "outputs": [
    {
     "data": {
      "image/png": "[encoded data removed]",
      "text/plain": [
       "<Figure size 432x288 with 1 Axes>"
      ]
     },
     "metadata": {
      "needs_background": "light"
     },
     "output_type": "display_data"
    }
   ],
   "source": [
    "plt.barh(models, accuracies)\n",
    "plt.xlim(0.98, 1) \n",
    "# setting label of y-axis\n",
    "plt.ylabel(\"model\")\n",
    " \n",
    "# setting label of x-axis\n",
    "plt.xlabel(\"accuracy\")\n",
    "plt.title(\"Model Accuracies\")\n",
    "\n",
    "for index, value in enumerate(accuracies):\n",
    "    plt.text(value, index, str(round(value, 4)))\n",
    "\n",
    "plt.show()"
   ]
  },
  {
   "cell_type": "code",
   "execution_count": 130,
   "id": "f7df182d",
   "metadata": {},
   "outputs": [
    {
     "data": {
      "image/png": "[encoded data removed]",
      "text/plain": [
       "<Figure size 432x288 with 1 Axes>"
      ]
     },
     "metadata": {
      "needs_background": "light"
     },
     "output_type": "display_data"
    }
   ],
   "source": [
    "plt.barh(models, train_times)\n",
    " \n",
    "# setting label of y-axis\n",
    "plt.ylabel(\"model\")\n",
    " \n",
    "# setting label of x-axis\n",
    "plt.xlabel(\"Training time\")\n",
    "plt.title(\"Model Training time\")\n",
    "\n",
    "for index, value in enumerate(train_times):\n",
    "    plt.text(value, index, str(round(value, 4)))\n",
    "\n",
    "plt.show()"
   ]
  },
  {
   "cell_type": "code",
   "execution_count": 131,
   "id": "08a4ba16",
   "metadata": {},
   "outputs": [
    {
     "name": "stdout",
     "output_type": "stream",
     "text": [
      "5 anomalous(spying)\n",
      "0 anomalous(DoSattack)\n",
      "1 anomalous(dataProbing)\n",
      "7 normal\n",
      "4 anomalous(scan)\n",
      "2 anomalous(malitiousControl)\n",
      "6 anomalous(wrongSetUp)\n",
      "3 anomalous(malitiousOperation)\n"
     ]
    }
   ],
   "source": [
    "z = []\n",
    "for i in range(len(y)):\n",
    "    z.append(str(y[i]) + ' ' + str(Labels[i]))\n",
    "    \n",
    "z2 = set(z)\n",
    "\n",
    "for i in z2:\n",
    "    print(i)"
   ]
  },
  {
   "cell_type": "code",
   "execution_count": null,
   "id": "5f177b18",
   "metadata": {},
   "outputs": [],
   "source": []
  }
 ],
 "metadata": {
  "kernelspec": {
   "display_name": "Python 3",
   "language": "python",
   "name": "python3"
  },
  "language_info": {
   "codemirror_mode": {
    "name": "ipython",
    "version": 3
   },
   "file_extension": ".py",
   "mimetype": "text/x-python",
   "name": "python",
   "nbconvert_exporter": "python",
   "pygments_lexer": "ipython3",
   "version": "3.7.11"
  }
 },
 "nbformat": 4,
 "nbformat_minor": 5
}
